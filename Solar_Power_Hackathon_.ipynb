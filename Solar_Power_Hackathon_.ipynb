{
  "nbformat": 4,
  "nbformat_minor": 0,
  "metadata": {
    "colab": {
      "provenance": [],
      "toc_visible": true
    },
    "kernelspec": {
      "name": "python3",
      "display_name": "Python 3"
    },
    "language_info": {
      "name": "python"
    }
  },
  "cells": [
    {
      "cell_type": "markdown",
      "source": [
        "# Introduction\n",
        "\n",
        "Objective: To analyze the coverage and equitable access to community solar facilities for different demographic communities in New Jersey and to propose new solar development sites to expand access to the New Jersey Community Solar Energy Program.\n",
        "\n",
        "https://solarhack.cloudevents.ai/"
      ],
      "metadata": {
        "id": "kMigMga78inC"
      }
    },
    {
      "cell_type": "markdown",
      "source": [
        "# Importing libraries"
      ],
      "metadata": {
        "id": "lTYPDw5R8t8j"
      }
    },
    {
      "cell_type": "code",
      "execution_count": null,
      "metadata": {
        "id": "ca30OrMyk6To"
      },
      "outputs": [],
      "source": [
        "#Importing libraries\n",
        "\n",
        "import pandas as pd\n",
        "import seaborn as sns\n",
        "from sklearn import tree\n",
        "import matplotlib.pyplot as plt \n",
        "import plotly.express as ex\n",
        "from sklearn.preprocessing import MinMaxScaler\n",
        "from sklearn.metrics import confusion_matrix, classification_report\n",
        "from sklearn.neighbors import KNeighborsClassifier\n",
        "from sklearn.model_selection import train_test_split\n",
        "import seaborn as sns\n",
        "from sklearn.preprocessing import LabelEncoder\n",
        "from sklearn.metrics import roc_auc_score\n",
        "from sklearn.model_selection import cross_val_score\n",
        "from sklearn.linear_model import LogisticRegression\n",
        "from sklearn.metrics import roc_auc_score\n",
        "from sklearn.metrics import roc_curve\n",
        "from sklearn.ensemble import RandomForestClassifier\n",
        "from google.colab import files\n",
        "import io\n",
        "import numpy as np \n",
        "from sklearn.neural_network import MLPClassifier\n",
        "from sklearn.naive_bayes import MultinomialNB \n",
        "from sklearn.metrics import plot_confusion_matrix\n",
        "from tensorflow.keras.models import Sequential\n",
        "from tensorflow.keras.layers import Dense,Activation,Dropout\n"
      ]
    },
    {
      "cell_type": "markdown",
      "source": [
        "# Loading data"
      ],
      "metadata": {
        "id": "S_HCo1HV8zSG"
      }
    },
    {
      "cell_type": "code",
      "source": [
        "from google.colab import drive\n",
        "drive.mount('/content/drive')\n"
      ],
      "metadata": {
        "colab": {
          "base_uri": "https://localhost:8080/"
        },
        "id": "ZUFftBuZTbji",
        "outputId": "b4d70850-cec4-4ff2-d03c-da640f80753b"
      },
      "execution_count": null,
      "outputs": [
        {
          "output_type": "stream",
          "name": "stdout",
          "text": [
            "Drive already mounted at /content/drive; to attempt to forcibly remount, call drive.mount(\"/content/drive\", force_remount=True).\n"
          ]
        }
      ]
    },
    {
      "cell_type": "code",
      "source": [
        "df_allstates = pd.read_csv('/content/drive/MyDrive/Hackathon/deepsolar_tract.csv',encoding = \"ISO-8859-1\")"
      ],
      "metadata": {
        "id": "6Rqs9yHqT4xT"
      },
      "execution_count": null,
      "outputs": []
    },
    {
      "cell_type": "code",
      "source": [
        "#Narrow it down to New Jersey only\n",
        "\n",
        "df= df_allstates.loc[df_allstates['state'] == 'nj']\n"
      ],
      "metadata": {
        "id": "tR_LQ_zIE34p"
      },
      "execution_count": null,
      "outputs": []
    },
    {
      "cell_type": "markdown",
      "source": [
        "# Exploratory Data Analysis"
      ],
      "metadata": {
        "id": "GNwjOI8m84ea"
      }
    },
    {
      "cell_type": "code",
      "source": [
        "#Checking data\n",
        "df.head()"
      ],
      "metadata": {
        "colab": {
          "base_uri": "https://localhost:8080/",
          "height": 404
        },
        "id": "8cP-dSbdF7Jh",
        "outputId": "4d601046-f10f-48b8-9d88-2101236a594f"
      },
      "execution_count": null,
      "outputs": [
        {
          "output_type": "execute_result",
          "data": {
            "text/plain": [
              "      Unnamed: 0  tile_count  solar_system_count  total_panel_area  \\\n",
              "7287        7287        49.0                38.0       1153.388772   \n",
              "7288        7288        62.0                28.0       3958.315174   \n",
              "7289        7289        22.0                 7.0       2156.017851   \n",
              "7290        7290        24.0                11.0       2008.577718   \n",
              "7291        7291        62.0                14.0       4091.980916   \n",
              "\n",
              "             fips  average_household_income         county  \\\n",
              "7287  34003017400             130417.956989  Bergen County   \n",
              "7288  34003017500              92363.794945  Bergen County   \n",
              "7289  34003048100             100944.211903  Bergen County   \n",
              "7290  34003027000             228957.243816  Bergen County   \n",
              "7291  34003028001             109512.817904  Bergen County   \n",
              "\n",
              "      education_bachelor  education_college  education_doctoral  ...  \\\n",
              "7287                1304                716                  82  ...   \n",
              "7288                1510               1613                  24  ...   \n",
              "7289                 869                611                  80  ...   \n",
              "7290                1406                387                  44  ...   \n",
              "7291                1382                649                  60  ...   \n",
              "\n",
              "      incentive_count_nonresidential  incentive_residential_state_level  \\\n",
              "7287                              27                                 12   \n",
              "7288                              27                                 12   \n",
              "7289                              27                                 12   \n",
              "7290                              27                                 12   \n",
              "7291                              27                                 12   \n",
              "\n",
              "      incentive_nonresidential_state_level  net_metering  feedin_tariff  \\\n",
              "7287                                    13            18              0   \n",
              "7288                                    13            18              0   \n",
              "7289                                    13            18              0   \n",
              "7290                                    13            18              0   \n",
              "7291                                    13            18              0   \n",
              "\n",
              "      cooperate_tax  property_tax  sales_tax  rebate  \\\n",
              "7287              0             9         37       1   \n",
              "7288              0             9         37       1   \n",
              "7289              0             9         37       1   \n",
              "7290              0             9         37       1   \n",
              "7291              0             9         37       1   \n",
              "\n",
              "      avg_electricity_retail_rate  \n",
              "7287                        13.69  \n",
              "7288                        13.69  \n",
              "7289                        13.69  \n",
              "7290                        13.69  \n",
              "7291                        13.69  \n",
              "\n",
              "[5 rows x 169 columns]"
            ],
            "text/html": [
              "\n",
              "  <div id=\"df-6a01415b-df41-48c2-8710-d795bd7a4368\">\n",
              "    <div class=\"colab-df-container\">\n",
              "      <div>\n",
              "<style scoped>\n",
              "    .dataframe tbody tr th:only-of-type {\n",
              "        vertical-align: middle;\n",
              "    }\n",
              "\n",
              "    .dataframe tbody tr th {\n",
              "        vertical-align: top;\n",
              "    }\n",
              "\n",
              "    .dataframe thead th {\n",
              "        text-align: right;\n",
              "    }\n",
              "</style>\n",
              "<table border=\"1\" class=\"dataframe\">\n",
              "  <thead>\n",
              "    <tr style=\"text-align: right;\">\n",
              "      <th></th>\n",
              "      <th>Unnamed: 0</th>\n",
              "      <th>tile_count</th>\n",
              "      <th>solar_system_count</th>\n",
              "      <th>total_panel_area</th>\n",
              "      <th>fips</th>\n",
              "      <th>average_household_income</th>\n",
              "      <th>county</th>\n",
              "      <th>education_bachelor</th>\n",
              "      <th>education_college</th>\n",
              "      <th>education_doctoral</th>\n",
              "      <th>...</th>\n",
              "      <th>incentive_count_nonresidential</th>\n",
              "      <th>incentive_residential_state_level</th>\n",
              "      <th>incentive_nonresidential_state_level</th>\n",
              "      <th>net_metering</th>\n",
              "      <th>feedin_tariff</th>\n",
              "      <th>cooperate_tax</th>\n",
              "      <th>property_tax</th>\n",
              "      <th>sales_tax</th>\n",
              "      <th>rebate</th>\n",
              "      <th>avg_electricity_retail_rate</th>\n",
              "    </tr>\n",
              "  </thead>\n",
              "  <tbody>\n",
              "    <tr>\n",
              "      <th>7287</th>\n",
              "      <td>7287</td>\n",
              "      <td>49.0</td>\n",
              "      <td>38.0</td>\n",
              "      <td>1153.388772</td>\n",
              "      <td>34003017400</td>\n",
              "      <td>130417.956989</td>\n",
              "      <td>Bergen County</td>\n",
              "      <td>1304</td>\n",
              "      <td>716</td>\n",
              "      <td>82</td>\n",
              "      <td>...</td>\n",
              "      <td>27</td>\n",
              "      <td>12</td>\n",
              "      <td>13</td>\n",
              "      <td>18</td>\n",
              "      <td>0</td>\n",
              "      <td>0</td>\n",
              "      <td>9</td>\n",
              "      <td>37</td>\n",
              "      <td>1</td>\n",
              "      <td>13.69</td>\n",
              "    </tr>\n",
              "    <tr>\n",
              "      <th>7288</th>\n",
              "      <td>7288</td>\n",
              "      <td>62.0</td>\n",
              "      <td>28.0</td>\n",
              "      <td>3958.315174</td>\n",
              "      <td>34003017500</td>\n",
              "      <td>92363.794945</td>\n",
              "      <td>Bergen County</td>\n",
              "      <td>1510</td>\n",
              "      <td>1613</td>\n",
              "      <td>24</td>\n",
              "      <td>...</td>\n",
              "      <td>27</td>\n",
              "      <td>12</td>\n",
              "      <td>13</td>\n",
              "      <td>18</td>\n",
              "      <td>0</td>\n",
              "      <td>0</td>\n",
              "      <td>9</td>\n",
              "      <td>37</td>\n",
              "      <td>1</td>\n",
              "      <td>13.69</td>\n",
              "    </tr>\n",
              "    <tr>\n",
              "      <th>7289</th>\n",
              "      <td>7289</td>\n",
              "      <td>22.0</td>\n",
              "      <td>7.0</td>\n",
              "      <td>2156.017851</td>\n",
              "      <td>34003048100</td>\n",
              "      <td>100944.211903</td>\n",
              "      <td>Bergen County</td>\n",
              "      <td>869</td>\n",
              "      <td>611</td>\n",
              "      <td>80</td>\n",
              "      <td>...</td>\n",
              "      <td>27</td>\n",
              "      <td>12</td>\n",
              "      <td>13</td>\n",
              "      <td>18</td>\n",
              "      <td>0</td>\n",
              "      <td>0</td>\n",
              "      <td>9</td>\n",
              "      <td>37</td>\n",
              "      <td>1</td>\n",
              "      <td>13.69</td>\n",
              "    </tr>\n",
              "    <tr>\n",
              "      <th>7290</th>\n",
              "      <td>7290</td>\n",
              "      <td>24.0</td>\n",
              "      <td>11.0</td>\n",
              "      <td>2008.577718</td>\n",
              "      <td>34003027000</td>\n",
              "      <td>228957.243816</td>\n",
              "      <td>Bergen County</td>\n",
              "      <td>1406</td>\n",
              "      <td>387</td>\n",
              "      <td>44</td>\n",
              "      <td>...</td>\n",
              "      <td>27</td>\n",
              "      <td>12</td>\n",
              "      <td>13</td>\n",
              "      <td>18</td>\n",
              "      <td>0</td>\n",
              "      <td>0</td>\n",
              "      <td>9</td>\n",
              "      <td>37</td>\n",
              "      <td>1</td>\n",
              "      <td>13.69</td>\n",
              "    </tr>\n",
              "    <tr>\n",
              "      <th>7291</th>\n",
              "      <td>7291</td>\n",
              "      <td>62.0</td>\n",
              "      <td>14.0</td>\n",
              "      <td>4091.980916</td>\n",
              "      <td>34003028001</td>\n",
              "      <td>109512.817904</td>\n",
              "      <td>Bergen County</td>\n",
              "      <td>1382</td>\n",
              "      <td>649</td>\n",
              "      <td>60</td>\n",
              "      <td>...</td>\n",
              "      <td>27</td>\n",
              "      <td>12</td>\n",
              "      <td>13</td>\n",
              "      <td>18</td>\n",
              "      <td>0</td>\n",
              "      <td>0</td>\n",
              "      <td>9</td>\n",
              "      <td>37</td>\n",
              "      <td>1</td>\n",
              "      <td>13.69</td>\n",
              "    </tr>\n",
              "  </tbody>\n",
              "</table>\n",
              "<p>5 rows × 169 columns</p>\n",
              "</div>\n",
              "      <button class=\"colab-df-convert\" onclick=\"convertToInteractive('df-6a01415b-df41-48c2-8710-d795bd7a4368')\"\n",
              "              title=\"Convert this dataframe to an interactive table.\"\n",
              "              style=\"display:none;\">\n",
              "        \n",
              "  <svg xmlns=\"http://www.w3.org/2000/svg\" height=\"24px\"viewBox=\"0 0 24 24\"\n",
              "       width=\"24px\">\n",
              "    <path d=\"M0 0h24v24H0V0z\" fill=\"none\"/>\n",
              "    <path d=\"M18.56 5.44l.94 2.06.94-2.06 2.06-.94-2.06-.94-.94-2.06-.94 2.06-2.06.94zm-11 1L8.5 8.5l.94-2.06 2.06-.94-2.06-.94L8.5 2.5l-.94 2.06-2.06.94zm10 10l.94 2.06.94-2.06 2.06-.94-2.06-.94-.94-2.06-.94 2.06-2.06.94z\"/><path d=\"M17.41 7.96l-1.37-1.37c-.4-.4-.92-.59-1.43-.59-.52 0-1.04.2-1.43.59L10.3 9.45l-7.72 7.72c-.78.78-.78 2.05 0 2.83L4 21.41c.39.39.9.59 1.41.59.51 0 1.02-.2 1.41-.59l7.78-7.78 2.81-2.81c.8-.78.8-2.07 0-2.86zM5.41 20L4 18.59l7.72-7.72 1.47 1.35L5.41 20z\"/>\n",
              "  </svg>\n",
              "      </button>\n",
              "      \n",
              "  <style>\n",
              "    .colab-df-container {\n",
              "      display:flex;\n",
              "      flex-wrap:wrap;\n",
              "      gap: 12px;\n",
              "    }\n",
              "\n",
              "    .colab-df-convert {\n",
              "      background-color: #E8F0FE;\n",
              "      border: none;\n",
              "      border-radius: 50%;\n",
              "      cursor: pointer;\n",
              "      display: none;\n",
              "      fill: #1967D2;\n",
              "      height: 32px;\n",
              "      padding: 0 0 0 0;\n",
              "      width: 32px;\n",
              "    }\n",
              "\n",
              "    .colab-df-convert:hover {\n",
              "      background-color: #E2EBFA;\n",
              "      box-shadow: 0px 1px 2px rgba(60, 64, 67, 0.3), 0px 1px 3px 1px rgba(60, 64, 67, 0.15);\n",
              "      fill: #174EA6;\n",
              "    }\n",
              "\n",
              "    [theme=dark] .colab-df-convert {\n",
              "      background-color: #3B4455;\n",
              "      fill: #D2E3FC;\n",
              "    }\n",
              "\n",
              "    [theme=dark] .colab-df-convert:hover {\n",
              "      background-color: #434B5C;\n",
              "      box-shadow: 0px 1px 3px 1px rgba(0, 0, 0, 0.15);\n",
              "      filter: drop-shadow(0px 1px 2px rgba(0, 0, 0, 0.3));\n",
              "      fill: #FFFFFF;\n",
              "    }\n",
              "  </style>\n",
              "\n",
              "      <script>\n",
              "        const buttonEl =\n",
              "          document.querySelector('#df-6a01415b-df41-48c2-8710-d795bd7a4368 button.colab-df-convert');\n",
              "        buttonEl.style.display =\n",
              "          google.colab.kernel.accessAllowed ? 'block' : 'none';\n",
              "\n",
              "        async function convertToInteractive(key) {\n",
              "          const element = document.querySelector('#df-6a01415b-df41-48c2-8710-d795bd7a4368');\n",
              "          const dataTable =\n",
              "            await google.colab.kernel.invokeFunction('convertToInteractive',\n",
              "                                                     [key], {});\n",
              "          if (!dataTable) return;\n",
              "\n",
              "          const docLinkHtml = 'Like what you see? Visit the ' +\n",
              "            '<a target=\"_blank\" href=https://colab.research.google.com/notebooks/data_table.ipynb>data table notebook</a>'\n",
              "            + ' to learn more about interactive tables.';\n",
              "          element.innerHTML = '';\n",
              "          dataTable['output_type'] = 'display_data';\n",
              "          await google.colab.output.renderOutput(dataTable, element);\n",
              "          const docLink = document.createElement('div');\n",
              "          docLink.innerHTML = docLinkHtml;\n",
              "          element.appendChild(docLink);\n",
              "        }\n",
              "      </script>\n",
              "    </div>\n",
              "  </div>\n",
              "  "
            ]
          },
          "metadata": {},
          "execution_count": 5
        }
      ]
    },
    {
      "cell_type": "markdown",
      "source": [
        "For our analysis we need to focus in New Jersey "
      ],
      "metadata": {
        "id": "9OLf2HG--ETk"
      }
    },
    {
      "cell_type": "markdown",
      "source": [
        "## Data set"
      ],
      "metadata": {
        "id": "i8Hd-ukD8-65"
      }
    },
    {
      "cell_type": "code",
      "source": [
        "#Checking dataset\n",
        "df.shape"
      ],
      "metadata": {
        "colab": {
          "base_uri": "https://localhost:8080/"
        },
        "id": "Ggjujzr9D-tQ",
        "outputId": "3877f480-87ba-465e-f530-5ac9b1962875"
      },
      "execution_count": null,
      "outputs": [
        {
          "output_type": "execute_result",
          "data": {
            "text/plain": [
              "(2010, 169)"
            ]
          },
          "metadata": {},
          "execution_count": 6
        }
      ]
    },
    {
      "cell_type": "markdown",
      "source": [
        "## Missing values"
      ],
      "metadata": {
        "id": "xhX0skLS9CMV"
      }
    },
    {
      "cell_type": "code",
      "source": [
        "# Explore missing values\n",
        "\n",
        "sns.heatmap(df.isnull(), cbar=False)"
      ],
      "metadata": {
        "id": "SPX-O1tQElbi",
        "colab": {
          "base_uri": "https://localhost:8080/",
          "height": 469
        },
        "outputId": "d38b4089-24b4-4e26-d8c4-6162aea3fa09"
      },
      "execution_count": null,
      "outputs": [
        {
          "output_type": "execute_result",
          "data": {
            "text/plain": [
              "<matplotlib.axes._subplots.AxesSubplot at 0x7feda3a99610>"
            ]
          },
          "metadata": {},
          "execution_count": 7
        },
        {
          "output_type": "display_data",
          "data": {
            "text/plain": [
              "<Figure size 432x288 with 1 Axes>"
            ],
            "image/png": "[encoded data removed]"
          },
          "metadata": {
            "needs_background": "light"
          }
        }
      ]
    },
    {
      "cell_type": "markdown",
      "source": [
        "We observe that our data have multiple columns with missing data"
      ],
      "metadata": {
        "id": "QFNewOsDcVA9"
      }
    },
    {
      "cell_type": "markdown",
      "source": [
        "## Duplicate rows"
      ],
      "metadata": {
        "id": "tkDIKzNR9GQH"
      }
    },
    {
      "cell_type": "code",
      "source": [
        "#Identify duplicate rows\n",
        "duplicateRows = df[df.duplicated(keep='last')]\n",
        "\n",
        "#view duplicate rows\n",
        "print(duplicateRows)"
      ],
      "metadata": {
        "id": "AGy2Yt6evFue",
        "colab": {
          "base_uri": "https://localhost:8080/"
        },
        "outputId": "17ef60dc-094a-4a4c-e588-8ab53db545ae"
      },
      "execution_count": null,
      "outputs": [
        {
          "output_type": "stream",
          "name": "stdout",
          "text": [
            "Empty DataFrame\n",
            "Columns: [Unnamed: 0, tile_count, solar_system_count, total_panel_area, fips, average_household_income, county, education_bachelor, education_college, education_doctoral, education_high_school_graduate, education_less_than_high_school, education_master, education_population, education_professional_school, employed, gini_index, heating_fuel_coal_coke, heating_fuel_electricity, heating_fuel_fuel_oil_kerosene, heating_fuel_gas, heating_fuel_housing_unit_count, heating_fuel_none, heating_fuel_other, heating_fuel_solar, land_area, per_capita_income, population, population_density, poverty_family_below_poverty_level, poverty_family_count, race_asian, race_black_africa, race_indian_alaska, race_islander, race_other, race_two_more, race_white, state, total_area, unemployed, water_area, education_less_than_high_school_rate, education_high_school_graduate_rate, education_college_rate, education_bachelor_rate, education_master_rate, education_professional_school_rate, education_doctoral_rate, race_white_rate, race_black_africa_rate, race_indian_alaska_rate, race_asian_rate, race_islander_rate, race_other_rate, race_two_more_rate, employ_rate, poverty_family_below_poverty_level_rate, heating_fuel_gas_rate, heating_fuel_electricity_rate, heating_fuel_fuel_oil_kerosene_rate, heating_fuel_coal_coke_rate, heating_fuel_solar_rate, heating_fuel_other_rate, heating_fuel_none_rate, solar_panel_area_divided_by_area, solar_panel_area_per_capita, tile_count_residential, tile_count_nonresidential, solar_system_count_residential, solar_system_count_nonresidential, total_panel_area_residential, total_panel_area_nonresidential, median_household_income, electricity_price_residential, electricity_price_commercial, electricity_price_industrial, electricity_price_transportation, electricity_price_overall, electricity_consume_residential, electricity_consume_commercial, electricity_consume_industrial, electricity_consume_total, household_count, average_household_size, housing_unit_count, housing_unit_occupied_count, housing_unit_median_value, housing_unit_median_gross_rent, lat, lon, elevation, heating_design_temperature, cooling_design_temperature, earth_temperature_amplitude, frost_days, air_temperature, relative_humidity, daily_solar_radiation, atmospheric_pressure, ...]\n",
            "Index: []\n",
            "\n",
            "[0 rows x 169 columns]\n"
          ]
        }
      ]
    },
    {
      "cell_type": "markdown",
      "source": [
        "We have not find any duplicate"
      ],
      "metadata": {
        "id": "RUs3DnAUvjJk"
      }
    },
    {
      "cell_type": "code",
      "source": [
        "# Dropping unnmaed column and state\n",
        "\n",
        "df = df.drop(['Unnamed: 0', 'state'], axis=1)"
      ],
      "metadata": {
        "id": "Eu_eH0Iyz3XR"
      },
      "execution_count": null,
      "outputs": []
    },
    {
      "cell_type": "code",
      "source": [
        "# Descriptive statistics\n",
        "df.describe().transpose()"
      ],
      "metadata": {
        "id": "8SfXbFA3u9lf",
        "colab": {
          "base_uri": "https://localhost:8080/",
          "height": 424
        },
        "outputId": "1b074aea-6261-43eb-cc10-0bee10e6bde2"
      },
      "execution_count": null,
      "outputs": [
        {
          "output_type": "execute_result",
          "data": {
            "text/plain": [
              "                              count          mean           std           min  \\\n",
              "tile_count                   2010.0  6.565174e+01  1.059497e+02  0.000000e+00   \n",
              "solar_system_count           2010.0  2.971891e+01  3.912555e+01  0.000000e+00   \n",
              "total_panel_area             2010.0  4.506840e+03  1.214197e+04  0.000000e+00   \n",
              "fips                         2010.0  3.401929e+10  1.127824e+07  3.400100e+10   \n",
              "average_household_income     1993.0  9.640193e+04  4.714327e+04  2.083709e+04   \n",
              "...                             ...           ...           ...           ...   \n",
              "cooperate_tax                2010.0  0.000000e+00  0.000000e+00  0.000000e+00   \n",
              "property_tax                 2010.0  9.000000e+00  0.000000e+00  9.000000e+00   \n",
              "sales_tax                    2010.0  3.700000e+01  0.000000e+00  3.700000e+01   \n",
              "rebate                       2010.0  1.000000e+00  0.000000e+00  1.000000e+00   \n",
              "avg_electricity_retail_rate  2010.0  1.369000e+01  1.776799e-15  1.369000e+01   \n",
              "\n",
              "                                      25%           50%           75%  \\\n",
              "tile_count                   9.000000e+00  2.950000e+01  7.800000e+01   \n",
              "solar_system_count           5.000000e+00  1.600000e+01  4.000000e+01   \n",
              "total_panel_area             2.614846e+02  1.009578e+03  3.387193e+03   \n",
              "fips                         3.400902e+10  3.401901e+10  3.402705e+10   \n",
              "average_household_income     6.464728e+04  8.648441e+04  1.155644e+05   \n",
              "...                                   ...           ...           ...   \n",
              "cooperate_tax                0.000000e+00  0.000000e+00  0.000000e+00   \n",
              "property_tax                 9.000000e+00  9.000000e+00  9.000000e+00   \n",
              "sales_tax                    3.700000e+01  3.700000e+01  3.700000e+01   \n",
              "rebate                       1.000000e+00  1.000000e+00  1.000000e+00   \n",
              "avg_electricity_retail_rate  1.369000e+01  1.369000e+01  1.369000e+01   \n",
              "\n",
              "                                      max  \n",
              "tile_count                   1.114000e+03  \n",
              "solar_system_count           5.900000e+02  \n",
              "total_panel_area             1.664876e+05  \n",
              "fips                         3.404103e+10  \n",
              "average_household_income     3.884175e+05  \n",
              "...                                   ...  \n",
              "cooperate_tax                0.000000e+00  \n",
              "property_tax                 9.000000e+00  \n",
              "sales_tax                    3.700000e+01  \n",
              "rebate                       1.000000e+00  \n",
              "avg_electricity_retail_rate  1.369000e+01  \n",
              "\n",
              "[163 rows x 8 columns]"
            ],
            "text/html": [
              "\n",
              "  <div id=\"df-9905de95-21bd-4d79-99bd-2a4c12d2676d\">\n",
              "    <div class=\"colab-df-container\">\n",
              "      <div>\n",
              "<style scoped>\n",
              "    .dataframe tbody tr th:only-of-type {\n",
              "        vertical-align: middle;\n",
              "    }\n",
              "\n",
              "    .dataframe tbody tr th {\n",
              "        vertical-align: top;\n",
              "    }\n",
              "\n",
              "    .dataframe thead th {\n",
              "        text-align: right;\n",
              "    }\n",
              "</style>\n",
              "<table border=\"1\" class=\"dataframe\">\n",
              "  <thead>\n",
              "    <tr style=\"text-align: right;\">\n",
              "      <th></th>\n",
              "      <th>count</th>\n",
              "      <th>mean</th>\n",
              "      <th>std</th>\n",
              "      <th>min</th>\n",
              "      <th>25%</th>\n",
              "      <th>50%</th>\n",
              "      <th>75%</th>\n",
              "      <th>max</th>\n",
              "    </tr>\n",
              "  </thead>\n",
              "  <tbody>\n",
              "    <tr>\n",
              "      <th>tile_count</th>\n",
              "      <td>2010.0</td>\n",
              "      <td>6.565174e+01</td>\n",
              "      <td>1.059497e+02</td>\n",
              "      <td>0.000000e+00</td>\n",
              "      <td>9.000000e+00</td>\n",
              "      <td>2.950000e+01</td>\n",
              "      <td>7.800000e+01</td>\n",
              "      <td>1.114000e+03</td>\n",
              "    </tr>\n",
              "    <tr>\n",
              "      <th>solar_system_count</th>\n",
              "      <td>2010.0</td>\n",
              "      <td>2.971891e+01</td>\n",
              "      <td>3.912555e+01</td>\n",
              "      <td>0.000000e+00</td>\n",
              "      <td>5.000000e+00</td>\n",
              "      <td>1.600000e+01</td>\n",
              "      <td>4.000000e+01</td>\n",
              "      <td>5.900000e+02</td>\n",
              "    </tr>\n",
              "    <tr>\n",
              "      <th>total_panel_area</th>\n",
              "      <td>2010.0</td>\n",
              "      <td>4.506840e+03</td>\n",
              "      <td>1.214197e+04</td>\n",
              "      <td>0.000000e+00</td>\n",
              "      <td>2.614846e+02</td>\n",
              "      <td>1.009578e+03</td>\n",
              "      <td>3.387193e+03</td>\n",
              "      <td>1.664876e+05</td>\n",
              "    </tr>\n",
              "    <tr>\n",
              "      <th>fips</th>\n",
              "      <td>2010.0</td>\n",
              "      <td>3.401929e+10</td>\n",
              "      <td>1.127824e+07</td>\n",
              "      <td>3.400100e+10</td>\n",
              "      <td>3.400902e+10</td>\n",
              "      <td>3.401901e+10</td>\n",
              "      <td>3.402705e+10</td>\n",
              "      <td>3.404103e+10</td>\n",
              "    </tr>\n",
              "    <tr>\n",
              "      <th>average_household_income</th>\n",
              "      <td>1993.0</td>\n",
              "      <td>9.640193e+04</td>\n",
              "      <td>4.714327e+04</td>\n",
              "      <td>2.083709e+04</td>\n",
              "      <td>6.464728e+04</td>\n",
              "      <td>8.648441e+04</td>\n",
              "      <td>1.155644e+05</td>\n",
              "      <td>3.884175e+05</td>\n",
              "    </tr>\n",
              "    <tr>\n",
              "      <th>...</th>\n",
              "      <td>...</td>\n",
              "      <td>...</td>\n",
              "      <td>...</td>\n",
              "      <td>...</td>\n",
              "      <td>...</td>\n",
              "      <td>...</td>\n",
              "      <td>...</td>\n",
              "      <td>...</td>\n",
              "    </tr>\n",
              "    <tr>\n",
              "      <th>cooperate_tax</th>\n",
              "      <td>2010.0</td>\n",
              "      <td>0.000000e+00</td>\n",
              "      <td>0.000000e+00</td>\n",
              "      <td>0.000000e+00</td>\n",
              "      <td>0.000000e+00</td>\n",
              "      <td>0.000000e+00</td>\n",
              "      <td>0.000000e+00</td>\n",
              "      <td>0.000000e+00</td>\n",
              "    </tr>\n",
              "    <tr>\n",
              "      <th>property_tax</th>\n",
              "      <td>2010.0</td>\n",
              "      <td>9.000000e+00</td>\n",
              "      <td>0.000000e+00</td>\n",
              "      <td>9.000000e+00</td>\n",
              "      <td>9.000000e+00</td>\n",
              "      <td>9.000000e+00</td>\n",
              "      <td>9.000000e+00</td>\n",
              "      <td>9.000000e+00</td>\n",
              "    </tr>\n",
              "    <tr>\n",
              "      <th>sales_tax</th>\n",
              "      <td>2010.0</td>\n",
              "      <td>3.700000e+01</td>\n",
              "      <td>0.000000e+00</td>\n",
              "      <td>3.700000e+01</td>\n",
              "      <td>3.700000e+01</td>\n",
              "      <td>3.700000e+01</td>\n",
              "      <td>3.700000e+01</td>\n",
              "      <td>3.700000e+01</td>\n",
              "    </tr>\n",
              "    <tr>\n",
              "      <th>rebate</th>\n",
              "      <td>2010.0</td>\n",
              "      <td>1.000000e+00</td>\n",
              "      <td>0.000000e+00</td>\n",
              "      <td>1.000000e+00</td>\n",
              "      <td>1.000000e+00</td>\n",
              "      <td>1.000000e+00</td>\n",
              "      <td>1.000000e+00</td>\n",
              "      <td>1.000000e+00</td>\n",
              "    </tr>\n",
              "    <tr>\n",
              "      <th>avg_electricity_retail_rate</th>\n",
              "      <td>2010.0</td>\n",
              "      <td>1.369000e+01</td>\n",
              "      <td>1.776799e-15</td>\n",
              "      <td>1.369000e+01</td>\n",
              "      <td>1.369000e+01</td>\n",
              "      <td>1.369000e+01</td>\n",
              "      <td>1.369000e+01</td>\n",
              "      <td>1.369000e+01</td>\n",
              "    </tr>\n",
              "  </tbody>\n",
              "</table>\n",
              "<p>163 rows × 8 columns</p>\n",
              "</div>\n",
              "      <button class=\"colab-df-convert\" onclick=\"convertToInteractive('df-9905de95-21bd-4d79-99bd-2a4c12d2676d')\"\n",
              "              title=\"Convert this dataframe to an interactive table.\"\n",
              "              style=\"display:none;\">\n",
              "        \n",
              "  <svg xmlns=\"http://www.w3.org/2000/svg\" height=\"24px\"viewBox=\"0 0 24 24\"\n",
              "       width=\"24px\">\n",
              "    <path d=\"M0 0h24v24H0V0z\" fill=\"none\"/>\n",
              "    <path d=\"M18.56 5.44l.94 2.06.94-2.06 2.06-.94-2.06-.94-.94-2.06-.94 2.06-2.06.94zm-11 1L8.5 8.5l.94-2.06 2.06-.94-2.06-.94L8.5 2.5l-.94 2.06-2.06.94zm10 10l.94 2.06.94-2.06 2.06-.94-2.06-.94-.94-2.06-.94 2.06-2.06.94z\"/><path d=\"M17.41 7.96l-1.37-1.37c-.4-.4-.92-.59-1.43-.59-.52 0-1.04.2-1.43.59L10.3 9.45l-7.72 7.72c-.78.78-.78 2.05 0 2.83L4 21.41c.39.39.9.59 1.41.59.51 0 1.02-.2 1.41-.59l7.78-7.78 2.81-2.81c.8-.78.8-2.07 0-2.86zM5.41 20L4 18.59l7.72-7.72 1.47 1.35L5.41 20z\"/>\n",
              "  </svg>\n",
              "      </button>\n",
              "      \n",
              "  <style>\n",
              "    .colab-df-container {\n",
              "      display:flex;\n",
              "      flex-wrap:wrap;\n",
              "      gap: 12px;\n",
              "    }\n",
              "\n",
              "    .colab-df-convert {\n",
              "      background-color: #E8F0FE;\n",
              "      border: none;\n",
              "      border-radius: 50%;\n",
              "      cursor: pointer;\n",
              "      display: none;\n",
              "      fill: #1967D2;\n",
              "      height: 32px;\n",
              "      padding: 0 0 0 0;\n",
              "      width: 32px;\n",
              "    }\n",
              "\n",
              "    .colab-df-convert:hover {\n",
              "      background-color: #E2EBFA;\n",
              "      box-shadow: 0px 1px 2px rgba(60, 64, 67, 0.3), 0px 1px 3px 1px rgba(60, 64, 67, 0.15);\n",
              "      fill: #174EA6;\n",
              "    }\n",
              "\n",
              "    [theme=dark] .colab-df-convert {\n",
              "      background-color: #3B4455;\n",
              "      fill: #D2E3FC;\n",
              "    }\n",
              "\n",
              "    [theme=dark] .colab-df-convert:hover {\n",
              "      background-color: #434B5C;\n",
              "      box-shadow: 0px 1px 3px 1px rgba(0, 0, 0, 0.15);\n",
              "      filter: drop-shadow(0px 1px 2px rgba(0, 0, 0, 0.3));\n",
              "      fill: #FFFFFF;\n",
              "    }\n",
              "  </style>\n",
              "\n",
              "      <script>\n",
              "        const buttonEl =\n",
              "          document.querySelector('#df-9905de95-21bd-4d79-99bd-2a4c12d2676d button.colab-df-convert');\n",
              "        buttonEl.style.display =\n",
              "          google.colab.kernel.accessAllowed ? 'block' : 'none';\n",
              "\n",
              "        async function convertToInteractive(key) {\n",
              "          const element = document.querySelector('#df-9905de95-21bd-4d79-99bd-2a4c12d2676d');\n",
              "          const dataTable =\n",
              "            await google.colab.kernel.invokeFunction('convertToInteractive',\n",
              "                                                     [key], {});\n",
              "          if (!dataTable) return;\n",
              "\n",
              "          const docLinkHtml = 'Like what you see? Visit the ' +\n",
              "            '<a target=\"_blank\" href=https://colab.research.google.com/notebooks/data_table.ipynb>data table notebook</a>'\n",
              "            + ' to learn more about interactive tables.';\n",
              "          element.innerHTML = '';\n",
              "          dataTable['output_type'] = 'display_data';\n",
              "          await google.colab.output.renderOutput(dataTable, element);\n",
              "          const docLink = document.createElement('div');\n",
              "          docLink.innerHTML = docLinkHtml;\n",
              "          element.appendChild(docLink);\n",
              "        }\n",
              "      </script>\n",
              "    </div>\n",
              "  </div>\n",
              "  "
            ]
          },
          "metadata": {},
          "execution_count": 10
        }
      ]
    },
    {
      "cell_type": "markdown",
      "metadata": {
        "id": "JPw5GPoHdRok"
      },
      "source": [
        "## Dropping Numerical Variables with Zero variance"
      ]
    },
    {
      "cell_type": "code",
      "execution_count": null,
      "metadata": {
        "scrolled": true,
        "id": "ROrv7ch5dRon",
        "outputId": "8b4cedd0-912b-4a8f-a02d-a8d2e387b474",
        "colab": {
          "base_uri": "https://localhost:8080/"
        }
      },
      "outputs": [
        {
          "output_type": "stream",
          "name": "stderr",
          "text": [
            "/usr/local/lib/python3.7/dist-packages/ipykernel_launcher.py:2: FutureWarning: Dropping of nuisance columns in DataFrame reductions (with 'numeric_only=None') is deprecated; in a future version this will raise TypeError.  Select only valid columns before calling the reduction.\n",
            "  \n"
          ]
        },
        {
          "output_type": "execute_result",
          "data": {
            "text/plain": [
              "tile_count                     1.059497e+02\n",
              "solar_system_count             3.912555e+01\n",
              "total_panel_area               1.214197e+04\n",
              "fips                           1.127824e+07\n",
              "average_household_income       4.714327e+04\n",
              "                                   ...     \n",
              "cooperate_tax                  0.000000e+00\n",
              "property_tax                   0.000000e+00\n",
              "sales_tax                      0.000000e+00\n",
              "rebate                         0.000000e+00\n",
              "avg_electricity_retail_rate    1.776799e-15\n",
              "Length: 165, dtype: float64"
            ]
          },
          "metadata": {},
          "execution_count": 11
        }
      ],
      "source": [
        "# Checks if there is any variables with zero variance\n",
        "df.std()"
      ]
    },
    {
      "cell_type": "code",
      "execution_count": null,
      "metadata": {
        "id": "-58LDjjfdRoo",
        "outputId": "594e0102-58f5-4fba-a0ba-089165112912",
        "colab": {
          "base_uri": "https://localhost:8080/"
        }
      },
      "outputs": [
        {
          "output_type": "stream",
          "name": "stderr",
          "text": [
            "/usr/local/lib/python3.7/dist-packages/ipykernel_launcher.py:2: FutureWarning: Dropping of nuisance columns in DataFrame reductions (with 'numeric_only=None') is deprecated; in a future version this will raise TypeError.  Select only valid columns before calling the reduction.\n",
            "  \n"
          ]
        }
      ],
      "source": [
        "# Drops variables with 0 variance\n",
        "df = df.drop(df.std()[df.std() == 0].index, axis = 1) "
      ]
    },
    {
      "cell_type": "code",
      "source": [
        "#Checking dataset\n",
        "df.shape"
      ],
      "metadata": {
        "colab": {
          "base_uri": "https://localhost:8080/"
        },
        "id": "WmThADVeMi-6",
        "outputId": "41ba999d-4d11-466c-c7c6-3cc1e1e60216"
      },
      "execution_count": null,
      "outputs": [
        {
          "output_type": "execute_result",
          "data": {
            "text/plain": [
              "(2010, 152)"
            ]
          },
          "metadata": {},
          "execution_count": 13
        }
      ]
    },
    {
      "cell_type": "markdown",
      "source": [
        "## Dropping Categorical Variables with Zero variance"
      ],
      "metadata": {
        "id": "7MWBOxXhl27B"
      }
    },
    {
      "cell_type": "code",
      "execution_count": null,
      "metadata": {
        "id": "JjjuZ6X1dRop"
      },
      "outputs": [],
      "source": [
        "# Identifying categorical variable\n",
        "categorical_var = list(set(df.dtypes[df.dtypes == object].index))"
      ]
    },
    {
      "cell_type": "code",
      "execution_count": null,
      "metadata": {
        "id": "mZqVvwK1dRoq",
        "outputId": "0cd67656-98db-45f2-f749-306209b361b1",
        "colab": {
          "base_uri": "https://localhost:8080/"
        }
      },
      "outputs": [
        {
          "output_type": "execute_result",
          "data": {
            "text/plain": [
              "['county', 'electricity_price_transportation']"
            ]
          },
          "metadata": {},
          "execution_count": 15
        }
      ],
      "source": [
        "categorical_var"
      ]
    },
    {
      "cell_type": "code",
      "source": [
        "# Access the first 5 rows of the electricity \n",
        "\n",
        "df['electricity_price_transportation'][:5] "
      ],
      "metadata": {
        "colab": {
          "base_uri": "https://localhost:8080/"
        },
        "id": "hvRG8kZopJDa",
        "outputId": "df012467-d649-40cd-d709-95509780b328"
      },
      "execution_count": null,
      "outputs": [
        {
          "output_type": "execute_result",
          "data": {
            "text/plain": [
              "7287    10.25\n",
              "7288    10.25\n",
              "7289    10.25\n",
              "7290    10.25\n",
              "7291    10.25\n",
              "Name: electricity_price_transportation, dtype: object"
            ]
          },
          "metadata": {},
          "execution_count": 16
        }
      ]
    },
    {
      "cell_type": "markdown",
      "source": [
        "This is not a categorical variable so we proceed to convert it into float"
      ],
      "metadata": {
        "id": "g_yzz7OPK-L3"
      }
    },
    {
      "cell_type": "code",
      "source": [
        "#Converting electricity price into float\n",
        "df[\"electricity_price_transportation\"] = pd.to_numeric(df[\"electricity_price_transportation\"], errors='coerce')"
      ],
      "metadata": {
        "id": "Y9We8XWOp5c9"
      },
      "execution_count": null,
      "outputs": []
    },
    {
      "cell_type": "code",
      "source": [
        "# Identifying categorical variable\n",
        "categorical_var = list(set(df.dtypes[df.dtypes == object].index))\n",
        "categorical_var"
      ],
      "metadata": {
        "colab": {
          "base_uri": "https://localhost:8080/"
        },
        "id": "ttyRiag2rfg0",
        "outputId": "4bbbb6fa-3a73-4de6-8739-acd779a990c8"
      },
      "execution_count": null,
      "outputs": [
        {
          "output_type": "execute_result",
          "data": {
            "text/plain": [
              "['county']"
            ]
          },
          "metadata": {},
          "execution_count": 18
        }
      ]
    },
    {
      "cell_type": "code",
      "execution_count": null,
      "metadata": {
        "id": "TbHcxBuzdRoq"
      },
      "outputs": [],
      "source": [
        "# Creates an empty list for categorical variables with zero variation\n",
        "zero_cardinality = [] \n",
        "\n",
        "for i in categorical_var: # for each categorical variables\n",
        "    if len(df[i].value_counts().index) == 1: # check how many levels it has and if it is one\n",
        "        zero_cardinality.append(i) # the variable has zero variance as the cardinality is one \n",
        "        # append it to the list of categorical variables with zero variation\n",
        "        \n",
        "df = df.drop(zero_cardinality, axis = 1) # drops variables with 0 variance"
      ]
    },
    {
      "cell_type": "code",
      "source": [
        "#Checking dataset\n",
        "df.shape"
      ],
      "metadata": {
        "colab": {
          "base_uri": "https://localhost:8080/"
        },
        "id": "gRWSuXH9MqkM",
        "outputId": "f95d627f-cc8f-4b3c-fd55-0284e769d967"
      },
      "execution_count": null,
      "outputs": [
        {
          "output_type": "execute_result",
          "data": {
            "text/plain": [
              "(2010, 152)"
            ]
          },
          "metadata": {},
          "execution_count": 20
        }
      ]
    },
    {
      "cell_type": "markdown",
      "metadata": {
        "id": "6CfsTahMdRor"
      },
      "source": [
        "## Dropping Categorical Variables with Many Levels"
      ]
    },
    {
      "cell_type": "code",
      "execution_count": null,
      "metadata": {
        "id": "pFymOes-dRor",
        "outputId": "b23d5ac7-1972-4f3c-ce7a-dd02b34e30ab",
        "colab": {
          "base_uri": "https://localhost:8080/"
        }
      },
      "outputs": [
        {
          "output_type": "stream",
          "name": "stdout",
          "text": [
            "[]\n"
          ]
        }
      ],
      "source": [
        "# Creates a list of categorical variables with high cardinality\n",
        "high_cardinality = [] \n",
        "\n",
        "for i in categorical_var: # for each categorical variables\n",
        "    if len(df[i].value_counts().index) > 200: # check how many levels it has and if it is more\n",
        "        high_cardinality.append(i) # than 200, variable has many levels\n",
        "        # so append it to the list of categorical variables with high cardinality\n",
        "        \n",
        "print(high_cardinality) # Prints the list of variables with high cardinality"
      ]
    },
    {
      "cell_type": "markdown",
      "source": [
        "None of them have many level"
      ],
      "metadata": {
        "id": "owM-N15cmNNW"
      }
    },
    {
      "cell_type": "markdown",
      "source": [
        "## Handling missing values\n"
      ],
      "metadata": {
        "id": "Cqv20Ncmmln1"
      }
    },
    {
      "cell_type": "code",
      "source": [
        "numerical_var = list(df.select_dtypes(exclude = 'object').columns)\n",
        "numerical_var"
      ],
      "metadata": {
        "colab": {
          "base_uri": "https://localhost:8080/"
        },
        "id": "8zZa9OqpKnOO",
        "outputId": "42a73022-6068-4386-c700-9f47d45e5e3b"
      },
      "execution_count": null,
      "outputs": [
        {
          "output_type": "execute_result",
          "data": {
            "text/plain": [
              "['tile_count',\n",
              " 'solar_system_count',\n",
              " 'total_panel_area',\n",
              " 'fips',\n",
              " 'average_household_income',\n",
              " 'education_bachelor',\n",
              " 'education_college',\n",
              " 'education_doctoral',\n",
              " 'education_high_school_graduate',\n",
              " 'education_less_than_high_school',\n",
              " 'education_master',\n",
              " 'education_population',\n",
              " 'education_professional_school',\n",
              " 'employed',\n",
              " 'gini_index',\n",
              " 'heating_fuel_coal_coke',\n",
              " 'heating_fuel_electricity',\n",
              " 'heating_fuel_fuel_oil_kerosene',\n",
              " 'heating_fuel_gas',\n",
              " 'heating_fuel_housing_unit_count',\n",
              " 'heating_fuel_none',\n",
              " 'heating_fuel_other',\n",
              " 'heating_fuel_solar',\n",
              " 'land_area',\n",
              " 'per_capita_income',\n",
              " 'population',\n",
              " 'population_density',\n",
              " 'poverty_family_below_poverty_level',\n",
              " 'poverty_family_count',\n",
              " 'race_asian',\n",
              " 'race_black_africa',\n",
              " 'race_indian_alaska',\n",
              " 'race_islander',\n",
              " 'race_other',\n",
              " 'race_two_more',\n",
              " 'race_white',\n",
              " 'total_area',\n",
              " 'unemployed',\n",
              " 'water_area',\n",
              " 'education_less_than_high_school_rate',\n",
              " 'education_high_school_graduate_rate',\n",
              " 'education_college_rate',\n",
              " 'education_bachelor_rate',\n",
              " 'education_master_rate',\n",
              " 'education_professional_school_rate',\n",
              " 'education_doctoral_rate',\n",
              " 'race_white_rate',\n",
              " 'race_black_africa_rate',\n",
              " 'race_indian_alaska_rate',\n",
              " 'race_asian_rate',\n",
              " 'race_islander_rate',\n",
              " 'race_other_rate',\n",
              " 'race_two_more_rate',\n",
              " 'employ_rate',\n",
              " 'poverty_family_below_poverty_level_rate',\n",
              " 'heating_fuel_gas_rate',\n",
              " 'heating_fuel_electricity_rate',\n",
              " 'heating_fuel_fuel_oil_kerosene_rate',\n",
              " 'heating_fuel_coal_coke_rate',\n",
              " 'heating_fuel_solar_rate',\n",
              " 'heating_fuel_other_rate',\n",
              " 'heating_fuel_none_rate',\n",
              " 'solar_panel_area_divided_by_area',\n",
              " 'solar_panel_area_per_capita',\n",
              " 'tile_count_residential',\n",
              " 'tile_count_nonresidential',\n",
              " 'solar_system_count_residential',\n",
              " 'solar_system_count_nonresidential',\n",
              " 'total_panel_area_residential',\n",
              " 'total_panel_area_nonresidential',\n",
              " 'median_household_income',\n",
              " 'electricity_price_residential',\n",
              " 'electricity_price_commercial',\n",
              " 'electricity_price_industrial',\n",
              " 'electricity_price_transportation',\n",
              " 'household_count',\n",
              " 'average_household_size',\n",
              " 'housing_unit_count',\n",
              " 'housing_unit_occupied_count',\n",
              " 'housing_unit_median_value',\n",
              " 'housing_unit_median_gross_rent',\n",
              " 'lat',\n",
              " 'lon',\n",
              " 'elevation',\n",
              " 'heating_design_temperature',\n",
              " 'cooling_design_temperature',\n",
              " 'earth_temperature_amplitude',\n",
              " 'frost_days',\n",
              " 'air_temperature',\n",
              " 'relative_humidity',\n",
              " 'daily_solar_radiation',\n",
              " 'atmospheric_pressure',\n",
              " 'wind_speed',\n",
              " 'earth_temperature',\n",
              " 'heating_degree_days',\n",
              " 'cooling_degree_days',\n",
              " 'age_18_24_rate',\n",
              " 'age_25_34_rate',\n",
              " 'age_more_than_85_rate',\n",
              " 'age_75_84_rate',\n",
              " 'age_35_44_rate',\n",
              " 'age_45_54_rate',\n",
              " 'age_65_74_rate',\n",
              " 'age_55_64_rate',\n",
              " 'age_10_14_rate',\n",
              " 'age_15_17_rate',\n",
              " 'age_5_9_rate',\n",
              " 'household_type_family_rate',\n",
              " 'dropout_16_19_inschool_rate',\n",
              " 'occupation_construction_rate',\n",
              " 'occupation_public_rate',\n",
              " 'occupation_information_rate',\n",
              " 'occupation_finance_rate',\n",
              " 'occupation_education_rate',\n",
              " 'occupation_administrative_rate',\n",
              " 'occupation_manufacturing_rate',\n",
              " 'occupation_wholesale_rate',\n",
              " 'occupation_retail_rate',\n",
              " 'occupation_transportation_rate',\n",
              " 'occupation_arts_rate',\n",
              " 'occupation_agriculture_rate',\n",
              " 'occupancy_vacant_rate',\n",
              " 'occupancy_owner_rate',\n",
              " 'mortgage_with_rate',\n",
              " 'transportation_home_rate',\n",
              " 'transportation_car_alone_rate',\n",
              " 'transportation_walk_rate',\n",
              " 'transportation_carpool_rate',\n",
              " 'transportation_motorcycle_rate',\n",
              " 'transportation_bicycle_rate',\n",
              " 'transportation_public_rate',\n",
              " 'travel_time_less_than_10_rate',\n",
              " 'travel_time_10_19_rate',\n",
              " 'travel_time_20_29_rate',\n",
              " 'travel_time_30_39_rate',\n",
              " 'travel_time_40_59_rate',\n",
              " 'travel_time_60_89_rate',\n",
              " 'health_insurance_public_rate',\n",
              " 'health_insurance_none_rate',\n",
              " 'age_median',\n",
              " 'travel_time_average',\n",
              " 'voting_2016_dem_percentage',\n",
              " 'voting_2016_gop_percentage',\n",
              " 'voting_2016_dem_win',\n",
              " 'voting_2012_dem_percentage',\n",
              " 'voting_2012_gop_percentage',\n",
              " 'voting_2012_dem_win',\n",
              " 'number_of_years_of_education',\n",
              " 'diversity',\n",
              " 'number_of_solar_system_per_household',\n",
              " 'avg_electricity_retail_rate']"
            ]
          },
          "metadata": {},
          "execution_count": 22
        }
      ]
    },
    {
      "cell_type": "code",
      "source": [
        "categorical_var = list(df.select_dtypes(include = 'object').columns)\n",
        "\n",
        "# Fills in the missing values in numerical columns with median\n",
        "# and overwrites the result into the esxisting dataset\n",
        "df[numerical_var] = df[numerical_var].fillna(df[numerical_var].median(), \n",
        "                                             inplace = False)\n",
        "\n",
        "# Fills in the missing values in numerical columns with mode\n",
        "# and overwrites the result into the esxisting dataset\n",
        "df[categorical_var] = df[categorical_var].fillna(df[categorical_var].mode(), \n",
        "                                                 inplace = False)"
      ],
      "metadata": {
        "id": "O5SvyGqGmp5w"
      },
      "execution_count": null,
      "outputs": []
    },
    {
      "cell_type": "code",
      "source": [
        "#Checking dataset\n",
        "df.shape"
      ],
      "metadata": {
        "colab": {
          "base_uri": "https://localhost:8080/"
        },
        "id": "d4n23FedMu5i",
        "outputId": "1d8e8986-7111-4cf7-c315-9c5c51210770"
      },
      "execution_count": null,
      "outputs": [
        {
          "output_type": "execute_result",
          "data": {
            "text/plain": [
              "(2010, 152)"
            ]
          },
          "metadata": {},
          "execution_count": 24
        }
      ]
    },
    {
      "cell_type": "code",
      "source": [
        "df.dropna(inplace=True)   #dropping missing values for analysis purposes\n",
        "df.info()"
      ],
      "metadata": {
        "colab": {
          "base_uri": "https://localhost:8080/"
        },
        "id": "zGTwPHwjKlT1",
        "outputId": "13d19446-50c0-4adf-8432-b6f0e9c3f4ac"
      },
      "execution_count": null,
      "outputs": [
        {
          "output_type": "stream",
          "name": "stdout",
          "text": [
            "<class 'pandas.core.frame.DataFrame'>\n",
            "Int64Index: 2010 entries, 7287 to 66970\n",
            "Columns: 152 entries, tile_count to avg_electricity_retail_rate\n",
            "dtypes: bool(2), float64(117), int64(32), object(1)\n",
            "memory usage: 2.3+ MB\n"
          ]
        }
      ]
    },
    {
      "cell_type": "code",
      "source": [
        "#Checking dataset\n",
        "df.shape"
      ],
      "metadata": {
        "colab": {
          "base_uri": "https://localhost:8080/"
        },
        "id": "Stxei8sQLZWg",
        "outputId": "2249da15-0719-4aa5-f9e6-1ee4b4906db2"
      },
      "execution_count": null,
      "outputs": [
        {
          "output_type": "execute_result",
          "data": {
            "text/plain": [
              "(2010, 152)"
            ]
          },
          "metadata": {},
          "execution_count": 26
        }
      ]
    },
    {
      "cell_type": "code",
      "source": [
        "#Get rid of infinite values \n",
        "df.replace([np.inf, -np.inf], np.nan, inplace=True)"
      ],
      "metadata": {
        "id": "FCV1AousN6Ws"
      },
      "execution_count": null,
      "outputs": []
    },
    {
      "cell_type": "code",
      "source": [
        "#Checking dataset\n",
        "df.shape"
      ],
      "metadata": {
        "colab": {
          "base_uri": "https://localhost:8080/"
        },
        "id": "bWSb0OHbVM84",
        "outputId": "5380f40f-f643-4378-8d48-15eea02710cf"
      },
      "execution_count": null,
      "outputs": [
        {
          "output_type": "execute_result",
          "data": {
            "text/plain": [
              "(2010, 152)"
            ]
          },
          "metadata": {},
          "execution_count": 28
        }
      ]
    },
    {
      "cell_type": "code",
      "source": [
        "def clean_dataset(df):\n",
        "    assert isinstance(df, pd.DataFrame), \"df needs to be a pd.DataFrame\"\n",
        "    df.dropna(inplace=True)\n",
        "    indices_to_keep = ~df.isin([np.nan, np.inf, -np.inf]).any(1)\n",
        "    return df[indices_to_keep].astype(np.float64)"
      ],
      "metadata": {
        "id": "l73UNZ6hO2zy"
      },
      "execution_count": null,
      "outputs": []
    },
    {
      "cell_type": "code",
      "source": [
        "#Checking dataset\n",
        "df.shape"
      ],
      "metadata": {
        "colab": {
          "base_uri": "https://localhost:8080/"
        },
        "id": "z5cRXJtnVOkI",
        "outputId": "19093352-c047-4cce-add2-296771b82f87"
      },
      "execution_count": null,
      "outputs": [
        {
          "output_type": "execute_result",
          "data": {
            "text/plain": [
              "(2010, 152)"
            ]
          },
          "metadata": {},
          "execution_count": 30
        }
      ]
    },
    {
      "cell_type": "code",
      "source": [
        "# Explore missing values\n",
        "\n",
        "sns.heatmap(df.isnull(), cbar=False)"
      ],
      "metadata": {
        "id": "7UW6w_sDmuAr",
        "colab": {
          "base_uri": "https://localhost:8080/",
          "height": 484
        },
        "outputId": "41ef2423-dd55-4753-a4fd-8350101a836c"
      },
      "execution_count": null,
      "outputs": [
        {
          "output_type": "execute_result",
          "data": {
            "text/plain": [
              "<matplotlib.axes._subplots.AxesSubplot at 0x7feda0c9f850>"
            ]
          },
          "metadata": {},
          "execution_count": 31
        },
        {
          "output_type": "display_data",
          "data": {
            "text/plain": [
              "<Figure size 432x288 with 1 Axes>"
            ],
            "image/png": "[encoded data removed]"
          },
          "metadata": {
            "needs_background": "light"
          }
        }
      ]
    },
    {
      "cell_type": "markdown",
      "source": [
        "## Exploring data visualization"
      ],
      "metadata": {
        "id": "Xl7A2Vnhm4co"
      }
    },
    {
      "cell_type": "code",
      "source": [
        "print(df['county'].describe()) # describing county variable\n",
        "print('\\n') # new line command\n",
        "\n",
        "plt.figure(figsize = (20,5))\n",
        "sns.countplot(df['county'],palette='Blues_r')"
      ],
      "metadata": {
        "id": "dKPwzuuxncyK",
        "colab": {
          "base_uri": "https://localhost:8080/",
          "height": 508
        },
        "outputId": "29cb9c38-e0d3-4c9e-9dea-c9746c1c696e"
      },
      "execution_count": null,
      "outputs": [
        {
          "output_type": "stream",
          "name": "stdout",
          "text": [
            "count             2010\n",
            "unique              21\n",
            "top       Essex County\n",
            "freq               210\n",
            "Name: county, dtype: object\n",
            "\n",
            "\n"
          ]
        },
        {
          "output_type": "stream",
          "name": "stderr",
          "text": [
            "/usr/local/lib/python3.7/dist-packages/seaborn/_decorators.py:43: FutureWarning: Pass the following variable as a keyword arg: x. From version 0.12, the only valid positional argument will be `data`, and passing other arguments without an explicit keyword will result in an error or misinterpretation.\n",
            "  FutureWarning\n"
          ]
        },
        {
          "output_type": "execute_result",
          "data": {
            "text/plain": [
              "<matplotlib.axes._subplots.AxesSubplot at 0x7feda0b91e90>"
            ]
          },
          "metadata": {},
          "execution_count": 32
        },
        {
          "output_type": "display_data",
          "data": {
            "text/plain": [
              "<Figure size 1440x360 with 1 Axes>"
            ],
            "image/png": "[encoded data removed]"
          },
          "metadata": {
            "needs_background": "light"
          }
        }
      ]
    },
    {
      "cell_type": "markdown",
      "source": [
        "Seems like out top county is Exssex regarding count vairbales"
      ],
      "metadata": {
        "id": "MgtVZ52IGR_f"
      }
    },
    {
      "cell_type": "code",
      "source": [
        "#Reviewing country by total panel area \n",
        "\n",
        "df.groupby('county')['total_panel_area'].mean().sort_values(\n",
        "    ascending = False)"
      ],
      "metadata": {
        "id": "5PKMK4miuPxN",
        "colab": {
          "base_uri": "https://localhost:8080/"
        },
        "outputId": "41188c48-cdd0-472f-dd06-96a373f55f7f"
      },
      "execution_count": null,
      "outputs": [
        {
          "output_type": "execute_result",
          "data": {
            "text/plain": [
              "county\n",
              "Mercer County        8998.226954\n",
              "Somerset County      8982.127985\n",
              "Hunterdon County     8441.876097\n",
              "Warren County        7997.875905\n",
              "Middlesex County     7652.304969\n",
              "Burlington County    6923.665163\n",
              "Gloucester County    6834.544146\n",
              "Monmouth County      6119.765322\n",
              "Cumberland County    5528.564503\n",
              "Atlantic County      5319.353848\n",
              "Ocean County         5297.829153\n",
              "Morris County        3753.939784\n",
              "Union County         3481.954541\n",
              "Cape May County      3359.158461\n",
              "Sussex County        3140.713655\n",
              "Camden County        2618.679397\n",
              "Bergen County        2499.777137\n",
              "Passaic County       2353.704134\n",
              "Hudson County        2062.666423\n",
              "Salem County         1964.310368\n",
              "Essex County         1333.457465\n",
              "Name: total_panel_area, dtype: float64"
            ]
          },
          "metadata": {},
          "execution_count": 33
        }
      ]
    },
    {
      "cell_type": "markdown",
      "source": [
        "Seems like Mercer County has the biggest mean regarding total area of solar panels by m^2"
      ],
      "metadata": {
        "id": "XNP7AAFrum_I"
      }
    },
    {
      "cell_type": "code",
      "source": [
        "#Reviewing country by total panel area median\n",
        "\n",
        "df.groupby('county')['total_panel_area'].median().sort_values(\n",
        "    ascending = False)"
      ],
      "metadata": {
        "colab": {
          "base_uri": "https://localhost:8080/"
        },
        "id": "NiKOY16PGhxx",
        "outputId": "921067ad-1a49-4de3-fe28-510a3d583537"
      },
      "execution_count": null,
      "outputs": [
        {
          "output_type": "execute_result",
          "data": {
            "text/plain": [
              "county\n",
              "Ocean County         2992.632938\n",
              "Somerset County      2734.889755\n",
              "Gloucester County    2425.037106\n",
              "Monmouth County      2036.856532\n",
              "Burlington County    1999.418236\n",
              "Middlesex County     1586.769374\n",
              "Atlantic County      1578.087068\n",
              "Cape May County      1498.053208\n",
              "Warren County        1321.760033\n",
              "Mercer County        1063.132096\n",
              "Morris County        1025.264438\n",
              "Union County          922.062171\n",
              "Camden County         906.113915\n",
              "Cumberland County     730.549472\n",
              "Bergen County         618.644547\n",
              "Hunterdon County      555.793335\n",
              "Salem County          452.752762\n",
              "Passaic County        412.029072\n",
              "Essex County          234.064785\n",
              "Sussex County         208.289737\n",
              "Hudson County         144.347229\n",
              "Name: total_panel_area, dtype: float64"
            ]
          },
          "metadata": {},
          "execution_count": 34
        }
      ]
    },
    {
      "cell_type": "markdown",
      "source": [
        "Seems like Ocean County has the biggest median regarding total area of solar panels by m^2"
      ],
      "metadata": {
        "id": "XoBsb_rbGmEA"
      }
    },
    {
      "cell_type": "code",
      "source": [
        "#County vs total panel area \n",
        "\n",
        "plt.figure(figsize=(35,5))\n",
        "sns.barplot(x= df['county'],y=df['total_panel_area'],palette='Blues_r')"
      ],
      "metadata": {
        "id": "KEMbiAAZuubv",
        "colab": {
          "base_uri": "https://localhost:8080/",
          "height": 206
        },
        "outputId": "10f91c2f-00c9-4afb-8522-7938f6855a0c"
      },
      "execution_count": null,
      "outputs": [
        {
          "output_type": "execute_result",
          "data": {
            "text/plain": [
              "<matplotlib.axes._subplots.AxesSubplot at 0x7feda0c0e050>"
            ]
          },
          "metadata": {},
          "execution_count": 35
        },
        {
          "output_type": "display_data",
          "data": {
            "text/plain": [
              "<Figure size 2520x360 with 1 Axes>"
            ],
            "image/png": "[encoded data removed]"
          },
          "metadata": {
            "needs_background": "light"
          }
        }
      ]
    },
    {
      "cell_type": "code",
      "source": [
        "category_values = df.pivot_table(columns=['county'], aggfunc='size')\n",
        "\n",
        "category_names = df['county']\n",
        "categories = category_names.unique()\n",
        "categories.sort()\n",
        "plt.pie(category_values, labels=categories)\n",
        "\n",
        "my_circle=plt.Circle( (0,0), 0.8, color='white')\n",
        "p=plt.gcf()\n",
        "p.gca().add_artist(my_circle)\n",
        "plt.show()"
      ],
      "metadata": {
        "id": "j274VLx8vLaz",
        "colab": {
          "base_uri": "https://localhost:8080/",
          "height": 248
        },
        "outputId": "3ca8469b-d7b5-4220-8684-09d85054cb6d"
      },
      "execution_count": null,
      "outputs": [
        {
          "output_type": "display_data",
          "data": {
            "text/plain": [
              "<Figure size 432x288 with 1 Axes>"
            ],
            "image/png": "[encoded data removed]"
          },
          "metadata": {}
        }
      ]
    },
    {
      "cell_type": "code",
      "source": [
        "# fig, gax = plt.subplots(figsize = (10,8))\n",
        "\n",
        "# Plot the state\n",
        "state_df[state_df['NAME'] == 'New Jersey'].plot(ax = gax, edgecolor='black',color='white')\n",
        "\n",
        "# Plot the counties and pass 'total_panel_area' as the data to color\n",
        "gdf.plot(\n",
        "    ax=gax, edgecolor='black', column='solar_panel_area_per_capita', legend=True, cmap='RdBu_r',\n",
        "    vmin=0.2, vmax=0.8\n",
        ")\n",
        "\n",
        "# Add text to let people know what we are plotting\n",
        "gax.annotate('Total Panel Area',xy=(0.76, 0.06),  xycoords='figure fraction')\n",
        "\n",
        "# I don't want the axis with long and lat\n",
        "plt.axis('off')\n",
        "plt.show()"
      ],
      "metadata": {
        "id": "LIGiFX9P4BbN"
      },
      "execution_count": null,
      "outputs": []
    },
    {
      "cell_type": "code",
      "source": [
        "df['total_panel_area'].mean()"
      ],
      "metadata": {
        "id": "EUeoJ8VN0Qqy",
        "colab": {
          "base_uri": "https://localhost:8080/"
        },
        "outputId": "19b4ae90-e724-47a1-94ea-ed1385bb501a"
      },
      "execution_count": null,
      "outputs": [
        {
          "output_type": "execute_result",
          "data": {
            "text/plain": [
              "4506.840101569277"
            ]
          },
          "metadata": {},
          "execution_count": 37
        }
      ]
    },
    {
      "cell_type": "code",
      "source": [
        "df['total_panel_area'].median()"
      ],
      "metadata": {
        "colab": {
          "base_uri": "https://localhost:8080/"
        },
        "id": "gyAw6AlIG6bQ",
        "outputId": "4029d2af-0327-4090-a7f2-f61f8223fd51"
      },
      "execution_count": null,
      "outputs": [
        {
          "output_type": "execute_result",
          "data": {
            "text/plain": [
              "1009.577993545"
            ]
          },
          "metadata": {},
          "execution_count": 38
        }
      ]
    },
    {
      "cell_type": "code",
      "source": [
        "df['average_household_income'].mean()"
      ],
      "metadata": {
        "colab": {
          "base_uri": "https://localhost:8080/"
        },
        "id": "RUxPnxUtH1f1",
        "outputId": "5356da7d-f788-4600-a2d4-9cd33f1f2464"
      },
      "execution_count": null,
      "outputs": [
        {
          "output_type": "execute_result",
          "data": {
            "text/plain": [
              "96318.051757219"
            ]
          },
          "metadata": {},
          "execution_count": 39
        }
      ]
    },
    {
      "cell_type": "code",
      "source": [
        "df['median_household_income'].median()"
      ],
      "metadata": {
        "colab": {
          "base_uri": "https://localhost:8080/"
        },
        "id": "tpr0zNr_H7NU",
        "outputId": "79db83b9-c68e-4b46-c5bc-3e67a6841033"
      },
      "execution_count": null,
      "outputs": [
        {
          "output_type": "execute_result",
          "data": {
            "text/plain": [
              "71786.0"
            ]
          },
          "metadata": {},
          "execution_count": 40
        }
      ]
    },
    {
      "cell_type": "markdown",
      "source": [
        "# Definding our target variable"
      ],
      "metadata": {
        "id": "2Ezkh4WIG9xE"
      }
    },
    {
      "cell_type": "markdown",
      "source": [
        "We want to predict the areas that have do not possees any solar panes by m^2 .\n",
        "\n"
      ],
      "metadata": {
        "id": "urX5Kaq3HBjQ"
      }
    },
    {
      "cell_type": "code",
      "source": [
        "#Definding our target variable \n",
        "\n",
        "def f(total_panel_area):\n",
        "\n",
        "    if total_panel_area <= 0 :\n",
        "        return 1\n",
        "    elif total_panel_area > 0:\n",
        "        return 0\n",
        "    else: \n",
        "      return 0\n",
        "\n",
        "df['total_panel_area'] = df['total_panel_area'].apply(f)"
      ],
      "metadata": {
        "id": "BCuk11vi0g4a"
      },
      "execution_count": null,
      "outputs": []
    },
    {
      "cell_type": "code",
      "source": [
        "df['total_panel_area'].value_counts()"
      ],
      "metadata": {
        "colab": {
          "base_uri": "https://localhost:8080/"
        },
        "id": "9xT6SeqpMyR7",
        "outputId": "f8407290-f8b4-4f1f-d33d-10fb317ff96c"
      },
      "execution_count": null,
      "outputs": [
        {
          "output_type": "execute_result",
          "data": {
            "text/plain": [
              "0    1886\n",
              "1     124\n",
              "Name: total_panel_area, dtype: int64"
            ]
          },
          "metadata": {},
          "execution_count": 42
        }
      ]
    },
    {
      "cell_type": "code",
      "source": [
        "df.head()"
      ],
      "metadata": {
        "colab": {
          "base_uri": "https://localhost:8080/",
          "height": 386
        },
        "id": "f92EI2SOJf6l",
        "outputId": "64686782-7365-49c6-b05a-989513375710"
      },
      "execution_count": null,
      "outputs": [
        {
          "output_type": "execute_result",
          "data": {
            "text/plain": [
              "      tile_count  solar_system_count  total_panel_area         fips  \\\n",
              "7287        49.0                38.0                 0  34003017400   \n",
              "7288        62.0                28.0                 0  34003017500   \n",
              "7289        22.0                 7.0                 0  34003048100   \n",
              "7290        24.0                11.0                 0  34003027000   \n",
              "7291        62.0                14.0                 0  34003028001   \n",
              "\n",
              "      average_household_income         county  education_bachelor  \\\n",
              "7287             130417.956989  Bergen County                1304   \n",
              "7288              92363.794945  Bergen County                1510   \n",
              "7289             100944.211903  Bergen County                 869   \n",
              "7290             228957.243816  Bergen County                1406   \n",
              "7291             109512.817904  Bergen County                1382   \n",
              "\n",
              "      education_college  education_doctoral  education_high_school_graduate  \\\n",
              "7287                716                  82                             770   \n",
              "7288               1613                  24                            1145   \n",
              "7289                611                  80                             651   \n",
              "7290                387                  44                             177   \n",
              "7291                649                  60                             675   \n",
              "\n",
              "      ...  voting_2016_dem_percentage  voting_2016_gop_percentage  \\\n",
              "7287  ...                    0.544974                    0.425091   \n",
              "7288  ...                    0.544974                    0.425091   \n",
              "7289  ...                    0.544974                    0.425091   \n",
              "7290  ...                    0.544974                    0.425091   \n",
              "7291  ...                    0.544974                    0.425091   \n",
              "\n",
              "      voting_2016_dem_win  voting_2012_dem_percentage  \\\n",
              "7287                 True                        0.55   \n",
              "7288                 True                        0.55   \n",
              "7289                 True                        0.55   \n",
              "7290                 True                        0.55   \n",
              "7291                 True                        0.55   \n",
              "\n",
              "      voting_2012_gop_percentage  voting_2012_dem_win  \\\n",
              "7287                       0.441                 True   \n",
              "7288                       0.441                 True   \n",
              "7289                       0.441                 True   \n",
              "7290                       0.441                 True   \n",
              "7291                       0.441                 True   \n",
              "\n",
              "      number_of_years_of_education  diversity  \\\n",
              "7287                     15.063393   0.318528   \n",
              "7288                     14.048025   0.409910   \n",
              "7289                     14.417339   0.540770   \n",
              "7290                     15.973551   0.165055   \n",
              "7291                     14.777228   0.573433   \n",
              "\n",
              "      number_of_solar_system_per_household  avg_electricity_retail_rate  \n",
              "7287                              0.019355                        13.69  \n",
              "7288                              0.008900                        13.69  \n",
              "7289                              0.003924                        13.69  \n",
              "7290                              0.005654                        13.69  \n",
              "7291                              0.003561                        13.69  \n",
              "\n",
              "[5 rows x 152 columns]"
            ],
            "text/html": [
              "\n",
              "  <div id=\"df-8e5d8277-327a-48db-9d97-a8d92bf2f689\">\n",
              "    <div class=\"colab-df-container\">\n",
              "      <div>\n",
              "<style scoped>\n",
              "    .dataframe tbody tr th:only-of-type {\n",
              "        vertical-align: middle;\n",
              "    }\n",
              "\n",
              "    .dataframe tbody tr th {\n",
              "        vertical-align: top;\n",
              "    }\n",
              "\n",
              "    .dataframe thead th {\n",
              "        text-align: right;\n",
              "    }\n",
              "</style>\n",
              "<table border=\"1\" class=\"dataframe\">\n",
              "  <thead>\n",
              "    <tr style=\"text-align: right;\">\n",
              "      <th></th>\n",
              "      <th>tile_count</th>\n",
              "      <th>solar_system_count</th>\n",
              "      <th>total_panel_area</th>\n",
              "      <th>fips</th>\n",
              "      <th>average_household_income</th>\n",
              "      <th>county</th>\n",
              "      <th>education_bachelor</th>\n",
              "      <th>education_college</th>\n",
              "      <th>education_doctoral</th>\n",
              "      <th>education_high_school_graduate</th>\n",
              "      <th>...</th>\n",
              "      <th>voting_2016_dem_percentage</th>\n",
              "      <th>voting_2016_gop_percentage</th>\n",
              "      <th>voting_2016_dem_win</th>\n",
              "      <th>voting_2012_dem_percentage</th>\n",
              "      <th>voting_2012_gop_percentage</th>\n",
              "      <th>voting_2012_dem_win</th>\n",
              "      <th>number_of_years_of_education</th>\n",
              "      <th>diversity</th>\n",
              "      <th>number_of_solar_system_per_household</th>\n",
              "      <th>avg_electricity_retail_rate</th>\n",
              "    </tr>\n",
              "  </thead>\n",
              "  <tbody>\n",
              "    <tr>\n",
              "      <th>7287</th>\n",
              "      <td>49.0</td>\n",
              "      <td>38.0</td>\n",
              "      <td>0</td>\n",
              "      <td>34003017400</td>\n",
              "      <td>130417.956989</td>\n",
              "      <td>Bergen County</td>\n",
              "      <td>1304</td>\n",
              "      <td>716</td>\n",
              "      <td>82</td>\n",
              "      <td>770</td>\n",
              "      <td>...</td>\n",
              "      <td>0.544974</td>\n",
              "      <td>0.425091</td>\n",
              "      <td>True</td>\n",
              "      <td>0.55</td>\n",
              "      <td>0.441</td>\n",
              "      <td>True</td>\n",
              "      <td>15.063393</td>\n",
              "      <td>0.318528</td>\n",
              "      <td>0.019355</td>\n",
              "      <td>13.69</td>\n",
              "    </tr>\n",
              "    <tr>\n",
              "      <th>7288</th>\n",
              "      <td>62.0</td>\n",
              "      <td>28.0</td>\n",
              "      <td>0</td>\n",
              "      <td>34003017500</td>\n",
              "      <td>92363.794945</td>\n",
              "      <td>Bergen County</td>\n",
              "      <td>1510</td>\n",
              "      <td>1613</td>\n",
              "      <td>24</td>\n",
              "      <td>1145</td>\n",
              "      <td>...</td>\n",
              "      <td>0.544974</td>\n",
              "      <td>0.425091</td>\n",
              "      <td>True</td>\n",
              "      <td>0.55</td>\n",
              "      <td>0.441</td>\n",
              "      <td>True</td>\n",
              "      <td>14.048025</td>\n",
              "      <td>0.409910</td>\n",
              "      <td>0.008900</td>\n",
              "      <td>13.69</td>\n",
              "    </tr>\n",
              "    <tr>\n",
              "      <th>7289</th>\n",
              "      <td>22.0</td>\n",
              "      <td>7.0</td>\n",
              "      <td>0</td>\n",
              "      <td>34003048100</td>\n",
              "      <td>100944.211903</td>\n",
              "      <td>Bergen County</td>\n",
              "      <td>869</td>\n",
              "      <td>611</td>\n",
              "      <td>80</td>\n",
              "      <td>651</td>\n",
              "      <td>...</td>\n",
              "      <td>0.544974</td>\n",
              "      <td>0.425091</td>\n",
              "      <td>True</td>\n",
              "      <td>0.55</td>\n",
              "      <td>0.441</td>\n",
              "      <td>True</td>\n",
              "      <td>14.417339</td>\n",
              "      <td>0.540770</td>\n",
              "      <td>0.003924</td>\n",
              "      <td>13.69</td>\n",
              "    </tr>\n",
              "    <tr>\n",
              "      <th>7290</th>\n",
              "      <td>24.0</td>\n",
              "      <td>11.0</td>\n",
              "      <td>0</td>\n",
              "      <td>34003027000</td>\n",
              "      <td>228957.243816</td>\n",
              "      <td>Bergen County</td>\n",
              "      <td>1406</td>\n",
              "      <td>387</td>\n",
              "      <td>44</td>\n",
              "      <td>177</td>\n",
              "      <td>...</td>\n",
              "      <td>0.544974</td>\n",
              "      <td>0.425091</td>\n",
              "      <td>True</td>\n",
              "      <td>0.55</td>\n",
              "      <td>0.441</td>\n",
              "      <td>True</td>\n",
              "      <td>15.973551</td>\n",
              "      <td>0.165055</td>\n",
              "      <td>0.005654</td>\n",
              "      <td>13.69</td>\n",
              "    </tr>\n",
              "    <tr>\n",
              "      <th>7291</th>\n",
              "      <td>62.0</td>\n",
              "      <td>14.0</td>\n",
              "      <td>0</td>\n",
              "      <td>34003028001</td>\n",
              "      <td>109512.817904</td>\n",
              "      <td>Bergen County</td>\n",
              "      <td>1382</td>\n",
              "      <td>649</td>\n",
              "      <td>60</td>\n",
              "      <td>675</td>\n",
              "      <td>...</td>\n",
              "      <td>0.544974</td>\n",
              "      <td>0.425091</td>\n",
              "      <td>True</td>\n",
              "      <td>0.55</td>\n",
              "      <td>0.441</td>\n",
              "      <td>True</td>\n",
              "      <td>14.777228</td>\n",
              "      <td>0.573433</td>\n",
              "      <td>0.003561</td>\n",
              "      <td>13.69</td>\n",
              "    </tr>\n",
              "  </tbody>\n",
              "</table>\n",
              "<p>5 rows × 152 columns</p>\n",
              "</div>\n",
              "      <button class=\"colab-df-convert\" onclick=\"convertToInteractive('df-8e5d8277-327a-48db-9d97-a8d92bf2f689')\"\n",
              "              title=\"Convert this dataframe to an interactive table.\"\n",
              "              style=\"display:none;\">\n",
              "        \n",
              "  <svg xmlns=\"http://www.w3.org/2000/svg\" height=\"24px\"viewBox=\"0 0 24 24\"\n",
              "       width=\"24px\">\n",
              "    <path d=\"M0 0h24v24H0V0z\" fill=\"none\"/>\n",
              "    <path d=\"M18.56 5.44l.94 2.06.94-2.06 2.06-.94-2.06-.94-.94-2.06-.94 2.06-2.06.94zm-11 1L8.5 8.5l.94-2.06 2.06-.94-2.06-.94L8.5 2.5l-.94 2.06-2.06.94zm10 10l.94 2.06.94-2.06 2.06-.94-2.06-.94-.94-2.06-.94 2.06-2.06.94z\"/><path d=\"M17.41 7.96l-1.37-1.37c-.4-.4-.92-.59-1.43-.59-.52 0-1.04.2-1.43.59L10.3 9.45l-7.72 7.72c-.78.78-.78 2.05 0 2.83L4 21.41c.39.39.9.59 1.41.59.51 0 1.02-.2 1.41-.59l7.78-7.78 2.81-2.81c.8-.78.8-2.07 0-2.86zM5.41 20L4 18.59l7.72-7.72 1.47 1.35L5.41 20z\"/>\n",
              "  </svg>\n",
              "      </button>\n",
              "      \n",
              "  <style>\n",
              "    .colab-df-container {\n",
              "      display:flex;\n",
              "      flex-wrap:wrap;\n",
              "      gap: 12px;\n",
              "    }\n",
              "\n",
              "    .colab-df-convert {\n",
              "      background-color: #E8F0FE;\n",
              "      border: none;\n",
              "      border-radius: 50%;\n",
              "      cursor: pointer;\n",
              "      display: none;\n",
              "      fill: #1967D2;\n",
              "      height: 32px;\n",
              "      padding: 0 0 0 0;\n",
              "      width: 32px;\n",
              "    }\n",
              "\n",
              "    .colab-df-convert:hover {\n",
              "      background-color: #E2EBFA;\n",
              "      box-shadow: 0px 1px 2px rgba(60, 64, 67, 0.3), 0px 1px 3px 1px rgba(60, 64, 67, 0.15);\n",
              "      fill: #174EA6;\n",
              "    }\n",
              "\n",
              "    [theme=dark] .colab-df-convert {\n",
              "      background-color: #3B4455;\n",
              "      fill: #D2E3FC;\n",
              "    }\n",
              "\n",
              "    [theme=dark] .colab-df-convert:hover {\n",
              "      background-color: #434B5C;\n",
              "      box-shadow: 0px 1px 3px 1px rgba(0, 0, 0, 0.15);\n",
              "      filter: drop-shadow(0px 1px 2px rgba(0, 0, 0, 0.3));\n",
              "      fill: #FFFFFF;\n",
              "    }\n",
              "  </style>\n",
              "\n",
              "      <script>\n",
              "        const buttonEl =\n",
              "          document.querySelector('#df-8e5d8277-327a-48db-9d97-a8d92bf2f689 button.colab-df-convert');\n",
              "        buttonEl.style.display =\n",
              "          google.colab.kernel.accessAllowed ? 'block' : 'none';\n",
              "\n",
              "        async function convertToInteractive(key) {\n",
              "          const element = document.querySelector('#df-8e5d8277-327a-48db-9d97-a8d92bf2f689');\n",
              "          const dataTable =\n",
              "            await google.colab.kernel.invokeFunction('convertToInteractive',\n",
              "                                                     [key], {});\n",
              "          if (!dataTable) return;\n",
              "\n",
              "          const docLinkHtml = 'Like what you see? Visit the ' +\n",
              "            '<a target=\"_blank\" href=https://colab.research.google.com/notebooks/data_table.ipynb>data table notebook</a>'\n",
              "            + ' to learn more about interactive tables.';\n",
              "          element.innerHTML = '';\n",
              "          dataTable['output_type'] = 'display_data';\n",
              "          await google.colab.output.renderOutput(dataTable, element);\n",
              "          const docLink = document.createElement('div');\n",
              "          docLink.innerHTML = docLinkHtml;\n",
              "          element.appendChild(docLink);\n",
              "        }\n",
              "      </script>\n",
              "    </div>\n",
              "  </div>\n",
              "  "
            ]
          },
          "metadata": {},
          "execution_count": 43
        }
      ]
    },
    {
      "cell_type": "code",
      "source": [
        "# Access the first 5 rows of the electricity \n",
        "\n",
        "df['total_panel_area'][:5] "
      ],
      "metadata": {
        "id": "Q5OVXPQ51pDw",
        "colab": {
          "base_uri": "https://localhost:8080/"
        },
        "outputId": "0cfb967d-6eab-4409-b102-6fb1686ebc20"
      },
      "execution_count": null,
      "outputs": [
        {
          "output_type": "execute_result",
          "data": {
            "text/plain": [
              "7287    0\n",
              "7288    0\n",
              "7289    0\n",
              "7290    0\n",
              "7291    0\n",
              "Name: total_panel_area, dtype: int64"
            ]
          },
          "metadata": {},
          "execution_count": 44
        }
      ]
    },
    {
      "cell_type": "code",
      "source": [
        "#correlation matrix\n",
        "\n",
        "# computes the person correlation among variables\n",
        "corrmat = df.corr() \n",
        "\n",
        "# returns highly correlated variables\n",
        "high_c = corrmat[corrmat['total_panel_area'].abs()>0.2].index\n",
        "\n",
        "# plots a correlation plot\n",
        "f, ax = plt.subplots(figsize=(12, 9)) # determines the figure size\n",
        "ax = sns.heatmap(corrmat.loc[high_c, high_c], vmax=.8, square=True, cmap=\"Blues\") # creates a heatmap using the correlation matrix"
      ],
      "metadata": {
        "id": "4e7OWcO72Agm",
        "colab": {
          "base_uri": "https://localhost:8080/",
          "height": 737
        },
        "outputId": "4c2dbdf4-efdc-4336-99f6-55f862c6adcb"
      },
      "execution_count": null,
      "outputs": [
        {
          "output_type": "display_data",
          "data": {
            "text/plain": [
              "<Figure size 864x648 with 2 Axes>"
            ],
            "image/png": "[encoded data removed]"
          },
          "metadata": {
            "needs_background": "light"
          }
        }
      ]
    },
    {
      "cell_type": "code",
      "source": [
        "#Checking correlation\n",
        "\n",
        "corr_matrix = df.corr()\n",
        "print(corr_matrix[\"total_panel_area\"].sort_values(ascending=False))"
      ],
      "metadata": {
        "id": "PlzKqcED16hy",
        "colab": {
          "base_uri": "https://localhost:8080/"
        },
        "outputId": "ef6eaa35-761e-41e8-f2b9-d3dcd26f8c80"
      },
      "execution_count": null,
      "outputs": [
        {
          "output_type": "stream",
          "name": "stdout",
          "text": [
            "total_panel_area                           1.000000\n",
            "population_density                         0.355337\n",
            "poverty_family_below_poverty_level_rate    0.259612\n",
            "education_less_than_high_school_rate       0.257013\n",
            "transportation_public_rate                 0.253789\n",
            "                                             ...   \n",
            "electricity_price_residential                   NaN\n",
            "electricity_price_commercial                    NaN\n",
            "electricity_price_industrial                    NaN\n",
            "electricity_price_transportation                NaN\n",
            "avg_electricity_retail_rate                     NaN\n",
            "Name: total_panel_area, Length: 151, dtype: float64\n"
          ]
        }
      ]
    },
    {
      "cell_type": "markdown",
      "source": [
        "We observe positive high correlation with pupulation_density, poverty_family education_less than high school, transportation "
      ],
      "metadata": {
        "id": "dGI8zl2v3rhW"
      }
    },
    {
      "cell_type": "code",
      "source": [
        "#Plotting the results\n",
        "\n",
        "sns.pairplot(df[['population_density','poverty_family_below_poverty_level_rate','education_less_than_high_school_rate','transportation_public_rate','total_panel_area' ]],hue='total_panel_area')\n"
      ],
      "metadata": {
        "id": "RjgYCTU-2n02",
        "colab": {
          "base_uri": "https://localhost:8080/",
          "height": 745
        },
        "outputId": "d408793b-8b54-45e2-c3d2-427bea3438fc"
      },
      "execution_count": null,
      "outputs": [
        {
          "output_type": "execute_result",
          "data": {
            "text/plain": [
              "<seaborn.axisgrid.PairGrid at 0x7feda088d6d0>"
            ]
          },
          "metadata": {},
          "execution_count": 47
        },
        {
          "output_type": "display_data",
          "data": {
            "text/plain": [
              "<Figure size 810.75x720 with 20 Axes>"
            ],
            "image/png": "[encoded data removed]"
          },
          "metadata": {
            "needs_background": "light"
          }
        }
      ]
    },
    {
      "cell_type": "markdown",
      "source": [
        "*   Areas with less population density tend to not have solar panels, as well with high poverty level population \n",
        "*   Areas wehere education is less than high school rate is high tend to not have solar panels and also transportation public rate\n",
        "\n",
        "\n",
        "\n",
        "\n",
        "\n",
        "\n",
        "\n",
        "\n"
      ],
      "metadata": {
        "id": "w--8AOwoAq15"
      }
    },
    {
      "cell_type": "markdown",
      "source": [
        "# Logistic Regression"
      ],
      "metadata": {
        "id": "Fx6HcFPvDO0H"
      }
    },
    {
      "cell_type": "code",
      "source": [
        "# Creating a new data frame for the regression\n",
        "df_Regression=df.copy()\n",
        "df_Regression = df_Regression[['county', 'total_panel_area','population_density','poverty_family_below_poverty_level_rate','education_less_than_high_school_rate','transportation_public_rate']]\n",
        "df_Regression.head()"
      ],
      "metadata": {
        "colab": {
          "base_uri": "https://localhost:8080/",
          "height": 357
        },
        "id": "pOV_9S6iRV4h",
        "outputId": "065ceea6-9850-4d33-b5e2-d788b42750ac"
      },
      "execution_count": null,
      "outputs": [
        {
          "output_type": "execute_result",
          "data": {
            "text/plain": [
              "             county  total_panel_area  population_density  \\\n",
              "7287  Bergen County                 0            5946.591   \n",
              "7288  Bergen County                 0            7280.464   \n",
              "7289  Bergen County                 0            6579.957   \n",
              "7290  Bergen County                 0            2381.458   \n",
              "7291  Bergen County                 0            5766.219   \n",
              "\n",
              "      poverty_family_below_poverty_level_rate  \\\n",
              "7287                                 0.027907   \n",
              "7288                                 0.054640   \n",
              "7289                                 0.019038   \n",
              "7290                                 0.000000   \n",
              "7291                                 0.127785   \n",
              "\n",
              "      education_less_than_high_school_rate  transportation_public_rate  \n",
              "7287                              0.053871                    0.197752  \n",
              "7288                              0.121083                    0.085983  \n",
              "7289                              0.104839                    0.202637  \n",
              "7290                              0.031522                    0.210198  \n",
              "7291                              0.090933                    0.237113  "
            ],
            "text/html": [
              "\n",
              "  <div id=\"df-56d83fa0-8282-4ebc-b604-61f3aa9c24ce\">\n",
              "    <div class=\"colab-df-container\">\n",
              "      <div>\n",
              "<style scoped>\n",
              "    .dataframe tbody tr th:only-of-type {\n",
              "        vertical-align: middle;\n",
              "    }\n",
              "\n",
              "    .dataframe tbody tr th {\n",
              "        vertical-align: top;\n",
              "    }\n",
              "\n",
              "    .dataframe thead th {\n",
              "        text-align: right;\n",
              "    }\n",
              "</style>\n",
              "<table border=\"1\" class=\"dataframe\">\n",
              "  <thead>\n",
              "    <tr style=\"text-align: right;\">\n",
              "      <th></th>\n",
              "      <th>county</th>\n",
              "      <th>total_panel_area</th>\n",
              "      <th>population_density</th>\n",
              "      <th>poverty_family_below_poverty_level_rate</th>\n",
              "      <th>education_less_than_high_school_rate</th>\n",
              "      <th>transportation_public_rate</th>\n",
              "    </tr>\n",
              "  </thead>\n",
              "  <tbody>\n",
              "    <tr>\n",
              "      <th>7287</th>\n",
              "      <td>Bergen County</td>\n",
              "      <td>0</td>\n",
              "      <td>5946.591</td>\n",
              "      <td>0.027907</td>\n",
              "      <td>0.053871</td>\n",
              "      <td>0.197752</td>\n",
              "    </tr>\n",
              "    <tr>\n",
              "      <th>7288</th>\n",
              "      <td>Bergen County</td>\n",
              "      <td>0</td>\n",
              "      <td>7280.464</td>\n",
              "      <td>0.054640</td>\n",
              "      <td>0.121083</td>\n",
              "      <td>0.085983</td>\n",
              "    </tr>\n",
              "    <tr>\n",
              "      <th>7289</th>\n",
              "      <td>Bergen County</td>\n",
              "      <td>0</td>\n",
              "      <td>6579.957</td>\n",
              "      <td>0.019038</td>\n",
              "      <td>0.104839</td>\n",
              "      <td>0.202637</td>\n",
              "    </tr>\n",
              "    <tr>\n",
              "      <th>7290</th>\n",
              "      <td>Bergen County</td>\n",
              "      <td>0</td>\n",
              "      <td>2381.458</td>\n",
              "      <td>0.000000</td>\n",
              "      <td>0.031522</td>\n",
              "      <td>0.210198</td>\n",
              "    </tr>\n",
              "    <tr>\n",
              "      <th>7291</th>\n",
              "      <td>Bergen County</td>\n",
              "      <td>0</td>\n",
              "      <td>5766.219</td>\n",
              "      <td>0.127785</td>\n",
              "      <td>0.090933</td>\n",
              "      <td>0.237113</td>\n",
              "    </tr>\n",
              "  </tbody>\n",
              "</table>\n",
              "</div>\n",
              "      <button class=\"colab-df-convert\" onclick=\"convertToInteractive('df-56d83fa0-8282-4ebc-b604-61f3aa9c24ce')\"\n",
              "              title=\"Convert this dataframe to an interactive table.\"\n",
              "              style=\"display:none;\">\n",
              "        \n",
              "  <svg xmlns=\"http://www.w3.org/2000/svg\" height=\"24px\"viewBox=\"0 0 24 24\"\n",
              "       width=\"24px\">\n",
              "    <path d=\"M0 0h24v24H0V0z\" fill=\"none\"/>\n",
              "    <path d=\"M18.56 5.44l.94 2.06.94-2.06 2.06-.94-2.06-.94-.94-2.06-.94 2.06-2.06.94zm-11 1L8.5 8.5l.94-2.06 2.06-.94-2.06-.94L8.5 2.5l-.94 2.06-2.06.94zm10 10l.94 2.06.94-2.06 2.06-.94-2.06-.94-.94-2.06-.94 2.06-2.06.94z\"/><path d=\"M17.41 7.96l-1.37-1.37c-.4-.4-.92-.59-1.43-.59-.52 0-1.04.2-1.43.59L10.3 9.45l-7.72 7.72c-.78.78-.78 2.05 0 2.83L4 21.41c.39.39.9.59 1.41.59.51 0 1.02-.2 1.41-.59l7.78-7.78 2.81-2.81c.8-.78.8-2.07 0-2.86zM5.41 20L4 18.59l7.72-7.72 1.47 1.35L5.41 20z\"/>\n",
              "  </svg>\n",
              "      </button>\n",
              "      \n",
              "  <style>\n",
              "    .colab-df-container {\n",
              "      display:flex;\n",
              "      flex-wrap:wrap;\n",
              "      gap: 12px;\n",
              "    }\n",
              "\n",
              "    .colab-df-convert {\n",
              "      background-color: #E8F0FE;\n",
              "      border: none;\n",
              "      border-radius: 50%;\n",
              "      cursor: pointer;\n",
              "      display: none;\n",
              "      fill: #1967D2;\n",
              "      height: 32px;\n",
              "      padding: 0 0 0 0;\n",
              "      width: 32px;\n",
              "    }\n",
              "\n",
              "    .colab-df-convert:hover {\n",
              "      background-color: #E2EBFA;\n",
              "      box-shadow: 0px 1px 2px rgba(60, 64, 67, 0.3), 0px 1px 3px 1px rgba(60, 64, 67, 0.15);\n",
              "      fill: #174EA6;\n",
              "    }\n",
              "\n",
              "    [theme=dark] .colab-df-convert {\n",
              "      background-color: #3B4455;\n",
              "      fill: #D2E3FC;\n",
              "    }\n",
              "\n",
              "    [theme=dark] .colab-df-convert:hover {\n",
              "      background-color: #434B5C;\n",
              "      box-shadow: 0px 1px 3px 1px rgba(0, 0, 0, 0.15);\n",
              "      filter: drop-shadow(0px 1px 2px rgba(0, 0, 0, 0.3));\n",
              "      fill: #FFFFFF;\n",
              "    }\n",
              "  </style>\n",
              "\n",
              "      <script>\n",
              "        const buttonEl =\n",
              "          document.querySelector('#df-56d83fa0-8282-4ebc-b604-61f3aa9c24ce button.colab-df-convert');\n",
              "        buttonEl.style.display =\n",
              "          google.colab.kernel.accessAllowed ? 'block' : 'none';\n",
              "\n",
              "        async function convertToInteractive(key) {\n",
              "          const element = document.querySelector('#df-56d83fa0-8282-4ebc-b604-61f3aa9c24ce');\n",
              "          const dataTable =\n",
              "            await google.colab.kernel.invokeFunction('convertToInteractive',\n",
              "                                                     [key], {});\n",
              "          if (!dataTable) return;\n",
              "\n",
              "          const docLinkHtml = 'Like what you see? Visit the ' +\n",
              "            '<a target=\"_blank\" href=https://colab.research.google.com/notebooks/data_table.ipynb>data table notebook</a>'\n",
              "            + ' to learn more about interactive tables.';\n",
              "          element.innerHTML = '';\n",
              "          dataTable['output_type'] = 'display_data';\n",
              "          await google.colab.output.renderOutput(dataTable, element);\n",
              "          const docLink = document.createElement('div');\n",
              "          docLink.innerHTML = docLinkHtml;\n",
              "          element.appendChild(docLink);\n",
              "        }\n",
              "      </script>\n",
              "    </div>\n",
              "  </div>\n",
              "  "
            ]
          },
          "metadata": {},
          "execution_count": 48
        }
      ]
    },
    {
      "cell_type": "code",
      "source": [
        "# extracts the categorical values\n",
        "categorical_var = list(set(df_Regression.dtypes[df_Regression.dtypes == object].index) - set(['total_panel_area']))\n",
        "categorical_var"
      ],
      "metadata": {
        "colab": {
          "base_uri": "https://localhost:8080/"
        },
        "id": "WPKT94oXOTS5",
        "outputId": "cc683741-3d0b-4d37-a541-0f483ddea8da"
      },
      "execution_count": null,
      "outputs": [
        {
          "output_type": "execute_result",
          "data": {
            "text/plain": [
              "['county']"
            ]
          },
          "metadata": {},
          "execution_count": 49
        }
      ]
    },
    {
      "cell_type": "code",
      "source": [
        "# Create dummy variables \n",
        "dummy_cat_df = pd.get_dummies(df_Regression[categorical_var], drop_first=True) \n",
        "\n",
        "# Drops categorical variables from the df\n",
        "df_Regression = df_Regression.drop(categorical_var, axis = 1) \n",
        "\n",
        "# Adds the newly created dummy variables instead\n",
        "df_Regression = pd.concat([df_Regression, dummy_cat_df], axis = 1) "
      ],
      "metadata": {
        "id": "AGI2ZBOwOYvM"
      },
      "execution_count": null,
      "outputs": []
    },
    {
      "cell_type": "code",
      "source": [
        "df_Regression.head()"
      ],
      "metadata": {
        "colab": {
          "base_uri": "https://localhost:8080/",
          "height": 317
        },
        "id": "Bu4NnJ-4Pjux",
        "outputId": "fb6d1532-b5bd-4381-aa9e-d113bf1cefee"
      },
      "execution_count": null,
      "outputs": [
        {
          "output_type": "execute_result",
          "data": {
            "text/plain": [
              "      total_panel_area  population_density  \\\n",
              "7287                 0            5946.591   \n",
              "7288                 0            7280.464   \n",
              "7289                 0            6579.957   \n",
              "7290                 0            2381.458   \n",
              "7291                 0            5766.219   \n",
              "\n",
              "      poverty_family_below_poverty_level_rate  \\\n",
              "7287                                 0.027907   \n",
              "7288                                 0.054640   \n",
              "7289                                 0.019038   \n",
              "7290                                 0.000000   \n",
              "7291                                 0.127785   \n",
              "\n",
              "      education_less_than_high_school_rate  transportation_public_rate  \\\n",
              "7287                              0.053871                    0.197752   \n",
              "7288                              0.121083                    0.085983   \n",
              "7289                              0.104839                    0.202637   \n",
              "7290                              0.031522                    0.210198   \n",
              "7291                              0.090933                    0.237113   \n",
              "\n",
              "      county_Bergen County  county_Burlington County  county_Camden County  \\\n",
              "7287                     1                         0                     0   \n",
              "7288                     1                         0                     0   \n",
              "7289                     1                         0                     0   \n",
              "7290                     1                         0                     0   \n",
              "7291                     1                         0                     0   \n",
              "\n",
              "      county_Cape May County  county_Cumberland County  ...  \\\n",
              "7287                       0                         0  ...   \n",
              "7288                       0                         0  ...   \n",
              "7289                       0                         0  ...   \n",
              "7290                       0                         0  ...   \n",
              "7291                       0                         0  ...   \n",
              "\n",
              "      county_Middlesex County  county_Monmouth County  county_Morris County  \\\n",
              "7287                        0                       0                     0   \n",
              "7288                        0                       0                     0   \n",
              "7289                        0                       0                     0   \n",
              "7290                        0                       0                     0   \n",
              "7291                        0                       0                     0   \n",
              "\n",
              "      county_Ocean County  county_Passaic County  county_Salem County  \\\n",
              "7287                    0                      0                    0   \n",
              "7288                    0                      0                    0   \n",
              "7289                    0                      0                    0   \n",
              "7290                    0                      0                    0   \n",
              "7291                    0                      0                    0   \n",
              "\n",
              "      county_Somerset County  county_Sussex County  county_Union County  \\\n",
              "7287                       0                     0                    0   \n",
              "7288                       0                     0                    0   \n",
              "7289                       0                     0                    0   \n",
              "7290                       0                     0                    0   \n",
              "7291                       0                     0                    0   \n",
              "\n",
              "      county_Warren County  \n",
              "7287                     0  \n",
              "7288                     0  \n",
              "7289                     0  \n",
              "7290                     0  \n",
              "7291                     0  \n",
              "\n",
              "[5 rows x 25 columns]"
            ],
            "text/html": [
              "\n",
              "  <div id=\"df-a14f67be-a64e-4e1c-b6c3-2176108503d0\">\n",
              "    <div class=\"colab-df-container\">\n",
              "      <div>\n",
              "<style scoped>\n",
              "    .dataframe tbody tr th:only-of-type {\n",
              "        vertical-align: middle;\n",
              "    }\n",
              "\n",
              "    .dataframe tbody tr th {\n",
              "        vertical-align: top;\n",
              "    }\n",
              "\n",
              "    .dataframe thead th {\n",
              "        text-align: right;\n",
              "    }\n",
              "</style>\n",
              "<table border=\"1\" class=\"dataframe\">\n",
              "  <thead>\n",
              "    <tr style=\"text-align: right;\">\n",
              "      <th></th>\n",
              "      <th>total_panel_area</th>\n",
              "      <th>population_density</th>\n",
              "      <th>poverty_family_below_poverty_level_rate</th>\n",
              "      <th>education_less_than_high_school_rate</th>\n",
              "      <th>transportation_public_rate</th>\n",
              "      <th>county_Bergen County</th>\n",
              "      <th>county_Burlington County</th>\n",
              "      <th>county_Camden County</th>\n",
              "      <th>county_Cape May County</th>\n",
              "      <th>county_Cumberland County</th>\n",
              "      <th>...</th>\n",
              "      <th>county_Middlesex County</th>\n",
              "      <th>county_Monmouth County</th>\n",
              "      <th>county_Morris County</th>\n",
              "      <th>county_Ocean County</th>\n",
              "      <th>county_Passaic County</th>\n",
              "      <th>county_Salem County</th>\n",
              "      <th>county_Somerset County</th>\n",
              "      <th>county_Sussex County</th>\n",
              "      <th>county_Union County</th>\n",
              "      <th>county_Warren County</th>\n",
              "    </tr>\n",
              "  </thead>\n",
              "  <tbody>\n",
              "    <tr>\n",
              "      <th>7287</th>\n",
              "      <td>0</td>\n",
              "      <td>5946.591</td>\n",
              "      <td>0.027907</td>\n",
              "      <td>0.053871</td>\n",
              "      <td>0.197752</td>\n",
              "      <td>1</td>\n",
              "      <td>0</td>\n",
              "      <td>0</td>\n",
              "      <td>0</td>\n",
              "      <td>0</td>\n",
              "      <td>...</td>\n",
              "      <td>0</td>\n",
              "      <td>0</td>\n",
              "      <td>0</td>\n",
              "      <td>0</td>\n",
              "      <td>0</td>\n",
              "      <td>0</td>\n",
              "      <td>0</td>\n",
              "      <td>0</td>\n",
              "      <td>0</td>\n",
              "      <td>0</td>\n",
              "    </tr>\n",
              "    <tr>\n",
              "      <th>7288</th>\n",
              "      <td>0</td>\n",
              "      <td>7280.464</td>\n",
              "      <td>0.054640</td>\n",
              "      <td>0.121083</td>\n",
              "      <td>0.085983</td>\n",
              "      <td>1</td>\n",
              "      <td>0</td>\n",
              "      <td>0</td>\n",
              "      <td>0</td>\n",
              "      <td>0</td>\n",
              "      <td>...</td>\n",
              "      <td>0</td>\n",
              "      <td>0</td>\n",
              "      <td>0</td>\n",
              "      <td>0</td>\n",
              "      <td>0</td>\n",
              "      <td>0</td>\n",
              "      <td>0</td>\n",
              "      <td>0</td>\n",
              "      <td>0</td>\n",
              "      <td>0</td>\n",
              "    </tr>\n",
              "    <tr>\n",
              "      <th>7289</th>\n",
              "      <td>0</td>\n",
              "      <td>6579.957</td>\n",
              "      <td>0.019038</td>\n",
              "      <td>0.104839</td>\n",
              "      <td>0.202637</td>\n",
              "      <td>1</td>\n",
              "      <td>0</td>\n",
              "      <td>0</td>\n",
              "      <td>0</td>\n",
              "      <td>0</td>\n",
              "      <td>...</td>\n",
              "      <td>0</td>\n",
              "      <td>0</td>\n",
              "      <td>0</td>\n",
              "      <td>0</td>\n",
              "      <td>0</td>\n",
              "      <td>0</td>\n",
              "      <td>0</td>\n",
              "      <td>0</td>\n",
              "      <td>0</td>\n",
              "      <td>0</td>\n",
              "    </tr>\n",
              "    <tr>\n",
              "      <th>7290</th>\n",
              "      <td>0</td>\n",
              "      <td>2381.458</td>\n",
              "      <td>0.000000</td>\n",
              "      <td>0.031522</td>\n",
              "      <td>0.210198</td>\n",
              "      <td>1</td>\n",
              "      <td>0</td>\n",
              "      <td>0</td>\n",
              "      <td>0</td>\n",
              "      <td>0</td>\n",
              "      <td>...</td>\n",
              "      <td>0</td>\n",
              "      <td>0</td>\n",
              "      <td>0</td>\n",
              "      <td>0</td>\n",
              "      <td>0</td>\n",
              "      <td>0</td>\n",
              "      <td>0</td>\n",
              "      <td>0</td>\n",
              "      <td>0</td>\n",
              "      <td>0</td>\n",
              "    </tr>\n",
              "    <tr>\n",
              "      <th>7291</th>\n",
              "      <td>0</td>\n",
              "      <td>5766.219</td>\n",
              "      <td>0.127785</td>\n",
              "      <td>0.090933</td>\n",
              "      <td>0.237113</td>\n",
              "      <td>1</td>\n",
              "      <td>0</td>\n",
              "      <td>0</td>\n",
              "      <td>0</td>\n",
              "      <td>0</td>\n",
              "      <td>...</td>\n",
              "      <td>0</td>\n",
              "      <td>0</td>\n",
              "      <td>0</td>\n",
              "      <td>0</td>\n",
              "      <td>0</td>\n",
              "      <td>0</td>\n",
              "      <td>0</td>\n",
              "      <td>0</td>\n",
              "      <td>0</td>\n",
              "      <td>0</td>\n",
              "    </tr>\n",
              "  </tbody>\n",
              "</table>\n",
              "<p>5 rows × 25 columns</p>\n",
              "</div>\n",
              "      <button class=\"colab-df-convert\" onclick=\"convertToInteractive('df-a14f67be-a64e-4e1c-b6c3-2176108503d0')\"\n",
              "              title=\"Convert this dataframe to an interactive table.\"\n",
              "              style=\"display:none;\">\n",
              "        \n",
              "  <svg xmlns=\"http://www.w3.org/2000/svg\" height=\"24px\"viewBox=\"0 0 24 24\"\n",
              "       width=\"24px\">\n",
              "    <path d=\"M0 0h24v24H0V0z\" fill=\"none\"/>\n",
              "    <path d=\"M18.56 5.44l.94 2.06.94-2.06 2.06-.94-2.06-.94-.94-2.06-.94 2.06-2.06.94zm-11 1L8.5 8.5l.94-2.06 2.06-.94-2.06-.94L8.5 2.5l-.94 2.06-2.06.94zm10 10l.94 2.06.94-2.06 2.06-.94-2.06-.94-.94-2.06-.94 2.06-2.06.94z\"/><path d=\"M17.41 7.96l-1.37-1.37c-.4-.4-.92-.59-1.43-.59-.52 0-1.04.2-1.43.59L10.3 9.45l-7.72 7.72c-.78.78-.78 2.05 0 2.83L4 21.41c.39.39.9.59 1.41.59.51 0 1.02-.2 1.41-.59l7.78-7.78 2.81-2.81c.8-.78.8-2.07 0-2.86zM5.41 20L4 18.59l7.72-7.72 1.47 1.35L5.41 20z\"/>\n",
              "  </svg>\n",
              "      </button>\n",
              "      \n",
              "  <style>\n",
              "    .colab-df-container {\n",
              "      display:flex;\n",
              "      flex-wrap:wrap;\n",
              "      gap: 12px;\n",
              "    }\n",
              "\n",
              "    .colab-df-convert {\n",
              "      background-color: #E8F0FE;\n",
              "      border: none;\n",
              "      border-radius: 50%;\n",
              "      cursor: pointer;\n",
              "      display: none;\n",
              "      fill: #1967D2;\n",
              "      height: 32px;\n",
              "      padding: 0 0 0 0;\n",
              "      width: 32px;\n",
              "    }\n",
              "\n",
              "    .colab-df-convert:hover {\n",
              "      background-color: #E2EBFA;\n",
              "      box-shadow: 0px 1px 2px rgba(60, 64, 67, 0.3), 0px 1px 3px 1px rgba(60, 64, 67, 0.15);\n",
              "      fill: #174EA6;\n",
              "    }\n",
              "\n",
              "    [theme=dark] .colab-df-convert {\n",
              "      background-color: #3B4455;\n",
              "      fill: #D2E3FC;\n",
              "    }\n",
              "\n",
              "    [theme=dark] .colab-df-convert:hover {\n",
              "      background-color: #434B5C;\n",
              "      box-shadow: 0px 1px 3px 1px rgba(0, 0, 0, 0.15);\n",
              "      filter: drop-shadow(0px 1px 2px rgba(0, 0, 0, 0.3));\n",
              "      fill: #FFFFFF;\n",
              "    }\n",
              "  </style>\n",
              "\n",
              "      <script>\n",
              "        const buttonEl =\n",
              "          document.querySelector('#df-a14f67be-a64e-4e1c-b6c3-2176108503d0 button.colab-df-convert');\n",
              "        buttonEl.style.display =\n",
              "          google.colab.kernel.accessAllowed ? 'block' : 'none';\n",
              "\n",
              "        async function convertToInteractive(key) {\n",
              "          const element = document.querySelector('#df-a14f67be-a64e-4e1c-b6c3-2176108503d0');\n",
              "          const dataTable =\n",
              "            await google.colab.kernel.invokeFunction('convertToInteractive',\n",
              "                                                     [key], {});\n",
              "          if (!dataTable) return;\n",
              "\n",
              "          const docLinkHtml = 'Like what you see? Visit the ' +\n",
              "            '<a target=\"_blank\" href=https://colab.research.google.com/notebooks/data_table.ipynb>data table notebook</a>'\n",
              "            + ' to learn more about interactive tables.';\n",
              "          element.innerHTML = '';\n",
              "          dataTable['output_type'] = 'display_data';\n",
              "          await google.colab.output.renderOutput(dataTable, element);\n",
              "          const docLink = document.createElement('div');\n",
              "          docLink.innerHTML = docLinkHtml;\n",
              "          element.appendChild(docLink);\n",
              "        }\n",
              "      </script>\n",
              "    </div>\n",
              "  </div>\n",
              "  "
            ]
          },
          "metadata": {},
          "execution_count": 51
        }
      ]
    },
    {
      "cell_type": "code",
      "source": [
        "df_Regression.replace([np.inf, -np.inf], np.nan, inplace=True)"
      ],
      "metadata": {
        "id": "4UzUA3M4UcJC"
      },
      "execution_count": null,
      "outputs": []
    },
    {
      "cell_type": "code",
      "source": [
        "def clean_dataset(df):\n",
        "    assert isinstance(df, pd.DataFrame), \"df needs to be a pd.DataFrame\"\n",
        "    df.dropna(inplace=True)\n",
        "    indices_to_keep = ~df.isin([np.nan, np.inf, -np.inf]).any(1)\n",
        "    return df[indices_to_keep].astype(np.float64)"
      ],
      "metadata": {
        "id": "deSUuffZPbJM"
      },
      "execution_count": null,
      "outputs": []
    },
    {
      "cell_type": "code",
      "source": [
        "#Re-classifying attrition flag as category\n",
        "df_Regression['total_panel_area'] =  df_Regression['total_panel_area'].astype(\"category\",copy=False)"
      ],
      "metadata": {
        "id": "EolKUOKstseP"
      },
      "execution_count": null,
      "outputs": []
    },
    {
      "cell_type": "code",
      "metadata": {
        "id": "EMIcyCm1o02b"
      },
      "source": [
        "#Separating our target\n",
        "X = df_Regression.drop('total_panel_area', axis=1)\n",
        "y = df_Regression['total_panel_area']"
      ],
      "execution_count": null,
      "outputs": []
    },
    {
      "cell_type": "code",
      "source": [
        "# Train and test splitting\n",
        "X_train, X_test, y_train, y_test = train_test_split(X, y, test_size=0.3, random_state=1)"
      ],
      "metadata": {
        "id": "B1pBrdTWtXMP"
      },
      "execution_count": null,
      "outputs": []
    },
    {
      "cell_type": "code",
      "source": [
        "# MinMax Scaler transforms features into [0,1]\n",
        "# Formula: X_rescaled = (Xi - Xmin) / (Xmax-Xmin)\n",
        "\n",
        "scaler = MinMaxScaler()\n",
        "X_train = scaler.fit_transform(X_train)\n",
        "X_test = scaler.fit_transform(X_test)\n",
        "X_rescaled = pd.DataFrame(X_train, columns=X.columns)"
      ],
      "metadata": {
        "id": "96ycJcXguKd6"
      },
      "execution_count": null,
      "outputs": []
    },
    {
      "cell_type": "code",
      "source": [
        "X_rescaled.describe().transpose()"
      ],
      "metadata": {
        "id": "kjaUvJXru1DP",
        "colab": {
          "base_uri": "https://localhost:8080/",
          "height": 802
        },
        "outputId": "62b931c7-1c0f-4155-aa95-e3119125630c"
      },
      "execution_count": null,
      "outputs": [
        {
          "output_type": "execute_result",
          "data": {
            "text/plain": [
              "                                          count      mean       std  min  \\\n",
              "population_density                       1407.0  0.087380  0.124723  0.0   \n",
              "poverty_family_below_poverty_level_rate  1407.0  0.152477  0.165763  0.0   \n",
              "education_less_than_high_school_rate     1407.0  0.181297  0.152121  0.0   \n",
              "transportation_public_rate               1407.0  0.141043  0.155447  0.0   \n",
              "county_Bergen County                     1407.0  0.089552  0.285641  0.0   \n",
              "county_Burlington County                 1407.0  0.061834  0.240939  0.0   \n",
              "county_Camden County                     1407.0  0.062544  0.242228  0.0   \n",
              "county_Cape May County                   1407.0  0.015636  0.124107  0.0   \n",
              "county_Cumberland County                 1407.0  0.018479  0.134724  0.0   \n",
              "county_Essex County                      1407.0  0.103767  0.305066  0.0   \n",
              "county_Gloucester County                 1407.0  0.032694  0.177897  0.0   \n",
              "county_Hudson County                     1407.0  0.084577  0.278350  0.0   \n",
              "county_Hunterdon County                  1407.0  0.011372  0.106068  0.0   \n",
              "county_Mercer County                     1407.0  0.042644  0.202125  0.0   \n",
              "county_Middlesex County                  1407.0  0.090263  0.286660  0.0   \n",
              "county_Monmouth County                   1407.0  0.070362  0.255848  0.0   \n",
              "county_Morris County                     1407.0  0.046908  0.211518  0.0   \n",
              "county_Ocean County                      1407.0  0.059701  0.237017  0.0   \n",
              "county_Passaic County                    1407.0  0.045487  0.208443  0.0   \n",
              "county_Salem County                      1407.0  0.012082  0.109293  0.0   \n",
              "county_Somerset County                   1407.0  0.034826  0.183404  0.0   \n",
              "county_Sussex County                     1407.0  0.019190  0.137240  0.0   \n",
              "county_Union County                      1407.0  0.052594  0.223301  0.0   \n",
              "county_Warren County                     1407.0  0.014215  0.118417  0.0   \n",
              "\n",
              "                                              25%       50%       75%  max  \n",
              "population_density                       0.018225  0.040872  0.099262  1.0  \n",
              "poverty_family_below_poverty_level_rate  0.039852  0.090509  0.203311  1.0  \n",
              "education_less_than_high_school_rate     0.074707  0.133733  0.234680  1.0  \n",
              "transportation_public_rate               0.036973  0.087689  0.187140  1.0  \n",
              "county_Bergen County                     0.000000  0.000000  0.000000  1.0  \n",
              "county_Burlington County                 0.000000  0.000000  0.000000  1.0  \n",
              "county_Camden County                     0.000000  0.000000  0.000000  1.0  \n",
              "county_Cape May County                   0.000000  0.000000  0.000000  1.0  \n",
              "county_Cumberland County                 0.000000  0.000000  0.000000  1.0  \n",
              "county_Essex County                      0.000000  0.000000  0.000000  1.0  \n",
              "county_Gloucester County                 0.000000  0.000000  0.000000  1.0  \n",
              "county_Hudson County                     0.000000  0.000000  0.000000  1.0  \n",
              "county_Hunterdon County                  0.000000  0.000000  0.000000  1.0  \n",
              "county_Mercer County                     0.000000  0.000000  0.000000  1.0  \n",
              "county_Middlesex County                  0.000000  0.000000  0.000000  1.0  \n",
              "county_Monmouth County                   0.000000  0.000000  0.000000  1.0  \n",
              "county_Morris County                     0.000000  0.000000  0.000000  1.0  \n",
              "county_Ocean County                      0.000000  0.000000  0.000000  1.0  \n",
              "county_Passaic County                    0.000000  0.000000  0.000000  1.0  \n",
              "county_Salem County                      0.000000  0.000000  0.000000  1.0  \n",
              "county_Somerset County                   0.000000  0.000000  0.000000  1.0  \n",
              "county_Sussex County                     0.000000  0.000000  0.000000  1.0  \n",
              "county_Union County                      0.000000  0.000000  0.000000  1.0  \n",
              "county_Warren County                     0.000000  0.000000  0.000000  1.0  "
            ],
            "text/html": [
              "\n",
              "  <div id=\"df-6683bf16-8af4-4bde-a564-fed5f541efe0\">\n",
              "    <div class=\"colab-df-container\">\n",
              "      <div>\n",
              "<style scoped>\n",
              "    .dataframe tbody tr th:only-of-type {\n",
              "        vertical-align: middle;\n",
              "    }\n",
              "\n",
              "    .dataframe tbody tr th {\n",
              "        vertical-align: top;\n",
              "    }\n",
              "\n",
              "    .dataframe thead th {\n",
              "        text-align: right;\n",
              "    }\n",
              "</style>\n",
              "<table border=\"1\" class=\"dataframe\">\n",
              "  <thead>\n",
              "    <tr style=\"text-align: right;\">\n",
              "      <th></th>\n",
              "      <th>count</th>\n",
              "      <th>mean</th>\n",
              "      <th>std</th>\n",
              "      <th>min</th>\n",
              "      <th>25%</th>\n",
              "      <th>50%</th>\n",
              "      <th>75%</th>\n",
              "      <th>max</th>\n",
              "    </tr>\n",
              "  </thead>\n",
              "  <tbody>\n",
              "    <tr>\n",
              "      <th>population_density</th>\n",
              "      <td>1407.0</td>\n",
              "      <td>0.087380</td>\n",
              "      <td>0.124723</td>\n",
              "      <td>0.0</td>\n",
              "      <td>0.018225</td>\n",
              "      <td>0.040872</td>\n",
              "      <td>0.099262</td>\n",
              "      <td>1.0</td>\n",
              "    </tr>\n",
              "    <tr>\n",
              "      <th>poverty_family_below_poverty_level_rate</th>\n",
              "      <td>1407.0</td>\n",
              "      <td>0.152477</td>\n",
              "      <td>0.165763</td>\n",
              "      <td>0.0</td>\n",
              "      <td>0.039852</td>\n",
              "      <td>0.090509</td>\n",
              "      <td>0.203311</td>\n",
              "      <td>1.0</td>\n",
              "    </tr>\n",
              "    <tr>\n",
              "      <th>education_less_than_high_school_rate</th>\n",
              "      <td>1407.0</td>\n",
              "      <td>0.181297</td>\n",
              "      <td>0.152121</td>\n",
              "      <td>0.0</td>\n",
              "      <td>0.074707</td>\n",
              "      <td>0.133733</td>\n",
              "      <td>0.234680</td>\n",
              "      <td>1.0</td>\n",
              "    </tr>\n",
              "    <tr>\n",
              "      <th>transportation_public_rate</th>\n",
              "      <td>1407.0</td>\n",
              "      <td>0.141043</td>\n",
              "      <td>0.155447</td>\n",
              "      <td>0.0</td>\n",
              "      <td>0.036973</td>\n",
              "      <td>0.087689</td>\n",
              "      <td>0.187140</td>\n",
              "      <td>1.0</td>\n",
              "    </tr>\n",
              "    <tr>\n",
              "      <th>county_Bergen County</th>\n",
              "      <td>1407.0</td>\n",
              "      <td>0.089552</td>\n",
              "      <td>0.285641</td>\n",
              "      <td>0.0</td>\n",
              "      <td>0.000000</td>\n",
              "      <td>0.000000</td>\n",
              "      <td>0.000000</td>\n",
              "      <td>1.0</td>\n",
              "    </tr>\n",
              "    <tr>\n",
              "      <th>county_Burlington County</th>\n",
              "      <td>1407.0</td>\n",
              "      <td>0.061834</td>\n",
              "      <td>0.240939</td>\n",
              "      <td>0.0</td>\n",
              "      <td>0.000000</td>\n",
              "      <td>0.000000</td>\n",
              "      <td>0.000000</td>\n",
              "      <td>1.0</td>\n",
              "    </tr>\n",
              "    <tr>\n",
              "      <th>county_Camden County</th>\n",
              "      <td>1407.0</td>\n",
              "      <td>0.062544</td>\n",
              "      <td>0.242228</td>\n",
              "      <td>0.0</td>\n",
              "      <td>0.000000</td>\n",
              "      <td>0.000000</td>\n",
              "      <td>0.000000</td>\n",
              "      <td>1.0</td>\n",
              "    </tr>\n",
              "    <tr>\n",
              "      <th>county_Cape May County</th>\n",
              "      <td>1407.0</td>\n",
              "      <td>0.015636</td>\n",
              "      <td>0.124107</td>\n",
              "      <td>0.0</td>\n",
              "      <td>0.000000</td>\n",
              "      <td>0.000000</td>\n",
              "      <td>0.000000</td>\n",
              "      <td>1.0</td>\n",
              "    </tr>\n",
              "    <tr>\n",
              "      <th>county_Cumberland County</th>\n",
              "      <td>1407.0</td>\n",
              "      <td>0.018479</td>\n",
              "      <td>0.134724</td>\n",
              "      <td>0.0</td>\n",
              "      <td>0.000000</td>\n",
              "      <td>0.000000</td>\n",
              "      <td>0.000000</td>\n",
              "      <td>1.0</td>\n",
              "    </tr>\n",
              "    <tr>\n",
              "      <th>county_Essex County</th>\n",
              "      <td>1407.0</td>\n",
              "      <td>0.103767</td>\n",
              "      <td>0.305066</td>\n",
              "      <td>0.0</td>\n",
              "      <td>0.000000</td>\n",
              "      <td>0.000000</td>\n",
              "      <td>0.000000</td>\n",
              "      <td>1.0</td>\n",
              "    </tr>\n",
              "    <tr>\n",
              "      <th>county_Gloucester County</th>\n",
              "      <td>1407.0</td>\n",
              "      <td>0.032694</td>\n",
              "      <td>0.177897</td>\n",
              "      <td>0.0</td>\n",
              "      <td>0.000000</td>\n",
              "      <td>0.000000</td>\n",
              "      <td>0.000000</td>\n",
              "      <td>1.0</td>\n",
              "    </tr>\n",
              "    <tr>\n",
              "      <th>county_Hudson County</th>\n",
              "      <td>1407.0</td>\n",
              "      <td>0.084577</td>\n",
              "      <td>0.278350</td>\n",
              "      <td>0.0</td>\n",
              "      <td>0.000000</td>\n",
              "      <td>0.000000</td>\n",
              "      <td>0.000000</td>\n",
              "      <td>1.0</td>\n",
              "    </tr>\n",
              "    <tr>\n",
              "      <th>county_Hunterdon County</th>\n",
              "      <td>1407.0</td>\n",
              "      <td>0.011372</td>\n",
              "      <td>0.106068</td>\n",
              "      <td>0.0</td>\n",
              "      <td>0.000000</td>\n",
              "      <td>0.000000</td>\n",
              "      <td>0.000000</td>\n",
              "      <td>1.0</td>\n",
              "    </tr>\n",
              "    <tr>\n",
              "      <th>county_Mercer County</th>\n",
              "      <td>1407.0</td>\n",
              "      <td>0.042644</td>\n",
              "      <td>0.202125</td>\n",
              "      <td>0.0</td>\n",
              "      <td>0.000000</td>\n",
              "      <td>0.000000</td>\n",
              "      <td>0.000000</td>\n",
              "      <td>1.0</td>\n",
              "    </tr>\n",
              "    <tr>\n",
              "      <th>county_Middlesex County</th>\n",
              "      <td>1407.0</td>\n",
              "      <td>0.090263</td>\n",
              "      <td>0.286660</td>\n",
              "      <td>0.0</td>\n",
              "      <td>0.000000</td>\n",
              "      <td>0.000000</td>\n",
              "      <td>0.000000</td>\n",
              "      <td>1.0</td>\n",
              "    </tr>\n",
              "    <tr>\n",
              "      <th>county_Monmouth County</th>\n",
              "      <td>1407.0</td>\n",
              "      <td>0.070362</td>\n",
              "      <td>0.255848</td>\n",
              "      <td>0.0</td>\n",
              "      <td>0.000000</td>\n",
              "      <td>0.000000</td>\n",
              "      <td>0.000000</td>\n",
              "      <td>1.0</td>\n",
              "    </tr>\n",
              "    <tr>\n",
              "      <th>county_Morris County</th>\n",
              "      <td>1407.0</td>\n",
              "      <td>0.046908</td>\n",
              "      <td>0.211518</td>\n",
              "      <td>0.0</td>\n",
              "      <td>0.000000</td>\n",
              "      <td>0.000000</td>\n",
              "      <td>0.000000</td>\n",
              "      <td>1.0</td>\n",
              "    </tr>\n",
              "    <tr>\n",
              "      <th>county_Ocean County</th>\n",
              "      <td>1407.0</td>\n",
              "      <td>0.059701</td>\n",
              "      <td>0.237017</td>\n",
              "      <td>0.0</td>\n",
              "      <td>0.000000</td>\n",
              "      <td>0.000000</td>\n",
              "      <td>0.000000</td>\n",
              "      <td>1.0</td>\n",
              "    </tr>\n",
              "    <tr>\n",
              "      <th>county_Passaic County</th>\n",
              "      <td>1407.0</td>\n",
              "      <td>0.045487</td>\n",
              "      <td>0.208443</td>\n",
              "      <td>0.0</td>\n",
              "      <td>0.000000</td>\n",
              "      <td>0.000000</td>\n",
              "      <td>0.000000</td>\n",
              "      <td>1.0</td>\n",
              "    </tr>\n",
              "    <tr>\n",
              "      <th>county_Salem County</th>\n",
              "      <td>1407.0</td>\n",
              "      <td>0.012082</td>\n",
              "      <td>0.109293</td>\n",
              "      <td>0.0</td>\n",
              "      <td>0.000000</td>\n",
              "      <td>0.000000</td>\n",
              "      <td>0.000000</td>\n",
              "      <td>1.0</td>\n",
              "    </tr>\n",
              "    <tr>\n",
              "      <th>county_Somerset County</th>\n",
              "      <td>1407.0</td>\n",
              "      <td>0.034826</td>\n",
              "      <td>0.183404</td>\n",
              "      <td>0.0</td>\n",
              "      <td>0.000000</td>\n",
              "      <td>0.000000</td>\n",
              "      <td>0.000000</td>\n",
              "      <td>1.0</td>\n",
              "    </tr>\n",
              "    <tr>\n",
              "      <th>county_Sussex County</th>\n",
              "      <td>1407.0</td>\n",
              "      <td>0.019190</td>\n",
              "      <td>0.137240</td>\n",
              "      <td>0.0</td>\n",
              "      <td>0.000000</td>\n",
              "      <td>0.000000</td>\n",
              "      <td>0.000000</td>\n",
              "      <td>1.0</td>\n",
              "    </tr>\n",
              "    <tr>\n",
              "      <th>county_Union County</th>\n",
              "      <td>1407.0</td>\n",
              "      <td>0.052594</td>\n",
              "      <td>0.223301</td>\n",
              "      <td>0.0</td>\n",
              "      <td>0.000000</td>\n",
              "      <td>0.000000</td>\n",
              "      <td>0.000000</td>\n",
              "      <td>1.0</td>\n",
              "    </tr>\n",
              "    <tr>\n",
              "      <th>county_Warren County</th>\n",
              "      <td>1407.0</td>\n",
              "      <td>0.014215</td>\n",
              "      <td>0.118417</td>\n",
              "      <td>0.0</td>\n",
              "      <td>0.000000</td>\n",
              "      <td>0.000000</td>\n",
              "      <td>0.000000</td>\n",
              "      <td>1.0</td>\n",
              "    </tr>\n",
              "  </tbody>\n",
              "</table>\n",
              "</div>\n",
              "      <button class=\"colab-df-convert\" onclick=\"convertToInteractive('df-6683bf16-8af4-4bde-a564-fed5f541efe0')\"\n",
              "              title=\"Convert this dataframe to an interactive table.\"\n",
              "              style=\"display:none;\">\n",
              "        \n",
              "  <svg xmlns=\"http://www.w3.org/2000/svg\" height=\"24px\"viewBox=\"0 0 24 24\"\n",
              "       width=\"24px\">\n",
              "    <path d=\"M0 0h24v24H0V0z\" fill=\"none\"/>\n",
              "    <path d=\"M18.56 5.44l.94 2.06.94-2.06 2.06-.94-2.06-.94-.94-2.06-.94 2.06-2.06.94zm-11 1L8.5 8.5l.94-2.06 2.06-.94-2.06-.94L8.5 2.5l-.94 2.06-2.06.94zm10 10l.94 2.06.94-2.06 2.06-.94-2.06-.94-.94-2.06-.94 2.06-2.06.94z\"/><path d=\"M17.41 7.96l-1.37-1.37c-.4-.4-.92-.59-1.43-.59-.52 0-1.04.2-1.43.59L10.3 9.45l-7.72 7.72c-.78.78-.78 2.05 0 2.83L4 21.41c.39.39.9.59 1.41.59.51 0 1.02-.2 1.41-.59l7.78-7.78 2.81-2.81c.8-.78.8-2.07 0-2.86zM5.41 20L4 18.59l7.72-7.72 1.47 1.35L5.41 20z\"/>\n",
              "  </svg>\n",
              "      </button>\n",
              "      \n",
              "  <style>\n",
              "    .colab-df-container {\n",
              "      display:flex;\n",
              "      flex-wrap:wrap;\n",
              "      gap: 12px;\n",
              "    }\n",
              "\n",
              "    .colab-df-convert {\n",
              "      background-color: #E8F0FE;\n",
              "      border: none;\n",
              "      border-radius: 50%;\n",
              "      cursor: pointer;\n",
              "      display: none;\n",
              "      fill: #1967D2;\n",
              "      height: 32px;\n",
              "      padding: 0 0 0 0;\n",
              "      width: 32px;\n",
              "    }\n",
              "\n",
              "    .colab-df-convert:hover {\n",
              "      background-color: #E2EBFA;\n",
              "      box-shadow: 0px 1px 2px rgba(60, 64, 67, 0.3), 0px 1px 3px 1px rgba(60, 64, 67, 0.15);\n",
              "      fill: #174EA6;\n",
              "    }\n",
              "\n",
              "    [theme=dark] .colab-df-convert {\n",
              "      background-color: #3B4455;\n",
              "      fill: #D2E3FC;\n",
              "    }\n",
              "\n",
              "    [theme=dark] .colab-df-convert:hover {\n",
              "      background-color: #434B5C;\n",
              "      box-shadow: 0px 1px 3px 1px rgba(0, 0, 0, 0.15);\n",
              "      filter: drop-shadow(0px 1px 2px rgba(0, 0, 0, 0.3));\n",
              "      fill: #FFFFFF;\n",
              "    }\n",
              "  </style>\n",
              "\n",
              "      <script>\n",
              "        const buttonEl =\n",
              "          document.querySelector('#df-6683bf16-8af4-4bde-a564-fed5f541efe0 button.colab-df-convert');\n",
              "        buttonEl.style.display =\n",
              "          google.colab.kernel.accessAllowed ? 'block' : 'none';\n",
              "\n",
              "        async function convertToInteractive(key) {\n",
              "          const element = document.querySelector('#df-6683bf16-8af4-4bde-a564-fed5f541efe0');\n",
              "          const dataTable =\n",
              "            await google.colab.kernel.invokeFunction('convertToInteractive',\n",
              "                                                     [key], {});\n",
              "          if (!dataTable) return;\n",
              "\n",
              "          const docLinkHtml = 'Like what you see? Visit the ' +\n",
              "            '<a target=\"_blank\" href=https://colab.research.google.com/notebooks/data_table.ipynb>data table notebook</a>'\n",
              "            + ' to learn more about interactive tables.';\n",
              "          element.innerHTML = '';\n",
              "          dataTable['output_type'] = 'display_data';\n",
              "          await google.colab.output.renderOutput(dataTable, element);\n",
              "          const docLink = document.createElement('div');\n",
              "          docLink.innerHTML = docLinkHtml;\n",
              "          element.appendChild(docLink);\n",
              "        }\n",
              "      </script>\n",
              "    </div>\n",
              "  </div>\n",
              "  "
            ]
          },
          "metadata": {},
          "execution_count": 58
        }
      ]
    },
    {
      "cell_type": "code",
      "source": [
        "# Build a logistic model\n",
        "logmodel = LogisticRegression(solver='liblinear')\n",
        "logmodel.fit(X_train,y_train)\n",
        "\n",
        "# Check predictions\n",
        "y_pred = logmodel.predict(X_test)\n",
        "\n",
        "# Confusion matrix\n",
        "print(confusion_matrix(y_test, y_pred))\n",
        "\n",
        " #Check coefficients\n",
        "print(logmodel.coef_)"
      ],
      "metadata": {
        "id": "HzwQZcELvFOr",
        "colab": {
          "base_uri": "https://localhost:8080/"
        },
        "outputId": "3a52e5fd-c8a7-4621-c18f-efc57005699a"
      },
      "execution_count": null,
      "outputs": [
        {
          "output_type": "stream",
          "name": "stdout",
          "text": [
            "[[556   6]\n",
            " [ 36   5]]\n",
            "[[ 2.89576811  1.84982436  0.92752432  1.41608495 -0.36599495 -0.23420212\n",
            "  -0.01132744 -0.49020324  0.83595294  0.00764509 -0.707694    0.009957\n",
            "  -0.32721657 -0.51460754 -1.44929747 -0.82636352 -0.02091156 -0.2867472\n",
            "  -0.65786719  0.56355353 -0.74810911  0.97827456 -0.64925303  1.0992825 ]]\n"
          ]
        }
      ]
    },
    {
      "cell_type": "code",
      "source": [
        "import statsmodels.api as sm\n",
        "logit_model=sm.Logit(y_train, X_train)\n",
        "logmodel_2=logit_model.fit()\n",
        "print(logmodel_2.summary2())"
      ],
      "metadata": {
        "colab": {
          "base_uri": "https://localhost:8080/"
        },
        "id": "L0c5QAbZWHAm",
        "outputId": "e45aa382-7fae-4bee-a1a9-10fd5e824176"
      },
      "execution_count": null,
      "outputs": [
        {
          "output_type": "stream",
          "name": "stdout",
          "text": [
            "Warning: Maximum number of iterations has been exceeded.\n",
            "         Current function value: 0.182732\n",
            "         Iterations: 35\n",
            "                                                                           Results: Logit\n",
            "====================================================================================================================================================================\n",
            "Model:                                               Logit                                             Pseudo R-squared:                                  0.185     \n",
            "Dependent Variable:                                  total_panel_area                                  AIC:                                               562.2085  \n",
            "Date:                                                2022-10-23 21:43                                  BIC:                                               688.1897  \n",
            "No. Observations:                                    1407                                              Log-Likelihood:                                    -257.10   \n",
            "Df Model:                                            23                                                LL-Null:                                           -315.42   \n",
            "Df Residuals:                                        1383                                              LLR p-value:                                       1.6678e-14\n",
            "Converged:                                           0.0000                                            Scale:                                             1.0000    \n",
            "No. Iterations:                                      35.0000                                                                                                        \n",
            "--------------------------------------------------------------------------------------------------------------------------------------------------------------------\n",
            "      Coef.                     Std.Err.                      z    P>|z|                      [0.025                                       0.975]                   \n",
            "--------------------------------------------------------------------------------------------------------------------------------------------------------------------\n",
            "x1     7.1011                                       1.2181  5.8295 0.0000                                        4.7136                                       9.4886\n",
            "x2     2.0856                                       0.8730  2.3890 0.0169                                        0.3745                                       3.7966\n",
            "x3    -2.5773                                       1.0557 -2.4414 0.0146                                       -4.6463                                      -0.5083\n",
            "x4     0.1990                                       1.1449  0.1738 0.8620                                       -2.0449                                       2.4429\n",
            "x5    -4.0357                                       0.5547 -7.2751 0.0000                                       -5.1229                                      -2.9484\n",
            "x6    -3.8088                                       0.7212 -5.2812 0.0000                                       -5.2224                                      -2.3953\n",
            "x7    -3.1191                                       0.4926 -6.3321 0.0000                                       -4.0846                                      -2.1537\n",
            "x8   -21.9767                                   12700.0938 -0.0017 0.9986                                   -24913.7032                                   24869.7499\n",
            "x9    -1.5810                                       0.5987 -2.6407 0.0083                                       -2.7544                                      -0.4076\n",
            "x10   -3.3253                                       0.4490 -7.4067 0.0000                                       -4.2053                                      -2.4454\n",
            "x11  -19.1734                                    2113.8776 -0.0091 0.9928                                    -4162.2975                                    4123.9506\n",
            "x12   -4.0757                                       0.7029 -5.7985 0.0000                                       -5.4533                                      -2.6981\n",
            "x13   -2.8323                                       1.1301 -2.5062 0.0122                                       -5.0472                                      -0.6173\n",
            "x14   -4.3092                                       0.9298 -4.6344 0.0000                                       -6.1317                                      -2.4868\n",
            "x15  -37.3711                                10210242.1291 -0.0000 1.0000                                -20011744.2176                                20011669.4754\n",
            "x16   -4.8583                                       1.0142 -4.7901 0.0000                                       -6.8462                                      -2.8704\n",
            "x17   -3.5777                                       0.7239 -4.9421 0.0000                                       -4.9966                                      -2.1588\n",
            "x18   -3.9010                                       0.7298 -5.3456 0.0000                                       -5.3313                                      -2.4707\n",
            "x19   -4.0598                                       0.6731 -6.0315 0.0000                                       -5.3790                                      -2.7405\n",
            "x20   -2.0522                                       0.7790 -2.6345 0.0084                                       -3.5789                                      -0.5255\n",
            "x21 -179.3809 119124816743137759800467698201762201600.0000 -0.0000 1.0000 -233480350481484045161666931815159431168.0000 233480350481484045161666931815159431168.0000\n",
            "x22   -2.0927                                       0.6173 -3.3901 0.0007                                       -3.3026                                      -0.8828\n",
            "x23   -4.1973                                       0.7557 -5.5542 0.0000                                       -5.6784                                      -2.7162\n",
            "x24   -1.7037                                       0.6380 -2.6704 0.0076                                       -2.9542                                      -0.4533\n",
            "====================================================================================================================================================================\n",
            "\n"
          ]
        },
        {
          "output_type": "stream",
          "name": "stderr",
          "text": [
            "/usr/local/lib/python3.7/dist-packages/statsmodels/base/model.py:568: ConvergenceWarning: Maximum Likelihood optimization failed to converge. Check mle_retvals\n",
            "  ConvergenceWarning)\n"
          ]
        }
      ]
    },
    {
      "cell_type": "code",
      "source": [
        "X.columns"
      ],
      "metadata": {
        "colab": {
          "base_uri": "https://localhost:8080/"
        },
        "id": "TqnXWrzLQ4AA",
        "outputId": "4a20cf5d-06b0-4bcd-997e-3936ba3e8c82"
      },
      "execution_count": null,
      "outputs": [
        {
          "output_type": "execute_result",
          "data": {
            "text/plain": [
              "Index(['population_density', 'poverty_family_below_poverty_level_rate',\n",
              "       'education_less_than_high_school_rate', 'transportation_public_rate',\n",
              "       'county_Bergen County', 'county_Burlington County',\n",
              "       'county_Camden County', 'county_Cape May County',\n",
              "       'county_Cumberland County', 'county_Essex County',\n",
              "       'county_Gloucester County', 'county_Hudson County',\n",
              "       'county_Hunterdon County', 'county_Mercer County',\n",
              "       'county_Middlesex County', 'county_Monmouth County',\n",
              "       'county_Morris County', 'county_Ocean County', 'county_Passaic County',\n",
              "       'county_Salem County', 'county_Somerset County', 'county_Sussex County',\n",
              "       'county_Union County', 'county_Warren County'],\n",
              "      dtype='object')"
            ]
          },
          "metadata": {},
          "execution_count": 61
        }
      ]
    },
    {
      "cell_type": "markdown",
      "source": [
        "The following feautures do not have significant importance in the model:\n",
        "'Transportation_public_rate'\n",
        "'county_Cape May County'\n",
        "'county_Gloucester County'\n",
        "'county_Middlesex County'\n",
        "'county_Somerset County'\n",
        "\n",
        " We proceed to drop them\n"
      ],
      "metadata": {
        "id": "ib_0hL7eQ7cm"
      }
    },
    {
      "cell_type": "code",
      "source": [
        "#Dropping non-significant variables\n",
        "df_clean = df_Regression.drop([ 'transportation_public_rate', 'county_Cape May County', 'county_Gloucester County', 'county_Middlesex County', 'county_Somerset County'] , axis=1)"
      ],
      "metadata": {
        "id": "826naA_D0Ffy"
      },
      "execution_count": null,
      "outputs": []
    },
    {
      "cell_type": "code",
      "metadata": {
        "id": "2orKWmSA0p3t"
      },
      "source": [
        "#Separating our target\n",
        "X = df_clean.drop('total_panel_area', axis=1)\n",
        "y = df_clean['total_panel_area']"
      ],
      "execution_count": null,
      "outputs": []
    },
    {
      "cell_type": "code",
      "source": [
        "# Train and test splitting\n",
        "\n",
        "X_train, X_test, y_train, y_test = train_test_split(X, y, test_size=0.3, random_state=1)"
      ],
      "metadata": {
        "id": "OqgqN9Go0p3u"
      },
      "execution_count": null,
      "outputs": []
    },
    {
      "cell_type": "code",
      "source": [
        "# MinMax Scaler transforms features into [0,1]\n",
        "# Formula: X_rescaled = (Xi - Xmin) / (Xmax-Xmin)\n",
        "\n",
        "scaler = MinMaxScaler()\n",
        "X_train = scaler.fit_transform(X_train)\n",
        "X_test = scaler.fit_transform(X_test)\n",
        "\n",
        "X_rescaled = pd.DataFrame(X_train, columns=X.columns)"
      ],
      "metadata": {
        "id": "ZGtMF_Zs0p3u"
      },
      "execution_count": null,
      "outputs": []
    },
    {
      "cell_type": "code",
      "source": [
        "X_rescaled.describe().transpose()"
      ],
      "metadata": {
        "colab": {
          "base_uri": "https://localhost:8080/",
          "height": 645
        },
        "outputId": "28a4cdc6-d894-4a63-f340-5b50291e58c7",
        "id": "sE1CVL_C0p3u"
      },
      "execution_count": null,
      "outputs": [
        {
          "output_type": "execute_result",
          "data": {
            "text/plain": [
              "                                          count      mean       std  min  \\\n",
              "population_density                       1407.0  0.087380  0.124723  0.0   \n",
              "poverty_family_below_poverty_level_rate  1407.0  0.152477  0.165763  0.0   \n",
              "education_less_than_high_school_rate     1407.0  0.181297  0.152121  0.0   \n",
              "county_Bergen County                     1407.0  0.089552  0.285641  0.0   \n",
              "county_Burlington County                 1407.0  0.061834  0.240939  0.0   \n",
              "county_Camden County                     1407.0  0.062544  0.242228  0.0   \n",
              "county_Cumberland County                 1407.0  0.018479  0.134724  0.0   \n",
              "county_Essex County                      1407.0  0.103767  0.305066  0.0   \n",
              "county_Hudson County                     1407.0  0.084577  0.278350  0.0   \n",
              "county_Hunterdon County                  1407.0  0.011372  0.106068  0.0   \n",
              "county_Mercer County                     1407.0  0.042644  0.202125  0.0   \n",
              "county_Monmouth County                   1407.0  0.070362  0.255848  0.0   \n",
              "county_Morris County                     1407.0  0.046908  0.211518  0.0   \n",
              "county_Ocean County                      1407.0  0.059701  0.237017  0.0   \n",
              "county_Passaic County                    1407.0  0.045487  0.208443  0.0   \n",
              "county_Salem County                      1407.0  0.012082  0.109293  0.0   \n",
              "county_Sussex County                     1407.0  0.019190  0.137240  0.0   \n",
              "county_Union County                      1407.0  0.052594  0.223301  0.0   \n",
              "county_Warren County                     1407.0  0.014215  0.118417  0.0   \n",
              "\n",
              "                                              25%       50%       75%  max  \n",
              "population_density                       0.018225  0.040872  0.099262  1.0  \n",
              "poverty_family_below_poverty_level_rate  0.039852  0.090509  0.203311  1.0  \n",
              "education_less_than_high_school_rate     0.074707  0.133733  0.234680  1.0  \n",
              "county_Bergen County                     0.000000  0.000000  0.000000  1.0  \n",
              "county_Burlington County                 0.000000  0.000000  0.000000  1.0  \n",
              "county_Camden County                     0.000000  0.000000  0.000000  1.0  \n",
              "county_Cumberland County                 0.000000  0.000000  0.000000  1.0  \n",
              "county_Essex County                      0.000000  0.000000  0.000000  1.0  \n",
              "county_Hudson County                     0.000000  0.000000  0.000000  1.0  \n",
              "county_Hunterdon County                  0.000000  0.000000  0.000000  1.0  \n",
              "county_Mercer County                     0.000000  0.000000  0.000000  1.0  \n",
              "county_Monmouth County                   0.000000  0.000000  0.000000  1.0  \n",
              "county_Morris County                     0.000000  0.000000  0.000000  1.0  \n",
              "county_Ocean County                      0.000000  0.000000  0.000000  1.0  \n",
              "county_Passaic County                    0.000000  0.000000  0.000000  1.0  \n",
              "county_Salem County                      0.000000  0.000000  0.000000  1.0  \n",
              "county_Sussex County                     0.000000  0.000000  0.000000  1.0  \n",
              "county_Union County                      0.000000  0.000000  0.000000  1.0  \n",
              "county_Warren County                     0.000000  0.000000  0.000000  1.0  "
            ],
            "text/html": [
              "\n",
              "  <div id=\"df-ea26558f-19be-4db9-b72a-b9868467f5cd\">\n",
              "    <div class=\"colab-df-container\">\n",
              "      <div>\n",
              "<style scoped>\n",
              "    .dataframe tbody tr th:only-of-type {\n",
              "        vertical-align: middle;\n",
              "    }\n",
              "\n",
              "    .dataframe tbody tr th {\n",
              "        vertical-align: top;\n",
              "    }\n",
              "\n",
              "    .dataframe thead th {\n",
              "        text-align: right;\n",
              "    }\n",
              "</style>\n",
              "<table border=\"1\" class=\"dataframe\">\n",
              "  <thead>\n",
              "    <tr style=\"text-align: right;\">\n",
              "      <th></th>\n",
              "      <th>count</th>\n",
              "      <th>mean</th>\n",
              "      <th>std</th>\n",
              "      <th>min</th>\n",
              "      <th>25%</th>\n",
              "      <th>50%</th>\n",
              "      <th>75%</th>\n",
              "      <th>max</th>\n",
              "    </tr>\n",
              "  </thead>\n",
              "  <tbody>\n",
              "    <tr>\n",
              "      <th>population_density</th>\n",
              "      <td>1407.0</td>\n",
              "      <td>0.087380</td>\n",
              "      <td>0.124723</td>\n",
              "      <td>0.0</td>\n",
              "      <td>0.018225</td>\n",
              "      <td>0.040872</td>\n",
              "      <td>0.099262</td>\n",
              "      <td>1.0</td>\n",
              "    </tr>\n",
              "    <tr>\n",
              "      <th>poverty_family_below_poverty_level_rate</th>\n",
              "      <td>1407.0</td>\n",
              "      <td>0.152477</td>\n",
              "      <td>0.165763</td>\n",
              "      <td>0.0</td>\n",
              "      <td>0.039852</td>\n",
              "      <td>0.090509</td>\n",
              "      <td>0.203311</td>\n",
              "      <td>1.0</td>\n",
              "    </tr>\n",
              "    <tr>\n",
              "      <th>education_less_than_high_school_rate</th>\n",
              "      <td>1407.0</td>\n",
              "      <td>0.181297</td>\n",
              "      <td>0.152121</td>\n",
              "      <td>0.0</td>\n",
              "      <td>0.074707</td>\n",
              "      <td>0.133733</td>\n",
              "      <td>0.234680</td>\n",
              "      <td>1.0</td>\n",
              "    </tr>\n",
              "    <tr>\n",
              "      <th>county_Bergen County</th>\n",
              "      <td>1407.0</td>\n",
              "      <td>0.089552</td>\n",
              "      <td>0.285641</td>\n",
              "      <td>0.0</td>\n",
              "      <td>0.000000</td>\n",
              "      <td>0.000000</td>\n",
              "      <td>0.000000</td>\n",
              "      <td>1.0</td>\n",
              "    </tr>\n",
              "    <tr>\n",
              "      <th>county_Burlington County</th>\n",
              "      <td>1407.0</td>\n",
              "      <td>0.061834</td>\n",
              "      <td>0.240939</td>\n",
              "      <td>0.0</td>\n",
              "      <td>0.000000</td>\n",
              "      <td>0.000000</td>\n",
              "      <td>0.000000</td>\n",
              "      <td>1.0</td>\n",
              "    </tr>\n",
              "    <tr>\n",
              "      <th>county_Camden County</th>\n",
              "      <td>1407.0</td>\n",
              "      <td>0.062544</td>\n",
              "      <td>0.242228</td>\n",
              "      <td>0.0</td>\n",
              "      <td>0.000000</td>\n",
              "      <td>0.000000</td>\n",
              "      <td>0.000000</td>\n",
              "      <td>1.0</td>\n",
              "    </tr>\n",
              "    <tr>\n",
              "      <th>county_Cumberland County</th>\n",
              "      <td>1407.0</td>\n",
              "      <td>0.018479</td>\n",
              "      <td>0.134724</td>\n",
              "      <td>0.0</td>\n",
              "      <td>0.000000</td>\n",
              "      <td>0.000000</td>\n",
              "      <td>0.000000</td>\n",
              "      <td>1.0</td>\n",
              "    </tr>\n",
              "    <tr>\n",
              "      <th>county_Essex County</th>\n",
              "      <td>1407.0</td>\n",
              "      <td>0.103767</td>\n",
              "      <td>0.305066</td>\n",
              "      <td>0.0</td>\n",
              "      <td>0.000000</td>\n",
              "      <td>0.000000</td>\n",
              "      <td>0.000000</td>\n",
              "      <td>1.0</td>\n",
              "    </tr>\n",
              "    <tr>\n",
              "      <th>county_Hudson County</th>\n",
              "      <td>1407.0</td>\n",
              "      <td>0.084577</td>\n",
              "      <td>0.278350</td>\n",
              "      <td>0.0</td>\n",
              "      <td>0.000000</td>\n",
              "      <td>0.000000</td>\n",
              "      <td>0.000000</td>\n",
              "      <td>1.0</td>\n",
              "    </tr>\n",
              "    <tr>\n",
              "      <th>county_Hunterdon County</th>\n",
              "      <td>1407.0</td>\n",
              "      <td>0.011372</td>\n",
              "      <td>0.106068</td>\n",
              "      <td>0.0</td>\n",
              "      <td>0.000000</td>\n",
              "      <td>0.000000</td>\n",
              "      <td>0.000000</td>\n",
              "      <td>1.0</td>\n",
              "    </tr>\n",
              "    <tr>\n",
              "      <th>county_Mercer County</th>\n",
              "      <td>1407.0</td>\n",
              "      <td>0.042644</td>\n",
              "      <td>0.202125</td>\n",
              "      <td>0.0</td>\n",
              "      <td>0.000000</td>\n",
              "      <td>0.000000</td>\n",
              "      <td>0.000000</td>\n",
              "      <td>1.0</td>\n",
              "    </tr>\n",
              "    <tr>\n",
              "      <th>county_Monmouth County</th>\n",
              "      <td>1407.0</td>\n",
              "      <td>0.070362</td>\n",
              "      <td>0.255848</td>\n",
              "      <td>0.0</td>\n",
              "      <td>0.000000</td>\n",
              "      <td>0.000000</td>\n",
              "      <td>0.000000</td>\n",
              "      <td>1.0</td>\n",
              "    </tr>\n",
              "    <tr>\n",
              "      <th>county_Morris County</th>\n",
              "      <td>1407.0</td>\n",
              "      <td>0.046908</td>\n",
              "      <td>0.211518</td>\n",
              "      <td>0.0</td>\n",
              "      <td>0.000000</td>\n",
              "      <td>0.000000</td>\n",
              "      <td>0.000000</td>\n",
              "      <td>1.0</td>\n",
              "    </tr>\n",
              "    <tr>\n",
              "      <th>county_Ocean County</th>\n",
              "      <td>1407.0</td>\n",
              "      <td>0.059701</td>\n",
              "      <td>0.237017</td>\n",
              "      <td>0.0</td>\n",
              "      <td>0.000000</td>\n",
              "      <td>0.000000</td>\n",
              "      <td>0.000000</td>\n",
              "      <td>1.0</td>\n",
              "    </tr>\n",
              "    <tr>\n",
              "      <th>county_Passaic County</th>\n",
              "      <td>1407.0</td>\n",
              "      <td>0.045487</td>\n",
              "      <td>0.208443</td>\n",
              "      <td>0.0</td>\n",
              "      <td>0.000000</td>\n",
              "      <td>0.000000</td>\n",
              "      <td>0.000000</td>\n",
              "      <td>1.0</td>\n",
              "    </tr>\n",
              "    <tr>\n",
              "      <th>county_Salem County</th>\n",
              "      <td>1407.0</td>\n",
              "      <td>0.012082</td>\n",
              "      <td>0.109293</td>\n",
              "      <td>0.0</td>\n",
              "      <td>0.000000</td>\n",
              "      <td>0.000000</td>\n",
              "      <td>0.000000</td>\n",
              "      <td>1.0</td>\n",
              "    </tr>\n",
              "    <tr>\n",
              "      <th>county_Sussex County</th>\n",
              "      <td>1407.0</td>\n",
              "      <td>0.019190</td>\n",
              "      <td>0.137240</td>\n",
              "      <td>0.0</td>\n",
              "      <td>0.000000</td>\n",
              "      <td>0.000000</td>\n",
              "      <td>0.000000</td>\n",
              "      <td>1.0</td>\n",
              "    </tr>\n",
              "    <tr>\n",
              "      <th>county_Union County</th>\n",
              "      <td>1407.0</td>\n",
              "      <td>0.052594</td>\n",
              "      <td>0.223301</td>\n",
              "      <td>0.0</td>\n",
              "      <td>0.000000</td>\n",
              "      <td>0.000000</td>\n",
              "      <td>0.000000</td>\n",
              "      <td>1.0</td>\n",
              "    </tr>\n",
              "    <tr>\n",
              "      <th>county_Warren County</th>\n",
              "      <td>1407.0</td>\n",
              "      <td>0.014215</td>\n",
              "      <td>0.118417</td>\n",
              "      <td>0.0</td>\n",
              "      <td>0.000000</td>\n",
              "      <td>0.000000</td>\n",
              "      <td>0.000000</td>\n",
              "      <td>1.0</td>\n",
              "    </tr>\n",
              "  </tbody>\n",
              "</table>\n",
              "</div>\n",
              "      <button class=\"colab-df-convert\" onclick=\"convertToInteractive('df-ea26558f-19be-4db9-b72a-b9868467f5cd')\"\n",
              "              title=\"Convert this dataframe to an interactive table.\"\n",
              "              style=\"display:none;\">\n",
              "        \n",
              "  <svg xmlns=\"http://www.w3.org/2000/svg\" height=\"24px\"viewBox=\"0 0 24 24\"\n",
              "       width=\"24px\">\n",
              "    <path d=\"M0 0h24v24H0V0z\" fill=\"none\"/>\n",
              "    <path d=\"M18.56 5.44l.94 2.06.94-2.06 2.06-.94-2.06-.94-.94-2.06-.94 2.06-2.06.94zm-11 1L8.5 8.5l.94-2.06 2.06-.94-2.06-.94L8.5 2.5l-.94 2.06-2.06.94zm10 10l.94 2.06.94-2.06 2.06-.94-2.06-.94-.94-2.06-.94 2.06-2.06.94z\"/><path d=\"M17.41 7.96l-1.37-1.37c-.4-.4-.92-.59-1.43-.59-.52 0-1.04.2-1.43.59L10.3 9.45l-7.72 7.72c-.78.78-.78 2.05 0 2.83L4 21.41c.39.39.9.59 1.41.59.51 0 1.02-.2 1.41-.59l7.78-7.78 2.81-2.81c.8-.78.8-2.07 0-2.86zM5.41 20L4 18.59l7.72-7.72 1.47 1.35L5.41 20z\"/>\n",
              "  </svg>\n",
              "      </button>\n",
              "      \n",
              "  <style>\n",
              "    .colab-df-container {\n",
              "      display:flex;\n",
              "      flex-wrap:wrap;\n",
              "      gap: 12px;\n",
              "    }\n",
              "\n",
              "    .colab-df-convert {\n",
              "      background-color: #E8F0FE;\n",
              "      border: none;\n",
              "      border-radius: 50%;\n",
              "      cursor: pointer;\n",
              "      display: none;\n",
              "      fill: #1967D2;\n",
              "      height: 32px;\n",
              "      padding: 0 0 0 0;\n",
              "      width: 32px;\n",
              "    }\n",
              "\n",
              "    .colab-df-convert:hover {\n",
              "      background-color: #E2EBFA;\n",
              "      box-shadow: 0px 1px 2px rgba(60, 64, 67, 0.3), 0px 1px 3px 1px rgba(60, 64, 67, 0.15);\n",
              "      fill: #174EA6;\n",
              "    }\n",
              "\n",
              "    [theme=dark] .colab-df-convert {\n",
              "      background-color: #3B4455;\n",
              "      fill: #D2E3FC;\n",
              "    }\n",
              "\n",
              "    [theme=dark] .colab-df-convert:hover {\n",
              "      background-color: #434B5C;\n",
              "      box-shadow: 0px 1px 3px 1px rgba(0, 0, 0, 0.15);\n",
              "      filter: drop-shadow(0px 1px 2px rgba(0, 0, 0, 0.3));\n",
              "      fill: #FFFFFF;\n",
              "    }\n",
              "  </style>\n",
              "\n",
              "      <script>\n",
              "        const buttonEl =\n",
              "          document.querySelector('#df-ea26558f-19be-4db9-b72a-b9868467f5cd button.colab-df-convert');\n",
              "        buttonEl.style.display =\n",
              "          google.colab.kernel.accessAllowed ? 'block' : 'none';\n",
              "\n",
              "        async function convertToInteractive(key) {\n",
              "          const element = document.querySelector('#df-ea26558f-19be-4db9-b72a-b9868467f5cd');\n",
              "          const dataTable =\n",
              "            await google.colab.kernel.invokeFunction('convertToInteractive',\n",
              "                                                     [key], {});\n",
              "          if (!dataTable) return;\n",
              "\n",
              "          const docLinkHtml = 'Like what you see? Visit the ' +\n",
              "            '<a target=\"_blank\" href=https://colab.research.google.com/notebooks/data_table.ipynb>data table notebook</a>'\n",
              "            + ' to learn more about interactive tables.';\n",
              "          element.innerHTML = '';\n",
              "          dataTable['output_type'] = 'display_data';\n",
              "          await google.colab.output.renderOutput(dataTable, element);\n",
              "          const docLink = document.createElement('div');\n",
              "          docLink.innerHTML = docLinkHtml;\n",
              "          element.appendChild(docLink);\n",
              "        }\n",
              "      </script>\n",
              "    </div>\n",
              "  </div>\n",
              "  "
            ]
          },
          "metadata": {},
          "execution_count": 66
        }
      ]
    },
    {
      "cell_type": "code",
      "source": [
        "# Build a logistic model\n",
        "logmodel = LogisticRegression(solver='liblinear')\n",
        "logmodel.fit(X_train,y_train)\n",
        "\n",
        "# Check predictions\n",
        "pred_Y_lr = logmodel.predict(X_test)\n",
        "\n",
        "# Confusion matrix\n",
        "print(confusion_matrix(y_test, pred_Y_lr ))\n",
        "\n",
        "#Check coefficients\n",
        "print(logmodel.coef_)"
      ],
      "metadata": {
        "outputId": "1655df57-b08f-4815-cba4-124ecc3ca227",
        "colab": {
          "base_uri": "https://localhost:8080/"
        },
        "id": "Dv3udFs-0p3v"
      },
      "execution_count": null,
      "outputs": [
        {
          "output_type": "stream",
          "name": "stdout",
          "text": [
            "[[555   7]\n",
            " [ 36   5]]\n",
            "[[ 3.1551084   2.12091156  0.86658348 -0.06029957 -0.08942955  0.20164111\n",
            "   0.93594253  0.47013031  0.70477893 -0.28007382 -0.36507777 -0.65325131\n",
            "   0.14091845 -0.174665   -0.43738209  0.65012465  1.09254456 -0.46176246\n",
            "   1.19813155]]\n"
          ]
        }
      ]
    },
    {
      "cell_type": "code",
      "source": [
        "import statsmodels.api as sm\n",
        "logit_model=sm.Logit(y_train, X_train)\n",
        "logmodel_2=logit_model.fit()\n",
        "print(logmodel_2.summary2())"
      ],
      "metadata": {
        "outputId": "3ef8f4cf-9d2c-4a6c-fd96-790ea9a24e40",
        "colab": {
          "base_uri": "https://localhost:8080/"
        },
        "id": "2AmnQP0K0p3v"
      },
      "execution_count": null,
      "outputs": [
        {
          "output_type": "stream",
          "name": "stdout",
          "text": [
            "Warning: Maximum number of iterations has been exceeded.\n",
            "         Current function value: 0.281962\n",
            "         Iterations: 35\n",
            "                        Results: Logit\n",
            "===============================================================\n",
            "Model:              Logit            Pseudo R-squared: -0.258  \n",
            "Dependent Variable: total_panel_area AIC:              831.4402\n",
            "Date:               2022-10-23 21:43 BIC:              931.1753\n",
            "No. Observations:   1407             Log-Likelihood:   -396.72 \n",
            "Df Model:           18               LL-Null:          -315.42 \n",
            "Df Residuals:       1388             LLR p-value:      1.0000  \n",
            "Converged:          0.0000           Scale:            1.0000  \n",
            "No. Iterations:     35.0000                                    \n",
            "---------------------------------------------------------------\n",
            "        Coef.    Std.Err.    z    P>|z|     [0.025     0.975]  \n",
            "---------------------------------------------------------------\n",
            "x1       7.5498    1.1352  6.6504 0.0000      5.3248     9.7749\n",
            "x2       3.3639    0.8332  4.0372 0.0001      1.7308     4.9970\n",
            "x3      -8.9646    1.0673 -8.3994 0.0000    -11.0564    -6.8727\n",
            "x4      -3.4169    0.5239 -6.5223 0.0000     -4.4436    -2.3901\n",
            "x5      -3.2445    0.7199 -4.5067 0.0000     -4.6555    -1.8335\n",
            "x6      -2.2651    0.4741 -4.7780 0.0000     -3.1943    -1.3359\n",
            "x7      -0.0948    0.5975 -0.1586 0.8740     -1.2657     1.0762\n",
            "x8      -2.2415    0.3440 -6.5163 0.0000     -2.9157    -1.5673\n",
            "x9      -2.8011    0.4899 -5.7182 0.0000     -3.7612    -1.8410\n",
            "x10    -20.4608 8997.2934 -0.0023 0.9982 -17654.8319 17613.9103\n",
            "x11     -3.1657    0.8269 -3.8284 0.0001     -4.7863    -1.5450\n",
            "x12     -4.3345    1.0086 -4.2974 0.0000     -6.3114    -2.3576\n",
            "x13     -3.1716    0.7208 -4.3999 0.0000     -4.5844    -1.7588\n",
            "x14     -3.3669    0.7399 -4.5502 0.0000     -4.8171    -1.9166\n",
            "x15     -2.5597    0.6186 -4.1381 0.0000     -3.7721    -1.3473\n",
            "x16     -1.0569    0.7825 -1.3507 0.1768     -2.5905     0.4767\n",
            "x17     -1.6029    0.6189 -2.5898 0.0096     -2.8161    -0.3898\n",
            "x18     -3.1067    0.7278 -4.2684 0.0000     -4.5333    -1.6802\n",
            "x19     -0.9307    0.6398 -1.4548 0.1457     -2.1847     0.3232\n",
            "===============================================================\n",
            "\n"
          ]
        },
        {
          "output_type": "stream",
          "name": "stderr",
          "text": [
            "/usr/local/lib/python3.7/dist-packages/statsmodels/base/model.py:568: ConvergenceWarning: Maximum Likelihood optimization failed to converge. Check mle_retvals\n",
            "  ConvergenceWarning)\n"
          ]
        }
      ]
    },
    {
      "cell_type": "code",
      "source": [
        "X.columns"
      ],
      "metadata": {
        "colab": {
          "base_uri": "https://localhost:8080/"
        },
        "id": "n1wQc_QnH2Xw",
        "outputId": "ce36a9e0-2bd1-448e-b2ee-6343b40b5fb9"
      },
      "execution_count": null,
      "outputs": [
        {
          "output_type": "execute_result",
          "data": {
            "text/plain": [
              "Index(['population_density', 'poverty_family_below_poverty_level_rate',\n",
              "       'education_less_than_high_school_rate', 'county_Bergen County',\n",
              "       'county_Burlington County', 'county_Camden County',\n",
              "       'county_Cumberland County', 'county_Essex County',\n",
              "       'county_Hudson County', 'county_Hunterdon County',\n",
              "       'county_Mercer County', 'county_Monmouth County',\n",
              "       'county_Morris County', 'county_Ocean County', 'county_Passaic County',\n",
              "       'county_Salem County', 'county_Sussex County', 'county_Union County',\n",
              "       'county_Warren County'],\n",
              "      dtype='object')"
            ]
          },
          "metadata": {},
          "execution_count": 69
        }
      ]
    },
    {
      "cell_type": "code",
      "source": [
        "print(classification_report(y_test,pred_Y_lr ))"
      ],
      "metadata": {
        "colab": {
          "base_uri": "https://localhost:8080/"
        },
        "id": "Lpc04GMz292r",
        "outputId": "0378feb7-1f1a-4307-998d-020cc38c5c24"
      },
      "execution_count": null,
      "outputs": [
        {
          "output_type": "stream",
          "name": "stdout",
          "text": [
            "              precision    recall  f1-score   support\n",
            "\n",
            "           0       0.94      0.99      0.96       562\n",
            "           1       0.42      0.12      0.19        41\n",
            "\n",
            "    accuracy                           0.93       603\n",
            "   macro avg       0.68      0.55      0.58       603\n",
            "weighted avg       0.90      0.93      0.91       603\n",
            "\n"
          ]
        }
      ]
    },
    {
      "cell_type": "code",
      "source": [
        "from sklearn.metrics import roc_auc_score\n",
        "from sklearn.metrics import roc_curve\n",
        "import matplotlib.pyplot as plt\n",
        "\n",
        "logit_roc_auc = roc_auc_score(y_test, logmodel.predict_proba(X_test)[:,1])\n",
        "fpr, tpr, thresholds = roc_curve(y_test, logmodel.predict_proba(X_test)[:,1])\n",
        "plt.figure()\n",
        "plt.plot(fpr, tpr, label='Logistic Regression (area = %0.2f)' % logit_roc_auc)\n",
        "plt.plot([0, 1], [0, 1],'r--')\n",
        "plt.xlim([0.0, 1.0])\n",
        "plt.ylim([0.0, 1.05])\n",
        "plt.xlabel('False Positive Rate')\n",
        "plt.ylabel('True Positive Rate')\n",
        "plt.title('Receiver operating characteristic')\n",
        "plt.legend(loc=\"lower right\")\n",
        "plt.savefig('Log_ROC')\n",
        "plt.show()"
      ],
      "metadata": {
        "colab": {
          "base_uri": "https://localhost:8080/",
          "height": 295
        },
        "id": "Rv8cFfmoWlvG",
        "outputId": "ce817fac-4d46-4460-abfd-b1291202b957"
      },
      "execution_count": null,
      "outputs": [
        {
          "output_type": "display_data",
          "data": {
            "text/plain": [
              "<Figure size 432x288 with 1 Axes>"
            ],
            "image/png": "[encoded data removed]"
          },
          "metadata": {
            "needs_background": "light"
          }
        }
      ]
    },
    {
      "cell_type": "markdown",
      "source": [
        "# KNN Model"
      ],
      "metadata": {
        "id": "0HyTIbJnWuFx"
      }
    },
    {
      "cell_type": "code",
      "source": [
        "X_rescaled.describe().transpose()"
      ],
      "metadata": {
        "id": "k51ECC1nIf_3",
        "colab": {
          "base_uri": "https://localhost:8080/",
          "height": 645
        },
        "outputId": "bae71070-3ab4-4316-e338-2bb22a408d9c"
      },
      "execution_count": null,
      "outputs": [
        {
          "output_type": "execute_result",
          "data": {
            "text/plain": [
              "                                          count      mean       std  min  \\\n",
              "population_density                       1407.0  0.087380  0.124723  0.0   \n",
              "poverty_family_below_poverty_level_rate  1407.0  0.152477  0.165763  0.0   \n",
              "education_less_than_high_school_rate     1407.0  0.181297  0.152121  0.0   \n",
              "county_Bergen County                     1407.0  0.089552  0.285641  0.0   \n",
              "county_Burlington County                 1407.0  0.061834  0.240939  0.0   \n",
              "county_Camden County                     1407.0  0.062544  0.242228  0.0   \n",
              "county_Cumberland County                 1407.0  0.018479  0.134724  0.0   \n",
              "county_Essex County                      1407.0  0.103767  0.305066  0.0   \n",
              "county_Hudson County                     1407.0  0.084577  0.278350  0.0   \n",
              "county_Hunterdon County                  1407.0  0.011372  0.106068  0.0   \n",
              "county_Mercer County                     1407.0  0.042644  0.202125  0.0   \n",
              "county_Monmouth County                   1407.0  0.070362  0.255848  0.0   \n",
              "county_Morris County                     1407.0  0.046908  0.211518  0.0   \n",
              "county_Ocean County                      1407.0  0.059701  0.237017  0.0   \n",
              "county_Passaic County                    1407.0  0.045487  0.208443  0.0   \n",
              "county_Salem County                      1407.0  0.012082  0.109293  0.0   \n",
              "county_Sussex County                     1407.0  0.019190  0.137240  0.0   \n",
              "county_Union County                      1407.0  0.052594  0.223301  0.0   \n",
              "county_Warren County                     1407.0  0.014215  0.118417  0.0   \n",
              "\n",
              "                                              25%       50%       75%  max  \n",
              "population_density                       0.018225  0.040872  0.099262  1.0  \n",
              "poverty_family_below_poverty_level_rate  0.039852  0.090509  0.203311  1.0  \n",
              "education_less_than_high_school_rate     0.074707  0.133733  0.234680  1.0  \n",
              "county_Bergen County                     0.000000  0.000000  0.000000  1.0  \n",
              "county_Burlington County                 0.000000  0.000000  0.000000  1.0  \n",
              "county_Camden County                     0.000000  0.000000  0.000000  1.0  \n",
              "county_Cumberland County                 0.000000  0.000000  0.000000  1.0  \n",
              "county_Essex County                      0.000000  0.000000  0.000000  1.0  \n",
              "county_Hudson County                     0.000000  0.000000  0.000000  1.0  \n",
              "county_Hunterdon County                  0.000000  0.000000  0.000000  1.0  \n",
              "county_Mercer County                     0.000000  0.000000  0.000000  1.0  \n",
              "county_Monmouth County                   0.000000  0.000000  0.000000  1.0  \n",
              "county_Morris County                     0.000000  0.000000  0.000000  1.0  \n",
              "county_Ocean County                      0.000000  0.000000  0.000000  1.0  \n",
              "county_Passaic County                    0.000000  0.000000  0.000000  1.0  \n",
              "county_Salem County                      0.000000  0.000000  0.000000  1.0  \n",
              "county_Sussex County                     0.000000  0.000000  0.000000  1.0  \n",
              "county_Union County                      0.000000  0.000000  0.000000  1.0  \n",
              "county_Warren County                     0.000000  0.000000  0.000000  1.0  "
            ],
            "text/html": [
              "\n",
              "  <div id=\"df-3bf590ea-73d9-4bdd-8319-c6c6e1d6f2ce\">\n",
              "    <div class=\"colab-df-container\">\n",
              "      <div>\n",
              "<style scoped>\n",
              "    .dataframe tbody tr th:only-of-type {\n",
              "        vertical-align: middle;\n",
              "    }\n",
              "\n",
              "    .dataframe tbody tr th {\n",
              "        vertical-align: top;\n",
              "    }\n",
              "\n",
              "    .dataframe thead th {\n",
              "        text-align: right;\n",
              "    }\n",
              "</style>\n",
              "<table border=\"1\" class=\"dataframe\">\n",
              "  <thead>\n",
              "    <tr style=\"text-align: right;\">\n",
              "      <th></th>\n",
              "      <th>count</th>\n",
              "      <th>mean</th>\n",
              "      <th>std</th>\n",
              "      <th>min</th>\n",
              "      <th>25%</th>\n",
              "      <th>50%</th>\n",
              "      <th>75%</th>\n",
              "      <th>max</th>\n",
              "    </tr>\n",
              "  </thead>\n",
              "  <tbody>\n",
              "    <tr>\n",
              "      <th>population_density</th>\n",
              "      <td>1407.0</td>\n",
              "      <td>0.087380</td>\n",
              "      <td>0.124723</td>\n",
              "      <td>0.0</td>\n",
              "      <td>0.018225</td>\n",
              "      <td>0.040872</td>\n",
              "      <td>0.099262</td>\n",
              "      <td>1.0</td>\n",
              "    </tr>\n",
              "    <tr>\n",
              "      <th>poverty_family_below_poverty_level_rate</th>\n",
              "      <td>1407.0</td>\n",
              "      <td>0.152477</td>\n",
              "      <td>0.165763</td>\n",
              "      <td>0.0</td>\n",
              "      <td>0.039852</td>\n",
              "      <td>0.090509</td>\n",
              "      <td>0.203311</td>\n",
              "      <td>1.0</td>\n",
              "    </tr>\n",
              "    <tr>\n",
              "      <th>education_less_than_high_school_rate</th>\n",
              "      <td>1407.0</td>\n",
              "      <td>0.181297</td>\n",
              "      <td>0.152121</td>\n",
              "      <td>0.0</td>\n",
              "      <td>0.074707</td>\n",
              "      <td>0.133733</td>\n",
              "      <td>0.234680</td>\n",
              "      <td>1.0</td>\n",
              "    </tr>\n",
              "    <tr>\n",
              "      <th>county_Bergen County</th>\n",
              "      <td>1407.0</td>\n",
              "      <td>0.089552</td>\n",
              "      <td>0.285641</td>\n",
              "      <td>0.0</td>\n",
              "      <td>0.000000</td>\n",
              "      <td>0.000000</td>\n",
              "      <td>0.000000</td>\n",
              "      <td>1.0</td>\n",
              "    </tr>\n",
              "    <tr>\n",
              "      <th>county_Burlington County</th>\n",
              "      <td>1407.0</td>\n",
              "      <td>0.061834</td>\n",
              "      <td>0.240939</td>\n",
              "      <td>0.0</td>\n",
              "      <td>0.000000</td>\n",
              "      <td>0.000000</td>\n",
              "      <td>0.000000</td>\n",
              "      <td>1.0</td>\n",
              "    </tr>\n",
              "    <tr>\n",
              "      <th>county_Camden County</th>\n",
              "      <td>1407.0</td>\n",
              "      <td>0.062544</td>\n",
              "      <td>0.242228</td>\n",
              "      <td>0.0</td>\n",
              "      <td>0.000000</td>\n",
              "      <td>0.000000</td>\n",
              "      <td>0.000000</td>\n",
              "      <td>1.0</td>\n",
              "    </tr>\n",
              "    <tr>\n",
              "      <th>county_Cumberland County</th>\n",
              "      <td>1407.0</td>\n",
              "      <td>0.018479</td>\n",
              "      <td>0.134724</td>\n",
              "      <td>0.0</td>\n",
              "      <td>0.000000</td>\n",
              "      <td>0.000000</td>\n",
              "      <td>0.000000</td>\n",
              "      <td>1.0</td>\n",
              "    </tr>\n",
              "    <tr>\n",
              "      <th>county_Essex County</th>\n",
              "      <td>1407.0</td>\n",
              "      <td>0.103767</td>\n",
              "      <td>0.305066</td>\n",
              "      <td>0.0</td>\n",
              "      <td>0.000000</td>\n",
              "      <td>0.000000</td>\n",
              "      <td>0.000000</td>\n",
              "      <td>1.0</td>\n",
              "    </tr>\n",
              "    <tr>\n",
              "      <th>county_Hudson County</th>\n",
              "      <td>1407.0</td>\n",
              "      <td>0.084577</td>\n",
              "      <td>0.278350</td>\n",
              "      <td>0.0</td>\n",
              "      <td>0.000000</td>\n",
              "      <td>0.000000</td>\n",
              "      <td>0.000000</td>\n",
              "      <td>1.0</td>\n",
              "    </tr>\n",
              "    <tr>\n",
              "      <th>county_Hunterdon County</th>\n",
              "      <td>1407.0</td>\n",
              "      <td>0.011372</td>\n",
              "      <td>0.106068</td>\n",
              "      <td>0.0</td>\n",
              "      <td>0.000000</td>\n",
              "      <td>0.000000</td>\n",
              "      <td>0.000000</td>\n",
              "      <td>1.0</td>\n",
              "    </tr>\n",
              "    <tr>\n",
              "      <th>county_Mercer County</th>\n",
              "      <td>1407.0</td>\n",
              "      <td>0.042644</td>\n",
              "      <td>0.202125</td>\n",
              "      <td>0.0</td>\n",
              "      <td>0.000000</td>\n",
              "      <td>0.000000</td>\n",
              "      <td>0.000000</td>\n",
              "      <td>1.0</td>\n",
              "    </tr>\n",
              "    <tr>\n",
              "      <th>county_Monmouth County</th>\n",
              "      <td>1407.0</td>\n",
              "      <td>0.070362</td>\n",
              "      <td>0.255848</td>\n",
              "      <td>0.0</td>\n",
              "      <td>0.000000</td>\n",
              "      <td>0.000000</td>\n",
              "      <td>0.000000</td>\n",
              "      <td>1.0</td>\n",
              "    </tr>\n",
              "    <tr>\n",
              "      <th>county_Morris County</th>\n",
              "      <td>1407.0</td>\n",
              "      <td>0.046908</td>\n",
              "      <td>0.211518</td>\n",
              "      <td>0.0</td>\n",
              "      <td>0.000000</td>\n",
              "      <td>0.000000</td>\n",
              "      <td>0.000000</td>\n",
              "      <td>1.0</td>\n",
              "    </tr>\n",
              "    <tr>\n",
              "      <th>county_Ocean County</th>\n",
              "      <td>1407.0</td>\n",
              "      <td>0.059701</td>\n",
              "      <td>0.237017</td>\n",
              "      <td>0.0</td>\n",
              "      <td>0.000000</td>\n",
              "      <td>0.000000</td>\n",
              "      <td>0.000000</td>\n",
              "      <td>1.0</td>\n",
              "    </tr>\n",
              "    <tr>\n",
              "      <th>county_Passaic County</th>\n",
              "      <td>1407.0</td>\n",
              "      <td>0.045487</td>\n",
              "      <td>0.208443</td>\n",
              "      <td>0.0</td>\n",
              "      <td>0.000000</td>\n",
              "      <td>0.000000</td>\n",
              "      <td>0.000000</td>\n",
              "      <td>1.0</td>\n",
              "    </tr>\n",
              "    <tr>\n",
              "      <th>county_Salem County</th>\n",
              "      <td>1407.0</td>\n",
              "      <td>0.012082</td>\n",
              "      <td>0.109293</td>\n",
              "      <td>0.0</td>\n",
              "      <td>0.000000</td>\n",
              "      <td>0.000000</td>\n",
              "      <td>0.000000</td>\n",
              "      <td>1.0</td>\n",
              "    </tr>\n",
              "    <tr>\n",
              "      <th>county_Sussex County</th>\n",
              "      <td>1407.0</td>\n",
              "      <td>0.019190</td>\n",
              "      <td>0.137240</td>\n",
              "      <td>0.0</td>\n",
              "      <td>0.000000</td>\n",
              "      <td>0.000000</td>\n",
              "      <td>0.000000</td>\n",
              "      <td>1.0</td>\n",
              "    </tr>\n",
              "    <tr>\n",
              "      <th>county_Union County</th>\n",
              "      <td>1407.0</td>\n",
              "      <td>0.052594</td>\n",
              "      <td>0.223301</td>\n",
              "      <td>0.0</td>\n",
              "      <td>0.000000</td>\n",
              "      <td>0.000000</td>\n",
              "      <td>0.000000</td>\n",
              "      <td>1.0</td>\n",
              "    </tr>\n",
              "    <tr>\n",
              "      <th>county_Warren County</th>\n",
              "      <td>1407.0</td>\n",
              "      <td>0.014215</td>\n",
              "      <td>0.118417</td>\n",
              "      <td>0.0</td>\n",
              "      <td>0.000000</td>\n",
              "      <td>0.000000</td>\n",
              "      <td>0.000000</td>\n",
              "      <td>1.0</td>\n",
              "    </tr>\n",
              "  </tbody>\n",
              "</table>\n",
              "</div>\n",
              "      <button class=\"colab-df-convert\" onclick=\"convertToInteractive('df-3bf590ea-73d9-4bdd-8319-c6c6e1d6f2ce')\"\n",
              "              title=\"Convert this dataframe to an interactive table.\"\n",
              "              style=\"display:none;\">\n",
              "        \n",
              "  <svg xmlns=\"http://www.w3.org/2000/svg\" height=\"24px\"viewBox=\"0 0 24 24\"\n",
              "       width=\"24px\">\n",
              "    <path d=\"M0 0h24v24H0V0z\" fill=\"none\"/>\n",
              "    <path d=\"M18.56 5.44l.94 2.06.94-2.06 2.06-.94-2.06-.94-.94-2.06-.94 2.06-2.06.94zm-11 1L8.5 8.5l.94-2.06 2.06-.94-2.06-.94L8.5 2.5l-.94 2.06-2.06.94zm10 10l.94 2.06.94-2.06 2.06-.94-2.06-.94-.94-2.06-.94 2.06-2.06.94z\"/><path d=\"M17.41 7.96l-1.37-1.37c-.4-.4-.92-.59-1.43-.59-.52 0-1.04.2-1.43.59L10.3 9.45l-7.72 7.72c-.78.78-.78 2.05 0 2.83L4 21.41c.39.39.9.59 1.41.59.51 0 1.02-.2 1.41-.59l7.78-7.78 2.81-2.81c.8-.78.8-2.07 0-2.86zM5.41 20L4 18.59l7.72-7.72 1.47 1.35L5.41 20z\"/>\n",
              "  </svg>\n",
              "      </button>\n",
              "      \n",
              "  <style>\n",
              "    .colab-df-container {\n",
              "      display:flex;\n",
              "      flex-wrap:wrap;\n",
              "      gap: 12px;\n",
              "    }\n",
              "\n",
              "    .colab-df-convert {\n",
              "      background-color: #E8F0FE;\n",
              "      border: none;\n",
              "      border-radius: 50%;\n",
              "      cursor: pointer;\n",
              "      display: none;\n",
              "      fill: #1967D2;\n",
              "      height: 32px;\n",
              "      padding: 0 0 0 0;\n",
              "      width: 32px;\n",
              "    }\n",
              "\n",
              "    .colab-df-convert:hover {\n",
              "      background-color: #E2EBFA;\n",
              "      box-shadow: 0px 1px 2px rgba(60, 64, 67, 0.3), 0px 1px 3px 1px rgba(60, 64, 67, 0.15);\n",
              "      fill: #174EA6;\n",
              "    }\n",
              "\n",
              "    [theme=dark] .colab-df-convert {\n",
              "      background-color: #3B4455;\n",
              "      fill: #D2E3FC;\n",
              "    }\n",
              "\n",
              "    [theme=dark] .colab-df-convert:hover {\n",
              "      background-color: #434B5C;\n",
              "      box-shadow: 0px 1px 3px 1px rgba(0, 0, 0, 0.15);\n",
              "      filter: drop-shadow(0px 1px 2px rgba(0, 0, 0, 0.3));\n",
              "      fill: #FFFFFF;\n",
              "    }\n",
              "  </style>\n",
              "\n",
              "      <script>\n",
              "        const buttonEl =\n",
              "          document.querySelector('#df-3bf590ea-73d9-4bdd-8319-c6c6e1d6f2ce button.colab-df-convert');\n",
              "        buttonEl.style.display =\n",
              "          google.colab.kernel.accessAllowed ? 'block' : 'none';\n",
              "\n",
              "        async function convertToInteractive(key) {\n",
              "          const element = document.querySelector('#df-3bf590ea-73d9-4bdd-8319-c6c6e1d6f2ce');\n",
              "          const dataTable =\n",
              "            await google.colab.kernel.invokeFunction('convertToInteractive',\n",
              "                                                     [key], {});\n",
              "          if (!dataTable) return;\n",
              "\n",
              "          const docLinkHtml = 'Like what you see? Visit the ' +\n",
              "            '<a target=\"_blank\" href=https://colab.research.google.com/notebooks/data_table.ipynb>data table notebook</a>'\n",
              "            + ' to learn more about interactive tables.';\n",
              "          element.innerHTML = '';\n",
              "          dataTable['output_type'] = 'display_data';\n",
              "          await google.colab.output.renderOutput(dataTable, element);\n",
              "          const docLink = document.createElement('div');\n",
              "          docLink.innerHTML = docLinkHtml;\n",
              "          element.appendChild(docLink);\n",
              "        }\n",
              "      </script>\n",
              "    </div>\n",
              "  </div>\n",
              "  "
            ]
          },
          "metadata": {},
          "execution_count": 72
        }
      ]
    },
    {
      "cell_type": "code",
      "source": [
        "from sklearn.model_selection import cross_val_score\n",
        "max_K = 100\n",
        "cv_scores = [ ]\n",
        "\n",
        "for K in range(1,max_K):\n",
        "    knn = KNeighborsClassifier(n_neighbors = K)\n",
        "    scores = cross_val_score(knn,X_train,y_train.values.ravel(),cv = 5,scoring = \"roc_auc\")\n",
        "    cv_scores.append(scores.mean())"
      ],
      "metadata": {
        "id": "VoEVRHaNjfQ-"
      },
      "execution_count": null,
      "outputs": []
    },
    {
      "cell_type": "code",
      "source": [
        "# Determining optimal value of k\n",
        "\n",
        "sns.lineplot(x=range(1,max_K), y=cv_scores)"
      ],
      "metadata": {
        "id": "0nlWgGq4jhfX",
        "colab": {
          "base_uri": "https://localhost:8080/",
          "height": 283
        },
        "outputId": "5c580f0f-dab7-4121-e9cf-1d73b8599e3c"
      },
      "execution_count": null,
      "outputs": [
        {
          "output_type": "execute_result",
          "data": {
            "text/plain": [
              "<matplotlib.axes._subplots.AxesSubplot at 0x7fed955ed7d0>"
            ]
          },
          "metadata": {},
          "execution_count": 74
        },
        {
          "output_type": "display_data",
          "data": {
            "text/plain": [
              "<Figure size 432x288 with 1 Axes>"
            ],
            "image/png": "[encoded data removed]"
          },
          "metadata": {
            "needs_background": "light"
          }
        }
      ]
    },
    {
      "cell_type": "code",
      "source": [
        "# Determining optimal value \n",
        "print('Optimal k: ' , cv_scores.index(max(cv_scores))+1)"
      ],
      "metadata": {
        "colab": {
          "base_uri": "https://localhost:8080/"
        },
        "id": "NTDlvZCX2VDd",
        "outputId": "965d05d5-8727-41b2-b14d-57b4ad02b787"
      },
      "execution_count": null,
      "outputs": [
        {
          "output_type": "stream",
          "name": "stdout",
          "text": [
            "Optimal k:  19\n"
          ]
        }
      ]
    },
    {
      "cell_type": "code",
      "source": [
        "# Redo with k = 19\n",
        "\n",
        "knn = KNeighborsClassifier(n_neighbors=22, metric='euclidean')\n",
        "knn.fit(X_train, y_train)\n",
        "\n",
        "pred_Y_knn = knn.predict(X_test)\n",
        "\n",
        "print(confusion_matrix(y_test,pred_Y_knn))\n",
        "print(classification_report(y_test,pred_Y_knn))"
      ],
      "metadata": {
        "id": "JDkOY2taj-7I",
        "colab": {
          "base_uri": "https://localhost:8080/"
        },
        "outputId": "ae2f6542-f2de-45c1-fe15-da937ab2f597"
      },
      "execution_count": null,
      "outputs": [
        {
          "output_type": "stream",
          "name": "stdout",
          "text": [
            "[[562   0]\n",
            " [ 41   0]]\n",
            "              precision    recall  f1-score   support\n",
            "\n",
            "           0       0.93      1.00      0.96       562\n",
            "           1       0.00      0.00      0.00        41\n",
            "\n",
            "    accuracy                           0.93       603\n",
            "   macro avg       0.47      0.50      0.48       603\n",
            "weighted avg       0.87      0.93      0.90       603\n",
            "\n"
          ]
        },
        {
          "output_type": "stream",
          "name": "stderr",
          "text": [
            "/usr/local/lib/python3.7/dist-packages/sklearn/metrics/_classification.py:1318: UndefinedMetricWarning: Precision and F-score are ill-defined and being set to 0.0 in labels with no predicted samples. Use `zero_division` parameter to control this behavior.\n",
            "  _warn_prf(average, modifier, msg_start, len(result))\n",
            "/usr/local/lib/python3.7/dist-packages/sklearn/metrics/_classification.py:1318: UndefinedMetricWarning: Precision and F-score are ill-defined and being set to 0.0 in labels with no predicted samples. Use `zero_division` parameter to control this behavior.\n",
            "  _warn_prf(average, modifier, msg_start, len(result))\n",
            "/usr/local/lib/python3.7/dist-packages/sklearn/metrics/_classification.py:1318: UndefinedMetricWarning: Precision and F-score are ill-defined and being set to 0.0 in labels with no predicted samples. Use `zero_division` parameter to control this behavior.\n",
            "  _warn_prf(average, modifier, msg_start, len(result))\n"
          ]
        }
      ]
    },
    {
      "cell_type": "code",
      "source": [
        "#Logistic \n",
        "\n",
        "logit_roc_auc = roc_auc_score(y_test, logmodel.predict_proba(X_test)[:,1])\n",
        "fpr, tpr, thresholds = roc_curve(y_test, logmodel.predict_proba(X_test)[:,1])\n",
        "\n",
        "# Knn Forest \n",
        "\n",
        "knn_roc_auc = roc_auc_score(y_test, knn.predict_proba(X_test)[:,1])\n",
        "knn_fpr, knn_tpr, knn_thresholds = roc_curve(y_test, knn.predict_proba(X_test)[:,1])\n",
        "\n",
        "plt.figure()\n",
        "plt.plot(fpr, tpr, label='Logistic Regression (area = %0.2f)' % logit_roc_auc)\n",
        "plt.plot(knn_fpr, knn_tpr, label='Knn model (area = %0.2f)' % knn_roc_auc)\n",
        "plt.plot([0, 1], [0, 1],'r--')\n",
        "plt.xlim([0.0, 1.0])\n",
        "plt.ylim([0.0, 1.05])\n",
        "plt.xlabel('False Positive Rate')\n",
        "plt.ylabel('True Positive Rate')\n",
        "plt.title('Receiver operating characteristic')\n",
        "plt.legend(loc=\"lower right\")\n",
        "plt.savefig('Knn_ROC')\n",
        "plt.show()\n"
      ],
      "metadata": {
        "id": "dwnBlFmfK_ag",
        "colab": {
          "base_uri": "https://localhost:8080/",
          "height": 295
        },
        "outputId": "7eaf8eaf-e997-4c24-c481-9a4330a3f98f"
      },
      "execution_count": null,
      "outputs": [
        {
          "output_type": "display_data",
          "data": {
            "text/plain": [
              "<Figure size 432x288 with 1 Axes>"
            ],
            "image/png": "[encoded data removed]"
          },
          "metadata": {
            "needs_background": "light"
          }
        }
      ]
    },
    {
      "cell_type": "markdown",
      "source": [
        "# Random Forest"
      ],
      "metadata": {
        "id": "SVuvGH8adePF"
      }
    },
    {
      "cell_type": "code",
      "metadata": {
        "id": "IM4B1J6x4Byf"
      },
      "source": [
        "#Separating our target\n",
        "X = df_clean.drop('total_panel_area', axis=1)\n",
        "y = df_clean['total_panel_area']"
      ],
      "execution_count": null,
      "outputs": []
    },
    {
      "cell_type": "code",
      "source": [
        "# Train and test splitting\n",
        "X_train, X_test, y_train, y_test = train_test_split(X, y, test_size=0.3, random_state=1)"
      ],
      "metadata": {
        "id": "HRle6CFI4Byf"
      },
      "execution_count": null,
      "outputs": []
    },
    {
      "cell_type": "code",
      "source": [
        "# Random Forest\n",
        "rf_model  = RandomForestClassifier(max_depth=5, random_state=0)\n",
        "rf_model.fit(X_train,y_train)\n",
        "\n",
        "y_pred_rf = rf_model.predict(X_test)\n",
        "\n",
        "confusion_matrix(y_test,y_pred_rf)"
      ],
      "metadata": {
        "colab": {
          "base_uri": "https://localhost:8080/"
        },
        "id": "ovv4o5Mz4fX1",
        "outputId": "1dab2298-9b5b-4c51-aed1-d9c603074a77"
      },
      "execution_count": null,
      "outputs": [
        {
          "output_type": "execute_result",
          "data": {
            "text/plain": [
              "array([[562,   0],\n",
              "       [ 41,   0]])"
            ]
          },
          "metadata": {},
          "execution_count": 83
        }
      ]
    },
    {
      "cell_type": "code",
      "source": [
        "print(classification_report(y_test,y_pred_rf))"
      ],
      "metadata": {
        "colab": {
          "base_uri": "https://localhost:8080/"
        },
        "id": "iX9DlWpk4hkj",
        "outputId": "fbbc087a-84df-49b7-c91c-312db8fcf6bf"
      },
      "execution_count": null,
      "outputs": [
        {
          "output_type": "stream",
          "name": "stdout",
          "text": [
            "              precision    recall  f1-score   support\n",
            "\n",
            "           0       0.93      1.00      0.96       562\n",
            "           1       0.00      0.00      0.00        41\n",
            "\n",
            "    accuracy                           0.93       603\n",
            "   macro avg       0.47      0.50      0.48       603\n",
            "weighted avg       0.87      0.93      0.90       603\n",
            "\n"
          ]
        },
        {
          "output_type": "stream",
          "name": "stderr",
          "text": [
            "/usr/local/lib/python3.7/dist-packages/sklearn/metrics/_classification.py:1318: UndefinedMetricWarning: Precision and F-score are ill-defined and being set to 0.0 in labels with no predicted samples. Use `zero_division` parameter to control this behavior.\n",
            "  _warn_prf(average, modifier, msg_start, len(result))\n",
            "/usr/local/lib/python3.7/dist-packages/sklearn/metrics/_classification.py:1318: UndefinedMetricWarning: Precision and F-score are ill-defined and being set to 0.0 in labels with no predicted samples. Use `zero_division` parameter to control this behavior.\n",
            "  _warn_prf(average, modifier, msg_start, len(result))\n",
            "/usr/local/lib/python3.7/dist-packages/sklearn/metrics/_classification.py:1318: UndefinedMetricWarning: Precision and F-score are ill-defined and being set to 0.0 in labels with no predicted samples. Use `zero_division` parameter to control this behavior.\n",
            "  _warn_prf(average, modifier, msg_start, len(result))\n"
          ]
        }
      ]
    },
    {
      "cell_type": "markdown",
      "source": [
        "The accruaacy is 78%"
      ],
      "metadata": {
        "id": "nbaq_cm9U8qx"
      }
    },
    {
      "cell_type": "markdown",
      "source": [
        "# Boosted Tree"
      ],
      "metadata": {
        "id": "zEz60KzfxnUd"
      }
    },
    {
      "cell_type": "code",
      "source": [
        "# Boosted tree model\n",
        "\n",
        "from sklearn.ensemble import AdaBoostClassifier\n",
        "\n",
        "bt_model = AdaBoostClassifier(n_estimators=100)\n",
        "\n",
        "bt_model.fit(X_train,y_train)\n",
        "\n",
        "y_pred_bt = bt_model.predict(X_test)\n",
        "\n",
        "confusion_matrix(y_test,y_pred_bt)"
      ],
      "metadata": {
        "colab": {
          "base_uri": "https://localhost:8080/"
        },
        "id": "lCwuES5N4jyr",
        "outputId": "f4a2c4e6-4cf7-43d1-8304-c9fc512fa89d"
      },
      "execution_count": null,
      "outputs": [
        {
          "output_type": "execute_result",
          "data": {
            "text/plain": [
              "array([[544,  18],\n",
              "       [ 29,  12]])"
            ]
          },
          "metadata": {},
          "execution_count": 85
        }
      ]
    },
    {
      "cell_type": "code",
      "source": [
        "print(classification_report(y_test,y_pred_bt))"
      ],
      "metadata": {
        "colab": {
          "base_uri": "https://localhost:8080/"
        },
        "id": "UA5ERk3S4qpZ",
        "outputId": "9ac62306-f1a7-4410-9a63-48d15e56ba1c"
      },
      "execution_count": null,
      "outputs": [
        {
          "output_type": "stream",
          "name": "stdout",
          "text": [
            "              precision    recall  f1-score   support\n",
            "\n",
            "           0       0.95      0.97      0.96       562\n",
            "           1       0.40      0.29      0.34        41\n",
            "\n",
            "    accuracy                           0.92       603\n",
            "   macro avg       0.67      0.63      0.65       603\n",
            "weighted avg       0.91      0.92      0.92       603\n",
            "\n"
          ]
        }
      ]
    },
    {
      "cell_type": "markdown",
      "source": [
        "The accruacy is of 79%"
      ],
      "metadata": {
        "id": "_RvVPqanVCz2"
      }
    },
    {
      "cell_type": "code",
      "source": [
        "# Random Forest \n",
        "rf_roc_auc = roc_auc_score(y_test, rf_model.predict(X_test))\n",
        "rf_fpr, rf_tpr, rf_thresholds = roc_curve(y_test, rf_model.predict_proba(X_test)[:,1])\n",
        "\n",
        "# Boosted Tree\n",
        "bt_roc_auc = roc_auc_score(y_test, bt_model.predict(X_test))\n",
        "bt_fpr, bt_tpr, bt_thresholds = roc_curve(y_test, bt_model.predict_proba(X_test)[:,1])\n",
        "\n",
        "plt.figure()\n",
        "plt.plot(rf_fpr, rf_tpr, label='Random Forest (area = %0.2f)' % rf_roc_auc)\n",
        "plt.plot(bt_fpr, bt_tpr, label='Boosted tree (area = %0.2f)' % bt_roc_auc)\n",
        "plt.plot([0, 1], [0, 1],'r--')\n",
        "plt.xlim([0.0, 1.0])\n",
        "plt.ylim([0.0, 1.05])\n",
        "plt.xlabel('False Positive Rate')\n",
        "plt.ylabel('True Positive Rate')\n",
        "plt.title('Receiver operating characteristic')\n",
        "plt.legend(loc=\"lower right\")\n",
        "plt.savefig('Log_ROC')\n",
        "plt.show()"
      ],
      "metadata": {
        "colab": {
          "base_uri": "https://localhost:8080/",
          "height": 295
        },
        "id": "lTSPkdeF4tL9",
        "outputId": "6b99fdec-9ea1-4360-de1e-491bc6532a24"
      },
      "execution_count": null,
      "outputs": [
        {
          "output_type": "display_data",
          "data": {
            "text/plain": [
              "<Figure size 432x288 with 1 Axes>"
            ],
            "image/png": "[encoded data removed]"
          },
          "metadata": {
            "needs_background": "light"
          }
        }
      ]
    },
    {
      "cell_type": "markdown",
      "source": [
        "For the analysis purpose one should only standarize the variables for logistic and KNN model but not for the random forest or the boosted tree."
      ],
      "metadata": {
        "id": "oe2NAI9hybZ0"
      }
    },
    {
      "cell_type": "markdown",
      "source": [
        "# Naive Bayes"
      ],
      "metadata": {
        "id": "Ckkzi_JIeJTn"
      }
    },
    {
      "cell_type": "code",
      "source": [
        "#Building Bayes Model\n",
        "\n",
        "attrited_nb = MultinomialNB(alpha=0.01)\n",
        "attrited_nb.fit(X_train, y_train) \n",
        "\n",
        "y_pred = attrited_nb.predict(X_test)\n",
        "\n",
        "print(confusion_matrix(y_test,y_pred))\n",
        "print(classification_report(y_test,y_pred))"
      ],
      "metadata": {
        "colab": {
          "base_uri": "https://localhost:8080/"
        },
        "id": "U7jyN-xl69g7",
        "outputId": "0852e37c-400a-468c-c20c-5337d5ac7201"
      },
      "execution_count": null,
      "outputs": [
        {
          "output_type": "stream",
          "name": "stdout",
          "text": [
            "[[542  20]\n",
            " [ 36   5]]\n",
            "              precision    recall  f1-score   support\n",
            "\n",
            "           0       0.94      0.96      0.95       562\n",
            "           1       0.20      0.12      0.15        41\n",
            "\n",
            "    accuracy                           0.91       603\n",
            "   macro avg       0.57      0.54      0.55       603\n",
            "weighted avg       0.89      0.91      0.90       603\n",
            "\n"
          ]
        }
      ]
    },
    {
      "cell_type": "markdown",
      "source": [
        "Bayes Model has a accruacy of 65% "
      ],
      "metadata": {
        "id": "8-Oc-yLqAMoy"
      }
    },
    {
      "cell_type": "code",
      "source": [
        "attrited_nb.n_features_"
      ],
      "metadata": {
        "colab": {
          "base_uri": "https://localhost:8080/"
        },
        "id": "Xoff8UWX8fIY",
        "outputId": "c99f040c-9f6e-4574-9782-50a1a8ad6733"
      },
      "execution_count": null,
      "outputs": [
        {
          "output_type": "stream",
          "name": "stderr",
          "text": [
            "/usr/local/lib/python3.7/dist-packages/sklearn/utils/deprecation.py:103: FutureWarning: Attribute `n_features_` was deprecated in version 1.0 and will be removed in 1.2. Use `n_features_in_` instead.\n",
            "  warnings.warn(msg, category=FutureWarning)\n"
          ]
        },
        {
          "output_type": "execute_result",
          "data": {
            "text/plain": [
              "19"
            ]
          },
          "metadata": {},
          "execution_count": 89
        }
      ]
    },
    {
      "cell_type": "code",
      "source": [
        "nb_roc_auc = roc_auc_score(y_test, attrited_nb.predict_proba(X_test)[:,1])\n",
        "nb_fpr, nb_tpr, nb_thresholds = roc_curve(y_test, attrited_nb.predict_proba(X_test)[:,1])\n",
        "\n",
        "plt.figure()\n",
        "plt.plot(nb_fpr, nb_tpr, label='Naive Bayes (area = %0.2f)' % nb_roc_auc)\n",
        "plt.plot([0, 1], [0, 1],'r--')\n",
        "plt.xlim([0.0, 1.0])\n",
        "plt.ylim([0.0, 1.05])\n",
        "plt.xlabel('False Positive Rate')\n",
        "plt.ylabel('True Positive Rate')\n",
        "plt.title('Receiver operating characteristic')\n",
        "plt.legend(loc=\"lower right\")\n",
        "plt.show()"
      ],
      "metadata": {
        "colab": {
          "base_uri": "https://localhost:8080/",
          "height": 295
        },
        "id": "X1u_AEGh8p18",
        "outputId": "7f559aa6-26f0-41be-bec6-292c8ca3a4aa"
      },
      "execution_count": null,
      "outputs": [
        {
          "output_type": "display_data",
          "data": {
            "text/plain": [
              "<Figure size 432x288 with 1 Axes>"
            ],
            "image/png": "[encoded data removed]"
          },
          "metadata": {
            "needs_background": "light"
          }
        }
      ]
    },
    {
      "cell_type": "markdown",
      "source": [
        "The model does have some predicting power as the area under the curve is above .5"
      ],
      "metadata": {
        "id": "OrCj4HXyAycF"
      }
    },
    {
      "cell_type": "markdown",
      "source": [
        "*** Package for debugging Machine Learning ***\n"
      ],
      "metadata": {
        "id": "31VFKYOGBczs"
      }
    },
    {
      "cell_type": "code",
      "source": [
        "!pip install eli5"
      ],
      "metadata": {
        "colab": {
          "base_uri": "https://localhost:8080/"
        },
        "id": "tE9ZhTMI9MiJ",
        "outputId": "bd878e9b-46bf-418f-8f94-1274223ec5a6"
      },
      "execution_count": null,
      "outputs": [
        {
          "output_type": "stream",
          "name": "stdout",
          "text": [
            "Looking in indexes: https://pypi.org/simple, https://us-python.pkg.dev/colab-wheels/public/simple/\n",
            "Requirement already satisfied: eli5 in /usr/local/lib/python3.7/dist-packages (0.13.0)\n",
            "Requirement already satisfied: tabulate>=0.7.7 in /usr/local/lib/python3.7/dist-packages (from eli5) (0.8.10)\n",
            "Requirement already satisfied: numpy>=1.9.0 in /usr/local/lib/python3.7/dist-packages (from eli5) (1.21.6)\n",
            "Requirement already satisfied: attrs>17.1.0 in /usr/local/lib/python3.7/dist-packages (from eli5) (22.1.0)\n",
            "Requirement already satisfied: jinja2>=3.0.0 in /usr/local/lib/python3.7/dist-packages (from eli5) (3.1.2)\n",
            "Requirement already satisfied: scikit-learn>=0.20 in /usr/local/lib/python3.7/dist-packages (from eli5) (1.0.2)\n",
            "Requirement already satisfied: six in /usr/local/lib/python3.7/dist-packages (from eli5) (1.15.0)\n",
            "Requirement already satisfied: graphviz in /usr/local/lib/python3.7/dist-packages (from eli5) (0.10.1)\n",
            "Requirement already satisfied: scipy in /usr/local/lib/python3.7/dist-packages (from eli5) (1.7.3)\n",
            "Requirement already satisfied: MarkupSafe>=2.0 in /usr/local/lib/python3.7/dist-packages (from jinja2>=3.0.0->eli5) (2.0.1)\n",
            "Requirement already satisfied: joblib>=0.11 in /usr/local/lib/python3.7/dist-packages (from scikit-learn>=0.20->eli5) (1.2.0)\n",
            "Requirement already satisfied: threadpoolctl>=2.0.0 in /usr/local/lib/python3.7/dist-packages (from scikit-learn>=0.20->eli5) (3.1.0)\n"
          ]
        }
      ]
    },
    {
      "cell_type": "code",
      "source": [
        "import eli5\n",
        "from eli5.sklearn import PermutationImportance\n",
        "\n",
        "perm = PermutationImportance(attrited_nb, random_state=1).fit(X_test, y_test)\n",
        "eli5.show_weights(perm, feature_names = X_test.columns.tolist())"
      ],
      "metadata": {
        "colab": {
          "base_uri": "https://localhost:8080/",
          "height": 364
        },
        "id": "nWBfGzgX9Twv",
        "outputId": "3b9229a9-62f2-44a1-898f-401bd2657757"
      },
      "execution_count": null,
      "outputs": [
        {
          "output_type": "execute_result",
          "data": {
            "text/plain": [
              "<IPython.core.display.HTML object>"
            ],
            "text/html": [
              "\n",
              "    <style>\n",
              "    table.eli5-weights tr:hover {\n",
              "        filter: brightness(85%);\n",
              "    }\n",
              "</style>\n",
              "\n",
              "\n",
              "\n",
              "    \n",
              "\n",
              "    \n",
              "\n",
              "    \n",
              "\n",
              "    \n",
              "\n",
              "    \n",
              "\n",
              "    \n",
              "\n",
              "\n",
              "    \n",
              "\n",
              "    \n",
              "\n",
              "    \n",
              "\n",
              "    \n",
              "\n",
              "    \n",
              "\n",
              "    \n",
              "\n",
              "\n",
              "    \n",
              "\n",
              "    \n",
              "\n",
              "    \n",
              "\n",
              "    \n",
              "\n",
              "    \n",
              "        <table class=\"eli5-weights eli5-feature-importances\" style=\"border-collapse: collapse; border: none; margin-top: 0em; table-layout: auto;\">\n",
              "    <thead>\n",
              "    <tr style=\"border: none;\">\n",
              "        <th style=\"padding: 0 1em 0 0.5em; text-align: right; border: none;\">Weight</th>\n",
              "        <th style=\"padding: 0 0.5em 0 0.5em; text-align: left; border: none;\">Feature</th>\n",
              "    </tr>\n",
              "    </thead>\n",
              "    <tbody>\n",
              "    \n",
              "        <tr style=\"background-color: hsl(0, 100.00%, 100.00%); border: none;\">\n",
              "            <td style=\"padding: 0 1em 0 0.5em; text-align: right; border: none;\">\n",
              "                0\n",
              "                \n",
              "                    &plusmn; 0.0000\n",
              "                \n",
              "            </td>\n",
              "            <td style=\"padding: 0 0.5em 0 0.5em; text-align: left; border: none;\">\n",
              "                county_Warren County\n",
              "            </td>\n",
              "        </tr>\n",
              "    \n",
              "        <tr style=\"background-color: hsl(0, 100.00%, 100.00%); border: none;\">\n",
              "            <td style=\"padding: 0 1em 0 0.5em; text-align: right; border: none;\">\n",
              "                0\n",
              "                \n",
              "                    &plusmn; 0.0000\n",
              "                \n",
              "            </td>\n",
              "            <td style=\"padding: 0 0.5em 0 0.5em; text-align: left; border: none;\">\n",
              "                county_Cumberland County\n",
              "            </td>\n",
              "        </tr>\n",
              "    \n",
              "        <tr style=\"background-color: hsl(0, 100.00%, 100.00%); border: none;\">\n",
              "            <td style=\"padding: 0 1em 0 0.5em; text-align: right; border: none;\">\n",
              "                0\n",
              "                \n",
              "                    &plusmn; 0.0000\n",
              "                \n",
              "            </td>\n",
              "            <td style=\"padding: 0 0.5em 0 0.5em; text-align: left; border: none;\">\n",
              "                county_Sussex County\n",
              "            </td>\n",
              "        </tr>\n",
              "    \n",
              "        <tr style=\"background-color: hsl(0, 100.00%, 100.00%); border: none;\">\n",
              "            <td style=\"padding: 0 1em 0 0.5em; text-align: right; border: none;\">\n",
              "                0\n",
              "                \n",
              "                    &plusmn; 0.0000\n",
              "                \n",
              "            </td>\n",
              "            <td style=\"padding: 0 0.5em 0 0.5em; text-align: left; border: none;\">\n",
              "                county_Salem County\n",
              "            </td>\n",
              "        </tr>\n",
              "    \n",
              "        <tr style=\"background-color: hsl(0, 100.00%, 100.00%); border: none;\">\n",
              "            <td style=\"padding: 0 1em 0 0.5em; text-align: right; border: none;\">\n",
              "                0\n",
              "                \n",
              "                    &plusmn; 0.0000\n",
              "                \n",
              "            </td>\n",
              "            <td style=\"padding: 0 0.5em 0 0.5em; text-align: left; border: none;\">\n",
              "                poverty_family_below_poverty_level_rate\n",
              "            </td>\n",
              "        </tr>\n",
              "    \n",
              "        <tr style=\"background-color: hsl(0, 100.00%, 97.63%); border: none;\">\n",
              "            <td style=\"padding: 0 1em 0 0.5em; text-align: right; border: none;\">\n",
              "                -0.0003\n",
              "                \n",
              "                    &plusmn; 0.0013\n",
              "                \n",
              "            </td>\n",
              "            <td style=\"padding: 0 0.5em 0 0.5em; text-align: left; border: none;\">\n",
              "                education_less_than_high_school_rate\n",
              "            </td>\n",
              "        </tr>\n",
              "    \n",
              "        <tr style=\"background-color: hsl(0, 100.00%, 94.88%); border: none;\">\n",
              "            <td style=\"padding: 0 1em 0 0.5em; text-align: right; border: none;\">\n",
              "                -0.0010\n",
              "                \n",
              "                    &plusmn; 0.0045\n",
              "                \n",
              "            </td>\n",
              "            <td style=\"padding: 0 0.5em 0 0.5em; text-align: left; border: none;\">\n",
              "                county_Ocean County\n",
              "            </td>\n",
              "        </tr>\n",
              "    \n",
              "        <tr style=\"background-color: hsl(0, 100.00%, 94.88%); border: none;\">\n",
              "            <td style=\"padding: 0 1em 0 0.5em; text-align: right; border: none;\">\n",
              "                -0.0010\n",
              "                \n",
              "                    &plusmn; 0.0016\n",
              "                \n",
              "            </td>\n",
              "            <td style=\"padding: 0 0.5em 0 0.5em; text-align: left; border: none;\">\n",
              "                county_Morris County\n",
              "            </td>\n",
              "        </tr>\n",
              "    \n",
              "        <tr style=\"background-color: hsl(0, 100.00%, 94.88%); border: none;\">\n",
              "            <td style=\"padding: 0 1em 0 0.5em; text-align: right; border: none;\">\n",
              "                -0.0010\n",
              "                \n",
              "                    &plusmn; 0.0027\n",
              "                \n",
              "            </td>\n",
              "            <td style=\"padding: 0 0.5em 0 0.5em; text-align: left; border: none;\">\n",
              "                county_Burlington County\n",
              "            </td>\n",
              "        </tr>\n",
              "    \n",
              "        <tr style=\"background-color: hsl(0, 100.00%, 94.88%); border: none;\">\n",
              "            <td style=\"padding: 0 1em 0 0.5em; text-align: right; border: none;\">\n",
              "                -0.0010\n",
              "                \n",
              "                    &plusmn; 0.0034\n",
              "                \n",
              "            </td>\n",
              "            <td style=\"padding: 0 0.5em 0 0.5em; text-align: left; border: none;\">\n",
              "                county_Union County\n",
              "            </td>\n",
              "        </tr>\n",
              "    \n",
              "        <tr style=\"background-color: hsl(0, 100.00%, 93.74%); border: none;\">\n",
              "            <td style=\"padding: 0 1em 0 0.5em; text-align: right; border: none;\">\n",
              "                -0.0013\n",
              "                \n",
              "                    &plusmn; 0.0025\n",
              "                \n",
              "            </td>\n",
              "            <td style=\"padding: 0 0.5em 0 0.5em; text-align: left; border: none;\">\n",
              "                county_Camden County\n",
              "            </td>\n",
              "        </tr>\n",
              "    \n",
              "        <tr style=\"background-color: hsl(0, 100.00%, 93.74%); border: none;\">\n",
              "            <td style=\"padding: 0 1em 0 0.5em; text-align: right; border: none;\">\n",
              "                -0.0013\n",
              "                \n",
              "                    &plusmn; 0.0025\n",
              "                \n",
              "            </td>\n",
              "            <td style=\"padding: 0 0.5em 0 0.5em; text-align: left; border: none;\">\n",
              "                county_Hunterdon County\n",
              "            </td>\n",
              "        </tr>\n",
              "    \n",
              "        <tr style=\"background-color: hsl(0, 100.00%, 93.74%); border: none;\">\n",
              "            <td style=\"padding: 0 1em 0 0.5em; text-align: right; border: none;\">\n",
              "                -0.0013\n",
              "                \n",
              "                    &plusmn; 0.0013\n",
              "                \n",
              "            </td>\n",
              "            <td style=\"padding: 0 0.5em 0 0.5em; text-align: left; border: none;\">\n",
              "                county_Essex County\n",
              "            </td>\n",
              "        </tr>\n",
              "    \n",
              "        <tr style=\"background-color: hsl(0, 100.00%, 93.74%); border: none;\">\n",
              "            <td style=\"padding: 0 1em 0 0.5em; text-align: right; border: none;\">\n",
              "                -0.0013\n",
              "                \n",
              "                    &plusmn; 0.0013\n",
              "                \n",
              "            </td>\n",
              "            <td style=\"padding: 0 0.5em 0 0.5em; text-align: left; border: none;\">\n",
              "                county_Hudson County\n",
              "            </td>\n",
              "        </tr>\n",
              "    \n",
              "        <tr style=\"background-color: hsl(0, 100.00%, 92.68%); border: none;\">\n",
              "            <td style=\"padding: 0 1em 0 0.5em; text-align: right; border: none;\">\n",
              "                -0.0017\n",
              "                \n",
              "                    &plusmn; 0.0021\n",
              "                \n",
              "            </td>\n",
              "            <td style=\"padding: 0 0.5em 0 0.5em; text-align: left; border: none;\">\n",
              "                county_Mercer County\n",
              "            </td>\n",
              "        </tr>\n",
              "    \n",
              "        <tr style=\"background-color: hsl(0, 100.00%, 90.73%); border: none;\">\n",
              "            <td style=\"padding: 0 1em 0 0.5em; text-align: right; border: none;\">\n",
              "                -0.0023\n",
              "                \n",
              "                    &plusmn; 0.0034\n",
              "                \n",
              "            </td>\n",
              "            <td style=\"padding: 0 0.5em 0 0.5em; text-align: left; border: none;\">\n",
              "                county_Monmouth County\n",
              "            </td>\n",
              "        </tr>\n",
              "    \n",
              "        <tr style=\"background-color: hsl(0, 100.00%, 88.10%); border: none;\">\n",
              "            <td style=\"padding: 0 1em 0 0.5em; text-align: right; border: none;\">\n",
              "                -0.0033\n",
              "                \n",
              "                    &plusmn; 0.0036\n",
              "                \n",
              "            </td>\n",
              "            <td style=\"padding: 0 0.5em 0 0.5em; text-align: left; border: none;\">\n",
              "                county_Passaic County\n",
              "            </td>\n",
              "        </tr>\n",
              "    \n",
              "        <tr style=\"background-color: hsl(0, 100.00%, 87.28%); border: none;\">\n",
              "            <td style=\"padding: 0 1em 0 0.5em; text-align: right; border: none;\">\n",
              "                -0.0036\n",
              "                \n",
              "                    &plusmn; 0.0039\n",
              "                \n",
              "            </td>\n",
              "            <td style=\"padding: 0 0.5em 0 0.5em; text-align: left; border: none;\">\n",
              "                county_Bergen County\n",
              "            </td>\n",
              "        </tr>\n",
              "    \n",
              "        <tr style=\"background-color: hsl(0, 100.00%, 80.00%); border: none;\">\n",
              "            <td style=\"padding: 0 1em 0 0.5em; text-align: right; border: none;\">\n",
              "                -0.0070\n",
              "                \n",
              "                    &plusmn; 0.0110\n",
              "                \n",
              "            </td>\n",
              "            <td style=\"padding: 0 0.5em 0 0.5em; text-align: left; border: none;\">\n",
              "                population_density\n",
              "            </td>\n",
              "        </tr>\n",
              "    \n",
              "    \n",
              "    </tbody>\n",
              "</table>\n",
              "    \n",
              "\n",
              "    \n",
              "\n",
              "\n",
              "    \n",
              "\n",
              "    \n",
              "\n",
              "    \n",
              "\n",
              "    \n",
              "\n",
              "    \n",
              "\n",
              "    \n",
              "\n",
              "\n",
              "\n"
            ]
          },
          "metadata": {},
          "execution_count": 92
        }
      ]
    },
    {
      "cell_type": "markdown",
      "source": [
        "# Artifitial Neural Networks "
      ],
      "metadata": {
        "id": "ntLftbyNgStV"
      }
    },
    {
      "cell_type": "code",
      "source": [
        "# Train and test splitting\n",
        "X_train, X_test, y_train, y_test = train_test_split(X, y, test_size=0.3, random_state=1)"
      ],
      "metadata": {
        "id": "AXN4J22ubyd_"
      },
      "execution_count": null,
      "outputs": []
    },
    {
      "cell_type": "code",
      "source": [
        "# MinMax Scaler transforms features into [0,1]\n",
        "\n",
        "scaler = MinMaxScaler()\n",
        "X_train = scaler.fit_transform(X_train)\n",
        "X_test = scaler.fit_transform(X_test)\n",
        "X_rescaled = pd.DataFrame(X_train, columns=X.columns)\n",
        "\n",
        "X_rescaled.describe().transpose()\n"
      ],
      "metadata": {
        "colab": {
          "base_uri": "https://localhost:8080/",
          "height": 645
        },
        "id": "zQklAv3Scni3",
        "outputId": "e2cadee0-2044-446f-c61d-b4f81186118a"
      },
      "execution_count": null,
      "outputs": [
        {
          "output_type": "execute_result",
          "data": {
            "text/plain": [
              "                                          count      mean       std  min  \\\n",
              "population_density                       1407.0  0.087380  0.124723  0.0   \n",
              "poverty_family_below_poverty_level_rate  1407.0  0.152477  0.165763  0.0   \n",
              "education_less_than_high_school_rate     1407.0  0.181297  0.152121  0.0   \n",
              "county_Bergen County                     1407.0  0.089552  0.285641  0.0   \n",
              "county_Burlington County                 1407.0  0.061834  0.240939  0.0   \n",
              "county_Camden County                     1407.0  0.062544  0.242228  0.0   \n",
              "county_Cumberland County                 1407.0  0.018479  0.134724  0.0   \n",
              "county_Essex County                      1407.0  0.103767  0.305066  0.0   \n",
              "county_Hudson County                     1407.0  0.084577  0.278350  0.0   \n",
              "county_Hunterdon County                  1407.0  0.011372  0.106068  0.0   \n",
              "county_Mercer County                     1407.0  0.042644  0.202125  0.0   \n",
              "county_Monmouth County                   1407.0  0.070362  0.255848  0.0   \n",
              "county_Morris County                     1407.0  0.046908  0.211518  0.0   \n",
              "county_Ocean County                      1407.0  0.059701  0.237017  0.0   \n",
              "county_Passaic County                    1407.0  0.045487  0.208443  0.0   \n",
              "county_Salem County                      1407.0  0.012082  0.109293  0.0   \n",
              "county_Sussex County                     1407.0  0.019190  0.137240  0.0   \n",
              "county_Union County                      1407.0  0.052594  0.223301  0.0   \n",
              "county_Warren County                     1407.0  0.014215  0.118417  0.0   \n",
              "\n",
              "                                              25%       50%       75%  max  \n",
              "population_density                       0.018225  0.040872  0.099262  1.0  \n",
              "poverty_family_below_poverty_level_rate  0.039852  0.090509  0.203311  1.0  \n",
              "education_less_than_high_school_rate     0.074707  0.133733  0.234680  1.0  \n",
              "county_Bergen County                     0.000000  0.000000  0.000000  1.0  \n",
              "county_Burlington County                 0.000000  0.000000  0.000000  1.0  \n",
              "county_Camden County                     0.000000  0.000000  0.000000  1.0  \n",
              "county_Cumberland County                 0.000000  0.000000  0.000000  1.0  \n",
              "county_Essex County                      0.000000  0.000000  0.000000  1.0  \n",
              "county_Hudson County                     0.000000  0.000000  0.000000  1.0  \n",
              "county_Hunterdon County                  0.000000  0.000000  0.000000  1.0  \n",
              "county_Mercer County                     0.000000  0.000000  0.000000  1.0  \n",
              "county_Monmouth County                   0.000000  0.000000  0.000000  1.0  \n",
              "county_Morris County                     0.000000  0.000000  0.000000  1.0  \n",
              "county_Ocean County                      0.000000  0.000000  0.000000  1.0  \n",
              "county_Passaic County                    0.000000  0.000000  0.000000  1.0  \n",
              "county_Salem County                      0.000000  0.000000  0.000000  1.0  \n",
              "county_Sussex County                     0.000000  0.000000  0.000000  1.0  \n",
              "county_Union County                      0.000000  0.000000  0.000000  1.0  \n",
              "county_Warren County                     0.000000  0.000000  0.000000  1.0  "
            ],
            "text/html": [
              "\n",
              "  <div id=\"df-1a71a34d-6883-4180-b379-5e9efd4b60d7\">\n",
              "    <div class=\"colab-df-container\">\n",
              "      <div>\n",
              "<style scoped>\n",
              "    .dataframe tbody tr th:only-of-type {\n",
              "        vertical-align: middle;\n",
              "    }\n",
              "\n",
              "    .dataframe tbody tr th {\n",
              "        vertical-align: top;\n",
              "    }\n",
              "\n",
              "    .dataframe thead th {\n",
              "        text-align: right;\n",
              "    }\n",
              "</style>\n",
              "<table border=\"1\" class=\"dataframe\">\n",
              "  <thead>\n",
              "    <tr style=\"text-align: right;\">\n",
              "      <th></th>\n",
              "      <th>count</th>\n",
              "      <th>mean</th>\n",
              "      <th>std</th>\n",
              "      <th>min</th>\n",
              "      <th>25%</th>\n",
              "      <th>50%</th>\n",
              "      <th>75%</th>\n",
              "      <th>max</th>\n",
              "    </tr>\n",
              "  </thead>\n",
              "  <tbody>\n",
              "    <tr>\n",
              "      <th>population_density</th>\n",
              "      <td>1407.0</td>\n",
              "      <td>0.087380</td>\n",
              "      <td>0.124723</td>\n",
              "      <td>0.0</td>\n",
              "      <td>0.018225</td>\n",
              "      <td>0.040872</td>\n",
              "      <td>0.099262</td>\n",
              "      <td>1.0</td>\n",
              "    </tr>\n",
              "    <tr>\n",
              "      <th>poverty_family_below_poverty_level_rate</th>\n",
              "      <td>1407.0</td>\n",
              "      <td>0.152477</td>\n",
              "      <td>0.165763</td>\n",
              "      <td>0.0</td>\n",
              "      <td>0.039852</td>\n",
              "      <td>0.090509</td>\n",
              "      <td>0.203311</td>\n",
              "      <td>1.0</td>\n",
              "    </tr>\n",
              "    <tr>\n",
              "      <th>education_less_than_high_school_rate</th>\n",
              "      <td>1407.0</td>\n",
              "      <td>0.181297</td>\n",
              "      <td>0.152121</td>\n",
              "      <td>0.0</td>\n",
              "      <td>0.074707</td>\n",
              "      <td>0.133733</td>\n",
              "      <td>0.234680</td>\n",
              "      <td>1.0</td>\n",
              "    </tr>\n",
              "    <tr>\n",
              "      <th>county_Bergen County</th>\n",
              "      <td>1407.0</td>\n",
              "      <td>0.089552</td>\n",
              "      <td>0.285641</td>\n",
              "      <td>0.0</td>\n",
              "      <td>0.000000</td>\n",
              "      <td>0.000000</td>\n",
              "      <td>0.000000</td>\n",
              "      <td>1.0</td>\n",
              "    </tr>\n",
              "    <tr>\n",
              "      <th>county_Burlington County</th>\n",
              "      <td>1407.0</td>\n",
              "      <td>0.061834</td>\n",
              "      <td>0.240939</td>\n",
              "      <td>0.0</td>\n",
              "      <td>0.000000</td>\n",
              "      <td>0.000000</td>\n",
              "      <td>0.000000</td>\n",
              "      <td>1.0</td>\n",
              "    </tr>\n",
              "    <tr>\n",
              "      <th>county_Camden County</th>\n",
              "      <td>1407.0</td>\n",
              "      <td>0.062544</td>\n",
              "      <td>0.242228</td>\n",
              "      <td>0.0</td>\n",
              "      <td>0.000000</td>\n",
              "      <td>0.000000</td>\n",
              "      <td>0.000000</td>\n",
              "      <td>1.0</td>\n",
              "    </tr>\n",
              "    <tr>\n",
              "      <th>county_Cumberland County</th>\n",
              "      <td>1407.0</td>\n",
              "      <td>0.018479</td>\n",
              "      <td>0.134724</td>\n",
              "      <td>0.0</td>\n",
              "      <td>0.000000</td>\n",
              "      <td>0.000000</td>\n",
              "      <td>0.000000</td>\n",
              "      <td>1.0</td>\n",
              "    </tr>\n",
              "    <tr>\n",
              "      <th>county_Essex County</th>\n",
              "      <td>1407.0</td>\n",
              "      <td>0.103767</td>\n",
              "      <td>0.305066</td>\n",
              "      <td>0.0</td>\n",
              "      <td>0.000000</td>\n",
              "      <td>0.000000</td>\n",
              "      <td>0.000000</td>\n",
              "      <td>1.0</td>\n",
              "    </tr>\n",
              "    <tr>\n",
              "      <th>county_Hudson County</th>\n",
              "      <td>1407.0</td>\n",
              "      <td>0.084577</td>\n",
              "      <td>0.278350</td>\n",
              "      <td>0.0</td>\n",
              "      <td>0.000000</td>\n",
              "      <td>0.000000</td>\n",
              "      <td>0.000000</td>\n",
              "      <td>1.0</td>\n",
              "    </tr>\n",
              "    <tr>\n",
              "      <th>county_Hunterdon County</th>\n",
              "      <td>1407.0</td>\n",
              "      <td>0.011372</td>\n",
              "      <td>0.106068</td>\n",
              "      <td>0.0</td>\n",
              "      <td>0.000000</td>\n",
              "      <td>0.000000</td>\n",
              "      <td>0.000000</td>\n",
              "      <td>1.0</td>\n",
              "    </tr>\n",
              "    <tr>\n",
              "      <th>county_Mercer County</th>\n",
              "      <td>1407.0</td>\n",
              "      <td>0.042644</td>\n",
              "      <td>0.202125</td>\n",
              "      <td>0.0</td>\n",
              "      <td>0.000000</td>\n",
              "      <td>0.000000</td>\n",
              "      <td>0.000000</td>\n",
              "      <td>1.0</td>\n",
              "    </tr>\n",
              "    <tr>\n",
              "      <th>county_Monmouth County</th>\n",
              "      <td>1407.0</td>\n",
              "      <td>0.070362</td>\n",
              "      <td>0.255848</td>\n",
              "      <td>0.0</td>\n",
              "      <td>0.000000</td>\n",
              "      <td>0.000000</td>\n",
              "      <td>0.000000</td>\n",
              "      <td>1.0</td>\n",
              "    </tr>\n",
              "    <tr>\n",
              "      <th>county_Morris County</th>\n",
              "      <td>1407.0</td>\n",
              "      <td>0.046908</td>\n",
              "      <td>0.211518</td>\n",
              "      <td>0.0</td>\n",
              "      <td>0.000000</td>\n",
              "      <td>0.000000</td>\n",
              "      <td>0.000000</td>\n",
              "      <td>1.0</td>\n",
              "    </tr>\n",
              "    <tr>\n",
              "      <th>county_Ocean County</th>\n",
              "      <td>1407.0</td>\n",
              "      <td>0.059701</td>\n",
              "      <td>0.237017</td>\n",
              "      <td>0.0</td>\n",
              "      <td>0.000000</td>\n",
              "      <td>0.000000</td>\n",
              "      <td>0.000000</td>\n",
              "      <td>1.0</td>\n",
              "    </tr>\n",
              "    <tr>\n",
              "      <th>county_Passaic County</th>\n",
              "      <td>1407.0</td>\n",
              "      <td>0.045487</td>\n",
              "      <td>0.208443</td>\n",
              "      <td>0.0</td>\n",
              "      <td>0.000000</td>\n",
              "      <td>0.000000</td>\n",
              "      <td>0.000000</td>\n",
              "      <td>1.0</td>\n",
              "    </tr>\n",
              "    <tr>\n",
              "      <th>county_Salem County</th>\n",
              "      <td>1407.0</td>\n",
              "      <td>0.012082</td>\n",
              "      <td>0.109293</td>\n",
              "      <td>0.0</td>\n",
              "      <td>0.000000</td>\n",
              "      <td>0.000000</td>\n",
              "      <td>0.000000</td>\n",
              "      <td>1.0</td>\n",
              "    </tr>\n",
              "    <tr>\n",
              "      <th>county_Sussex County</th>\n",
              "      <td>1407.0</td>\n",
              "      <td>0.019190</td>\n",
              "      <td>0.137240</td>\n",
              "      <td>0.0</td>\n",
              "      <td>0.000000</td>\n",
              "      <td>0.000000</td>\n",
              "      <td>0.000000</td>\n",
              "      <td>1.0</td>\n",
              "    </tr>\n",
              "    <tr>\n",
              "      <th>county_Union County</th>\n",
              "      <td>1407.0</td>\n",
              "      <td>0.052594</td>\n",
              "      <td>0.223301</td>\n",
              "      <td>0.0</td>\n",
              "      <td>0.000000</td>\n",
              "      <td>0.000000</td>\n",
              "      <td>0.000000</td>\n",
              "      <td>1.0</td>\n",
              "    </tr>\n",
              "    <tr>\n",
              "      <th>county_Warren County</th>\n",
              "      <td>1407.0</td>\n",
              "      <td>0.014215</td>\n",
              "      <td>0.118417</td>\n",
              "      <td>0.0</td>\n",
              "      <td>0.000000</td>\n",
              "      <td>0.000000</td>\n",
              "      <td>0.000000</td>\n",
              "      <td>1.0</td>\n",
              "    </tr>\n",
              "  </tbody>\n",
              "</table>\n",
              "</div>\n",
              "      <button class=\"colab-df-convert\" onclick=\"convertToInteractive('df-1a71a34d-6883-4180-b379-5e9efd4b60d7')\"\n",
              "              title=\"Convert this dataframe to an interactive table.\"\n",
              "              style=\"display:none;\">\n",
              "        \n",
              "  <svg xmlns=\"http://www.w3.org/2000/svg\" height=\"24px\"viewBox=\"0 0 24 24\"\n",
              "       width=\"24px\">\n",
              "    <path d=\"M0 0h24v24H0V0z\" fill=\"none\"/>\n",
              "    <path d=\"M18.56 5.44l.94 2.06.94-2.06 2.06-.94-2.06-.94-.94-2.06-.94 2.06-2.06.94zm-11 1L8.5 8.5l.94-2.06 2.06-.94-2.06-.94L8.5 2.5l-.94 2.06-2.06.94zm10 10l.94 2.06.94-2.06 2.06-.94-2.06-.94-.94-2.06-.94 2.06-2.06.94z\"/><path d=\"M17.41 7.96l-1.37-1.37c-.4-.4-.92-.59-1.43-.59-.52 0-1.04.2-1.43.59L10.3 9.45l-7.72 7.72c-.78.78-.78 2.05 0 2.83L4 21.41c.39.39.9.59 1.41.59.51 0 1.02-.2 1.41-.59l7.78-7.78 2.81-2.81c.8-.78.8-2.07 0-2.86zM5.41 20L4 18.59l7.72-7.72 1.47 1.35L5.41 20z\"/>\n",
              "  </svg>\n",
              "      </button>\n",
              "      \n",
              "  <style>\n",
              "    .colab-df-container {\n",
              "      display:flex;\n",
              "      flex-wrap:wrap;\n",
              "      gap: 12px;\n",
              "    }\n",
              "\n",
              "    .colab-df-convert {\n",
              "      background-color: #E8F0FE;\n",
              "      border: none;\n",
              "      border-radius: 50%;\n",
              "      cursor: pointer;\n",
              "      display: none;\n",
              "      fill: #1967D2;\n",
              "      height: 32px;\n",
              "      padding: 0 0 0 0;\n",
              "      width: 32px;\n",
              "    }\n",
              "\n",
              "    .colab-df-convert:hover {\n",
              "      background-color: #E2EBFA;\n",
              "      box-shadow: 0px 1px 2px rgba(60, 64, 67, 0.3), 0px 1px 3px 1px rgba(60, 64, 67, 0.15);\n",
              "      fill: #174EA6;\n",
              "    }\n",
              "\n",
              "    [theme=dark] .colab-df-convert {\n",
              "      background-color: #3B4455;\n",
              "      fill: #D2E3FC;\n",
              "    }\n",
              "\n",
              "    [theme=dark] .colab-df-convert:hover {\n",
              "      background-color: #434B5C;\n",
              "      box-shadow: 0px 1px 3px 1px rgba(0, 0, 0, 0.15);\n",
              "      filter: drop-shadow(0px 1px 2px rgba(0, 0, 0, 0.3));\n",
              "      fill: #FFFFFF;\n",
              "    }\n",
              "  </style>\n",
              "\n",
              "      <script>\n",
              "        const buttonEl =\n",
              "          document.querySelector('#df-1a71a34d-6883-4180-b379-5e9efd4b60d7 button.colab-df-convert');\n",
              "        buttonEl.style.display =\n",
              "          google.colab.kernel.accessAllowed ? 'block' : 'none';\n",
              "\n",
              "        async function convertToInteractive(key) {\n",
              "          const element = document.querySelector('#df-1a71a34d-6883-4180-b379-5e9efd4b60d7');\n",
              "          const dataTable =\n",
              "            await google.colab.kernel.invokeFunction('convertToInteractive',\n",
              "                                                     [key], {});\n",
              "          if (!dataTable) return;\n",
              "\n",
              "          const docLinkHtml = 'Like what you see? Visit the ' +\n",
              "            '<a target=\"_blank\" href=https://colab.research.google.com/notebooks/data_table.ipynb>data table notebook</a>'\n",
              "            + ' to learn more about interactive tables.';\n",
              "          element.innerHTML = '';\n",
              "          dataTable['output_type'] = 'display_data';\n",
              "          await google.colab.output.renderOutput(dataTable, element);\n",
              "          const docLink = document.createElement('div');\n",
              "          docLink.innerHTML = docLinkHtml;\n",
              "          element.appendChild(docLink);\n",
              "        }\n",
              "      </script>\n",
              "    </div>\n",
              "  </div>\n",
              "  "
            ]
          },
          "metadata": {},
          "execution_count": 95
        }
      ]
    },
    {
      "cell_type": "code",
      "metadata": {
        "id": "ktICge7dYAHB",
        "colab": {
          "base_uri": "https://localhost:8080/"
        },
        "outputId": "b6320e6e-2ce3-4bac-9129-84736723b5f9"
      },
      "source": [
        "# Building the model \n",
        "\n",
        "MLPC_model = MLPClassifier(hidden_layer_sizes=80, activation='logistic', solver='adam', random_state=1)\n",
        "\n",
        "MLPC_model.fit(X_train, y_train)\n",
        "\n",
        "y_pred_mlpc = MLPC_model.predict(X_test)\n",
        " \n",
        "print(confusion_matrix(y_test,y_pred_mlpc))\n",
        "print(classification_report(y_test,y_pred_mlpc))"
      ],
      "execution_count": null,
      "outputs": [
        {
          "output_type": "stream",
          "name": "stdout",
          "text": [
            "[[562   0]\n",
            " [ 40   1]]\n",
            "              precision    recall  f1-score   support\n",
            "\n",
            "           0       0.93      1.00      0.97       562\n",
            "           1       1.00      0.02      0.05        41\n",
            "\n",
            "    accuracy                           0.93       603\n",
            "   macro avg       0.97      0.51      0.51       603\n",
            "weighted avg       0.94      0.93      0.90       603\n",
            "\n"
          ]
        },
        {
          "output_type": "stream",
          "name": "stderr",
          "text": [
            "/usr/local/lib/python3.7/dist-packages/sklearn/neural_network/_multilayer_perceptron.py:696: ConvergenceWarning: Stochastic Optimizer: Maximum iterations (200) reached and the optimization hasn't converged yet.\n",
            "  ConvergenceWarning,\n"
          ]
        }
      ]
    },
    {
      "cell_type": "code",
      "metadata": {
        "id": "UAzDUSDtYmRK",
        "colab": {
          "base_uri": "https://localhost:8080/"
        },
        "outputId": "df4442e3-1f35-4fd4-a8d7-387f36372c5b"
      },
      "source": [
        "print('ROC AUC: ', roc_auc_score(y_test,MLPC_model.predict_proba(X_test)[:,1]))"
      ],
      "execution_count": null,
      "outputs": [
        {
          "output_type": "stream",
          "name": "stdout",
          "text": [
            "ROC AUC:  0.7985851922576165\n"
          ]
        }
      ]
    },
    {
      "cell_type": "code",
      "metadata": {
        "id": "FKe6XdP8fJre",
        "colab": {
          "base_uri": "https://localhost:8080/"
        },
        "outputId": "97aa266e-2a69-4371-820a-c42f8a07d098"
      },
      "source": [
        "from sklearn.model_selection import cross_val_score\n",
        "min_hidden_layer_size = 10\n",
        "max_hidden_layer_size = 100\n",
        "cv_scores = [ ]\n",
        "\n",
        "for s in range(min_hidden_layer_size,max_hidden_layer_size,5):\n",
        "    MLPC_model = MLPClassifier(hidden_layer_sizes=s, activation='logistic', solver='lbfgs', random_state=1)\n",
        "    scores = cross_val_score(MLPC_model,X_train,y_train.values.ravel(),cv = 5,scoring = \"accuracy\")\n",
        "    cv_scores.append(scores.mean())"
      ],
      "execution_count": null,
      "outputs": [
        {
          "output_type": "stream",
          "name": "stderr",
          "text": [
            "/usr/local/lib/python3.7/dist-packages/sklearn/neural_network/_multilayer_perceptron.py:549: ConvergenceWarning: lbfgs failed to converge (status=1):\n",
            "STOP: TOTAL NO. of ITERATIONS REACHED LIMIT.\n",
            "\n",
            "Increase the number of iterations (max_iter) or scale the data as shown in:\n",
            "    https://scikit-learn.org/stable/modules/preprocessing.html\n",
            "  self.n_iter_ = _check_optimize_result(\"lbfgs\", opt_res, self.max_iter)\n",
            "/usr/local/lib/python3.7/dist-packages/sklearn/neural_network/_multilayer_perceptron.py:549: ConvergenceWarning: lbfgs failed to converge (status=1):\n",
            "STOP: TOTAL NO. of ITERATIONS REACHED LIMIT.\n",
            "\n",
            "Increase the number of iterations (max_iter) or scale the data as shown in:\n",
            "    https://scikit-learn.org/stable/modules/preprocessing.html\n",
            "  self.n_iter_ = _check_optimize_result(\"lbfgs\", opt_res, self.max_iter)\n",
            "/usr/local/lib/python3.7/dist-packages/sklearn/neural_network/_multilayer_perceptron.py:549: ConvergenceWarning: lbfgs failed to converge (status=1):\n",
            "STOP: TOTAL NO. of ITERATIONS REACHED LIMIT.\n",
            "\n",
            "Increase the number of iterations (max_iter) or scale the data as shown in:\n",
            "    https://scikit-learn.org/stable/modules/preprocessing.html\n",
            "  self.n_iter_ = _check_optimize_result(\"lbfgs\", opt_res, self.max_iter)\n",
            "/usr/local/lib/python3.7/dist-packages/sklearn/neural_network/_multilayer_perceptron.py:549: ConvergenceWarning: lbfgs failed to converge (status=1):\n",
            "STOP: TOTAL NO. of ITERATIONS REACHED LIMIT.\n",
            "\n",
            "Increase the number of iterations (max_iter) or scale the data as shown in:\n",
            "    https://scikit-learn.org/stable/modules/preprocessing.html\n",
            "  self.n_iter_ = _check_optimize_result(\"lbfgs\", opt_res, self.max_iter)\n",
            "/usr/local/lib/python3.7/dist-packages/sklearn/neural_network/_multilayer_perceptron.py:549: ConvergenceWarning: lbfgs failed to converge (status=1):\n",
            "STOP: TOTAL NO. of ITERATIONS REACHED LIMIT.\n",
            "\n",
            "Increase the number of iterations (max_iter) or scale the data as shown in:\n",
            "    https://scikit-learn.org/stable/modules/preprocessing.html\n",
            "  self.n_iter_ = _check_optimize_result(\"lbfgs\", opt_res, self.max_iter)\n",
            "/usr/local/lib/python3.7/dist-packages/sklearn/neural_network/_multilayer_perceptron.py:549: ConvergenceWarning: lbfgs failed to converge (status=1):\n",
            "STOP: TOTAL NO. of ITERATIONS REACHED LIMIT.\n",
            "\n",
            "Increase the number of iterations (max_iter) or scale the data as shown in:\n",
            "    https://scikit-learn.org/stable/modules/preprocessing.html\n",
            "  self.n_iter_ = _check_optimize_result(\"lbfgs\", opt_res, self.max_iter)\n",
            "/usr/local/lib/python3.7/dist-packages/sklearn/neural_network/_multilayer_perceptron.py:549: ConvergenceWarning: lbfgs failed to converge (status=1):\n",
            "STOP: TOTAL NO. of ITERATIONS REACHED LIMIT.\n",
            "\n",
            "Increase the number of iterations (max_iter) or scale the data as shown in:\n",
            "    https://scikit-learn.org/stable/modules/preprocessing.html\n",
            "  self.n_iter_ = _check_optimize_result(\"lbfgs\", opt_res, self.max_iter)\n",
            "/usr/local/lib/python3.7/dist-packages/sklearn/neural_network/_multilayer_perceptron.py:549: ConvergenceWarning: lbfgs failed to converge (status=1):\n",
            "STOP: TOTAL NO. of ITERATIONS REACHED LIMIT.\n",
            "\n",
            "Increase the number of iterations (max_iter) or scale the data as shown in:\n",
            "    https://scikit-learn.org/stable/modules/preprocessing.html\n",
            "  self.n_iter_ = _check_optimize_result(\"lbfgs\", opt_res, self.max_iter)\n",
            "/usr/local/lib/python3.7/dist-packages/sklearn/neural_network/_multilayer_perceptron.py:549: ConvergenceWarning: lbfgs failed to converge (status=1):\n",
            "STOP: TOTAL NO. of ITERATIONS REACHED LIMIT.\n",
            "\n",
            "Increase the number of iterations (max_iter) or scale the data as shown in:\n",
            "    https://scikit-learn.org/stable/modules/preprocessing.html\n",
            "  self.n_iter_ = _check_optimize_result(\"lbfgs\", opt_res, self.max_iter)\n",
            "/usr/local/lib/python3.7/dist-packages/sklearn/neural_network/_multilayer_perceptron.py:549: ConvergenceWarning: lbfgs failed to converge (status=1):\n",
            "STOP: TOTAL NO. of ITERATIONS REACHED LIMIT.\n",
            "\n",
            "Increase the number of iterations (max_iter) or scale the data as shown in:\n",
            "    https://scikit-learn.org/stable/modules/preprocessing.html\n",
            "  self.n_iter_ = _check_optimize_result(\"lbfgs\", opt_res, self.max_iter)\n",
            "/usr/local/lib/python3.7/dist-packages/sklearn/neural_network/_multilayer_perceptron.py:549: ConvergenceWarning: lbfgs failed to converge (status=1):\n",
            "STOP: TOTAL NO. of ITERATIONS REACHED LIMIT.\n",
            "\n",
            "Increase the number of iterations (max_iter) or scale the data as shown in:\n",
            "    https://scikit-learn.org/stable/modules/preprocessing.html\n",
            "  self.n_iter_ = _check_optimize_result(\"lbfgs\", opt_res, self.max_iter)\n",
            "/usr/local/lib/python3.7/dist-packages/sklearn/neural_network/_multilayer_perceptron.py:549: ConvergenceWarning: lbfgs failed to converge (status=1):\n",
            "STOP: TOTAL NO. of ITERATIONS REACHED LIMIT.\n",
            "\n",
            "Increase the number of iterations (max_iter) or scale the data as shown in:\n",
            "    https://scikit-learn.org/stable/modules/preprocessing.html\n",
            "  self.n_iter_ = _check_optimize_result(\"lbfgs\", opt_res, self.max_iter)\n",
            "/usr/local/lib/python3.7/dist-packages/sklearn/neural_network/_multilayer_perceptron.py:549: ConvergenceWarning: lbfgs failed to converge (status=1):\n",
            "STOP: TOTAL NO. of ITERATIONS REACHED LIMIT.\n",
            "\n",
            "Increase the number of iterations (max_iter) or scale the data as shown in:\n",
            "    https://scikit-learn.org/stable/modules/preprocessing.html\n",
            "  self.n_iter_ = _check_optimize_result(\"lbfgs\", opt_res, self.max_iter)\n",
            "/usr/local/lib/python3.7/dist-packages/sklearn/neural_network/_multilayer_perceptron.py:549: ConvergenceWarning: lbfgs failed to converge (status=1):\n",
            "STOP: TOTAL NO. of ITERATIONS REACHED LIMIT.\n",
            "\n",
            "Increase the number of iterations (max_iter) or scale the data as shown in:\n",
            "    https://scikit-learn.org/stable/modules/preprocessing.html\n",
            "  self.n_iter_ = _check_optimize_result(\"lbfgs\", opt_res, self.max_iter)\n",
            "/usr/local/lib/python3.7/dist-packages/sklearn/neural_network/_multilayer_perceptron.py:549: ConvergenceWarning: lbfgs failed to converge (status=1):\n",
            "STOP: TOTAL NO. of ITERATIONS REACHED LIMIT.\n",
            "\n",
            "Increase the number of iterations (max_iter) or scale the data as shown in:\n",
            "    https://scikit-learn.org/stable/modules/preprocessing.html\n",
            "  self.n_iter_ = _check_optimize_result(\"lbfgs\", opt_res, self.max_iter)\n",
            "/usr/local/lib/python3.7/dist-packages/sklearn/neural_network/_multilayer_perceptron.py:549: ConvergenceWarning: lbfgs failed to converge (status=1):\n",
            "STOP: TOTAL NO. of ITERATIONS REACHED LIMIT.\n",
            "\n",
            "Increase the number of iterations (max_iter) or scale the data as shown in:\n",
            "    https://scikit-learn.org/stable/modules/preprocessing.html\n",
            "  self.n_iter_ = _check_optimize_result(\"lbfgs\", opt_res, self.max_iter)\n",
            "/usr/local/lib/python3.7/dist-packages/sklearn/neural_network/_multilayer_perceptron.py:549: ConvergenceWarning: lbfgs failed to converge (status=1):\n",
            "STOP: TOTAL NO. of ITERATIONS REACHED LIMIT.\n",
            "\n",
            "Increase the number of iterations (max_iter) or scale the data as shown in:\n",
            "    https://scikit-learn.org/stable/modules/preprocessing.html\n",
            "  self.n_iter_ = _check_optimize_result(\"lbfgs\", opt_res, self.max_iter)\n",
            "/usr/local/lib/python3.7/dist-packages/sklearn/neural_network/_multilayer_perceptron.py:549: ConvergenceWarning: lbfgs failed to converge (status=1):\n",
            "STOP: TOTAL NO. of ITERATIONS REACHED LIMIT.\n",
            "\n",
            "Increase the number of iterations (max_iter) or scale the data as shown in:\n",
            "    https://scikit-learn.org/stable/modules/preprocessing.html\n",
            "  self.n_iter_ = _check_optimize_result(\"lbfgs\", opt_res, self.max_iter)\n",
            "/usr/local/lib/python3.7/dist-packages/sklearn/neural_network/_multilayer_perceptron.py:549: ConvergenceWarning: lbfgs failed to converge (status=1):\n",
            "STOP: TOTAL NO. of ITERATIONS REACHED LIMIT.\n",
            "\n",
            "Increase the number of iterations (max_iter) or scale the data as shown in:\n",
            "    https://scikit-learn.org/stable/modules/preprocessing.html\n",
            "  self.n_iter_ = _check_optimize_result(\"lbfgs\", opt_res, self.max_iter)\n",
            "/usr/local/lib/python3.7/dist-packages/sklearn/neural_network/_multilayer_perceptron.py:549: ConvergenceWarning: lbfgs failed to converge (status=1):\n",
            "STOP: TOTAL NO. of ITERATIONS REACHED LIMIT.\n",
            "\n",
            "Increase the number of iterations (max_iter) or scale the data as shown in:\n",
            "    https://scikit-learn.org/stable/modules/preprocessing.html\n",
            "  self.n_iter_ = _check_optimize_result(\"lbfgs\", opt_res, self.max_iter)\n",
            "/usr/local/lib/python3.7/dist-packages/sklearn/neural_network/_multilayer_perceptron.py:549: ConvergenceWarning: lbfgs failed to converge (status=1):\n",
            "STOP: TOTAL NO. of ITERATIONS REACHED LIMIT.\n",
            "\n",
            "Increase the number of iterations (max_iter) or scale the data as shown in:\n",
            "    https://scikit-learn.org/stable/modules/preprocessing.html\n",
            "  self.n_iter_ = _check_optimize_result(\"lbfgs\", opt_res, self.max_iter)\n",
            "/usr/local/lib/python3.7/dist-packages/sklearn/neural_network/_multilayer_perceptron.py:549: ConvergenceWarning: lbfgs failed to converge (status=1):\n",
            "STOP: TOTAL NO. of ITERATIONS REACHED LIMIT.\n",
            "\n",
            "Increase the number of iterations (max_iter) or scale the data as shown in:\n",
            "    https://scikit-learn.org/stable/modules/preprocessing.html\n",
            "  self.n_iter_ = _check_optimize_result(\"lbfgs\", opt_res, self.max_iter)\n",
            "/usr/local/lib/python3.7/dist-packages/sklearn/neural_network/_multilayer_perceptron.py:549: ConvergenceWarning: lbfgs failed to converge (status=1):\n",
            "STOP: TOTAL NO. of ITERATIONS REACHED LIMIT.\n",
            "\n",
            "Increase the number of iterations (max_iter) or scale the data as shown in:\n",
            "    https://scikit-learn.org/stable/modules/preprocessing.html\n",
            "  self.n_iter_ = _check_optimize_result(\"lbfgs\", opt_res, self.max_iter)\n",
            "/usr/local/lib/python3.7/dist-packages/sklearn/neural_network/_multilayer_perceptron.py:549: ConvergenceWarning: lbfgs failed to converge (status=1):\n",
            "STOP: TOTAL NO. of ITERATIONS REACHED LIMIT.\n",
            "\n",
            "Increase the number of iterations (max_iter) or scale the data as shown in:\n",
            "    https://scikit-learn.org/stable/modules/preprocessing.html\n",
            "  self.n_iter_ = _check_optimize_result(\"lbfgs\", opt_res, self.max_iter)\n",
            "/usr/local/lib/python3.7/dist-packages/sklearn/neural_network/_multilayer_perceptron.py:549: ConvergenceWarning: lbfgs failed to converge (status=1):\n",
            "STOP: TOTAL NO. of ITERATIONS REACHED LIMIT.\n",
            "\n",
            "Increase the number of iterations (max_iter) or scale the data as shown in:\n",
            "    https://scikit-learn.org/stable/modules/preprocessing.html\n",
            "  self.n_iter_ = _check_optimize_result(\"lbfgs\", opt_res, self.max_iter)\n",
            "/usr/local/lib/python3.7/dist-packages/sklearn/neural_network/_multilayer_perceptron.py:549: ConvergenceWarning: lbfgs failed to converge (status=1):\n",
            "STOP: TOTAL NO. of ITERATIONS REACHED LIMIT.\n",
            "\n",
            "Increase the number of iterations (max_iter) or scale the data as shown in:\n",
            "    https://scikit-learn.org/stable/modules/preprocessing.html\n",
            "  self.n_iter_ = _check_optimize_result(\"lbfgs\", opt_res, self.max_iter)\n",
            "/usr/local/lib/python3.7/dist-packages/sklearn/neural_network/_multilayer_perceptron.py:549: ConvergenceWarning: lbfgs failed to converge (status=1):\n",
            "STOP: TOTAL NO. of ITERATIONS REACHED LIMIT.\n",
            "\n",
            "Increase the number of iterations (max_iter) or scale the data as shown in:\n",
            "    https://scikit-learn.org/stable/modules/preprocessing.html\n",
            "  self.n_iter_ = _check_optimize_result(\"lbfgs\", opt_res, self.max_iter)\n",
            "/usr/local/lib/python3.7/dist-packages/sklearn/neural_network/_multilayer_perceptron.py:549: ConvergenceWarning: lbfgs failed to converge (status=1):\n",
            "STOP: TOTAL NO. of ITERATIONS REACHED LIMIT.\n",
            "\n",
            "Increase the number of iterations (max_iter) or scale the data as shown in:\n",
            "    https://scikit-learn.org/stable/modules/preprocessing.html\n",
            "  self.n_iter_ = _check_optimize_result(\"lbfgs\", opt_res, self.max_iter)\n",
            "/usr/local/lib/python3.7/dist-packages/sklearn/neural_network/_multilayer_perceptron.py:549: ConvergenceWarning: lbfgs failed to converge (status=1):\n",
            "STOP: TOTAL NO. of ITERATIONS REACHED LIMIT.\n",
            "\n",
            "Increase the number of iterations (max_iter) or scale the data as shown in:\n",
            "    https://scikit-learn.org/stable/modules/preprocessing.html\n",
            "  self.n_iter_ = _check_optimize_result(\"lbfgs\", opt_res, self.max_iter)\n",
            "/usr/local/lib/python3.7/dist-packages/sklearn/neural_network/_multilayer_perceptron.py:549: ConvergenceWarning: lbfgs failed to converge (status=1):\n",
            "STOP: TOTAL NO. of ITERATIONS REACHED LIMIT.\n",
            "\n",
            "Increase the number of iterations (max_iter) or scale the data as shown in:\n",
            "    https://scikit-learn.org/stable/modules/preprocessing.html\n",
            "  self.n_iter_ = _check_optimize_result(\"lbfgs\", opt_res, self.max_iter)\n",
            "/usr/local/lib/python3.7/dist-packages/sklearn/neural_network/_multilayer_perceptron.py:549: ConvergenceWarning: lbfgs failed to converge (status=1):\n",
            "STOP: TOTAL NO. of ITERATIONS REACHED LIMIT.\n",
            "\n",
            "Increase the number of iterations (max_iter) or scale the data as shown in:\n",
            "    https://scikit-learn.org/stable/modules/preprocessing.html\n",
            "  self.n_iter_ = _check_optimize_result(\"lbfgs\", opt_res, self.max_iter)\n",
            "/usr/local/lib/python3.7/dist-packages/sklearn/neural_network/_multilayer_perceptron.py:549: ConvergenceWarning: lbfgs failed to converge (status=1):\n",
            "STOP: TOTAL NO. of ITERATIONS REACHED LIMIT.\n",
            "\n",
            "Increase the number of iterations (max_iter) or scale the data as shown in:\n",
            "    https://scikit-learn.org/stable/modules/preprocessing.html\n",
            "  self.n_iter_ = _check_optimize_result(\"lbfgs\", opt_res, self.max_iter)\n",
            "/usr/local/lib/python3.7/dist-packages/sklearn/neural_network/_multilayer_perceptron.py:549: ConvergenceWarning: lbfgs failed to converge (status=1):\n",
            "STOP: TOTAL NO. of ITERATIONS REACHED LIMIT.\n",
            "\n",
            "Increase the number of iterations (max_iter) or scale the data as shown in:\n",
            "    https://scikit-learn.org/stable/modules/preprocessing.html\n",
            "  self.n_iter_ = _check_optimize_result(\"lbfgs\", opt_res, self.max_iter)\n",
            "/usr/local/lib/python3.7/dist-packages/sklearn/neural_network/_multilayer_perceptron.py:549: ConvergenceWarning: lbfgs failed to converge (status=1):\n",
            "STOP: TOTAL NO. of ITERATIONS REACHED LIMIT.\n",
            "\n",
            "Increase the number of iterations (max_iter) or scale the data as shown in:\n",
            "    https://scikit-learn.org/stable/modules/preprocessing.html\n",
            "  self.n_iter_ = _check_optimize_result(\"lbfgs\", opt_res, self.max_iter)\n",
            "/usr/local/lib/python3.7/dist-packages/sklearn/neural_network/_multilayer_perceptron.py:549: ConvergenceWarning: lbfgs failed to converge (status=1):\n",
            "STOP: TOTAL NO. of ITERATIONS REACHED LIMIT.\n",
            "\n",
            "Increase the number of iterations (max_iter) or scale the data as shown in:\n",
            "    https://scikit-learn.org/stable/modules/preprocessing.html\n",
            "  self.n_iter_ = _check_optimize_result(\"lbfgs\", opt_res, self.max_iter)\n",
            "/usr/local/lib/python3.7/dist-packages/sklearn/neural_network/_multilayer_perceptron.py:549: ConvergenceWarning: lbfgs failed to converge (status=1):\n",
            "STOP: TOTAL NO. of ITERATIONS REACHED LIMIT.\n",
            "\n",
            "Increase the number of iterations (max_iter) or scale the data as shown in:\n",
            "    https://scikit-learn.org/stable/modules/preprocessing.html\n",
            "  self.n_iter_ = _check_optimize_result(\"lbfgs\", opt_res, self.max_iter)\n",
            "/usr/local/lib/python3.7/dist-packages/sklearn/neural_network/_multilayer_perceptron.py:549: ConvergenceWarning: lbfgs failed to converge (status=1):\n",
            "STOP: TOTAL NO. of ITERATIONS REACHED LIMIT.\n",
            "\n",
            "Increase the number of iterations (max_iter) or scale the data as shown in:\n",
            "    https://scikit-learn.org/stable/modules/preprocessing.html\n",
            "  self.n_iter_ = _check_optimize_result(\"lbfgs\", opt_res, self.max_iter)\n",
            "/usr/local/lib/python3.7/dist-packages/sklearn/neural_network/_multilayer_perceptron.py:549: ConvergenceWarning: lbfgs failed to converge (status=1):\n",
            "STOP: TOTAL NO. of ITERATIONS REACHED LIMIT.\n",
            "\n",
            "Increase the number of iterations (max_iter) or scale the data as shown in:\n",
            "    https://scikit-learn.org/stable/modules/preprocessing.html\n",
            "  self.n_iter_ = _check_optimize_result(\"lbfgs\", opt_res, self.max_iter)\n",
            "/usr/local/lib/python3.7/dist-packages/sklearn/neural_network/_multilayer_perceptron.py:549: ConvergenceWarning: lbfgs failed to converge (status=1):\n",
            "STOP: TOTAL NO. of ITERATIONS REACHED LIMIT.\n",
            "\n",
            "Increase the number of iterations (max_iter) or scale the data as shown in:\n",
            "    https://scikit-learn.org/stable/modules/preprocessing.html\n",
            "  self.n_iter_ = _check_optimize_result(\"lbfgs\", opt_res, self.max_iter)\n",
            "/usr/local/lib/python3.7/dist-packages/sklearn/neural_network/_multilayer_perceptron.py:549: ConvergenceWarning: lbfgs failed to converge (status=1):\n",
            "STOP: TOTAL NO. of ITERATIONS REACHED LIMIT.\n",
            "\n",
            "Increase the number of iterations (max_iter) or scale the data as shown in:\n",
            "    https://scikit-learn.org/stable/modules/preprocessing.html\n",
            "  self.n_iter_ = _check_optimize_result(\"lbfgs\", opt_res, self.max_iter)\n",
            "/usr/local/lib/python3.7/dist-packages/sklearn/neural_network/_multilayer_perceptron.py:549: ConvergenceWarning: lbfgs failed to converge (status=1):\n",
            "STOP: TOTAL NO. of ITERATIONS REACHED LIMIT.\n",
            "\n",
            "Increase the number of iterations (max_iter) or scale the data as shown in:\n",
            "    https://scikit-learn.org/stable/modules/preprocessing.html\n",
            "  self.n_iter_ = _check_optimize_result(\"lbfgs\", opt_res, self.max_iter)\n",
            "/usr/local/lib/python3.7/dist-packages/sklearn/neural_network/_multilayer_perceptron.py:549: ConvergenceWarning: lbfgs failed to converge (status=1):\n",
            "STOP: TOTAL NO. of ITERATIONS REACHED LIMIT.\n",
            "\n",
            "Increase the number of iterations (max_iter) or scale the data as shown in:\n",
            "    https://scikit-learn.org/stable/modules/preprocessing.html\n",
            "  self.n_iter_ = _check_optimize_result(\"lbfgs\", opt_res, self.max_iter)\n",
            "/usr/local/lib/python3.7/dist-packages/sklearn/neural_network/_multilayer_perceptron.py:549: ConvergenceWarning: lbfgs failed to converge (status=1):\n",
            "STOP: TOTAL NO. of ITERATIONS REACHED LIMIT.\n",
            "\n",
            "Increase the number of iterations (max_iter) or scale the data as shown in:\n",
            "    https://scikit-learn.org/stable/modules/preprocessing.html\n",
            "  self.n_iter_ = _check_optimize_result(\"lbfgs\", opt_res, self.max_iter)\n",
            "/usr/local/lib/python3.7/dist-packages/sklearn/neural_network/_multilayer_perceptron.py:549: ConvergenceWarning: lbfgs failed to converge (status=1):\n",
            "STOP: TOTAL NO. of ITERATIONS REACHED LIMIT.\n",
            "\n",
            "Increase the number of iterations (max_iter) or scale the data as shown in:\n",
            "    https://scikit-learn.org/stable/modules/preprocessing.html\n",
            "  self.n_iter_ = _check_optimize_result(\"lbfgs\", opt_res, self.max_iter)\n",
            "/usr/local/lib/python3.7/dist-packages/sklearn/neural_network/_multilayer_perceptron.py:549: ConvergenceWarning: lbfgs failed to converge (status=1):\n",
            "STOP: TOTAL NO. of ITERATIONS REACHED LIMIT.\n",
            "\n",
            "Increase the number of iterations (max_iter) or scale the data as shown in:\n",
            "    https://scikit-learn.org/stable/modules/preprocessing.html\n",
            "  self.n_iter_ = _check_optimize_result(\"lbfgs\", opt_res, self.max_iter)\n",
            "/usr/local/lib/python3.7/dist-packages/sklearn/neural_network/_multilayer_perceptron.py:549: ConvergenceWarning: lbfgs failed to converge (status=1):\n",
            "STOP: TOTAL NO. of ITERATIONS REACHED LIMIT.\n",
            "\n",
            "Increase the number of iterations (max_iter) or scale the data as shown in:\n",
            "    https://scikit-learn.org/stable/modules/preprocessing.html\n",
            "  self.n_iter_ = _check_optimize_result(\"lbfgs\", opt_res, self.max_iter)\n",
            "/usr/local/lib/python3.7/dist-packages/sklearn/neural_network/_multilayer_perceptron.py:549: ConvergenceWarning: lbfgs failed to converge (status=1):\n",
            "STOP: TOTAL NO. of ITERATIONS REACHED LIMIT.\n",
            "\n",
            "Increase the number of iterations (max_iter) or scale the data as shown in:\n",
            "    https://scikit-learn.org/stable/modules/preprocessing.html\n",
            "  self.n_iter_ = _check_optimize_result(\"lbfgs\", opt_res, self.max_iter)\n",
            "/usr/local/lib/python3.7/dist-packages/sklearn/neural_network/_multilayer_perceptron.py:549: ConvergenceWarning: lbfgs failed to converge (status=1):\n",
            "STOP: TOTAL NO. of ITERATIONS REACHED LIMIT.\n",
            "\n",
            "Increase the number of iterations (max_iter) or scale the data as shown in:\n",
            "    https://scikit-learn.org/stable/modules/preprocessing.html\n",
            "  self.n_iter_ = _check_optimize_result(\"lbfgs\", opt_res, self.max_iter)\n",
            "/usr/local/lib/python3.7/dist-packages/sklearn/neural_network/_multilayer_perceptron.py:549: ConvergenceWarning: lbfgs failed to converge (status=1):\n",
            "STOP: TOTAL NO. of ITERATIONS REACHED LIMIT.\n",
            "\n",
            "Increase the number of iterations (max_iter) or scale the data as shown in:\n",
            "    https://scikit-learn.org/stable/modules/preprocessing.html\n",
            "  self.n_iter_ = _check_optimize_result(\"lbfgs\", opt_res, self.max_iter)\n",
            "/usr/local/lib/python3.7/dist-packages/sklearn/neural_network/_multilayer_perceptron.py:549: ConvergenceWarning: lbfgs failed to converge (status=1):\n",
            "STOP: TOTAL NO. of ITERATIONS REACHED LIMIT.\n",
            "\n",
            "Increase the number of iterations (max_iter) or scale the data as shown in:\n",
            "    https://scikit-learn.org/stable/modules/preprocessing.html\n",
            "  self.n_iter_ = _check_optimize_result(\"lbfgs\", opt_res, self.max_iter)\n",
            "/usr/local/lib/python3.7/dist-packages/sklearn/neural_network/_multilayer_perceptron.py:549: ConvergenceWarning: lbfgs failed to converge (status=1):\n",
            "STOP: TOTAL NO. of ITERATIONS REACHED LIMIT.\n",
            "\n",
            "Increase the number of iterations (max_iter) or scale the data as shown in:\n",
            "    https://scikit-learn.org/stable/modules/preprocessing.html\n",
            "  self.n_iter_ = _check_optimize_result(\"lbfgs\", opt_res, self.max_iter)\n",
            "/usr/local/lib/python3.7/dist-packages/sklearn/neural_network/_multilayer_perceptron.py:549: ConvergenceWarning: lbfgs failed to converge (status=1):\n",
            "STOP: TOTAL NO. of ITERATIONS REACHED LIMIT.\n",
            "\n",
            "Increase the number of iterations (max_iter) or scale the data as shown in:\n",
            "    https://scikit-learn.org/stable/modules/preprocessing.html\n",
            "  self.n_iter_ = _check_optimize_result(\"lbfgs\", opt_res, self.max_iter)\n",
            "/usr/local/lib/python3.7/dist-packages/sklearn/neural_network/_multilayer_perceptron.py:549: ConvergenceWarning: lbfgs failed to converge (status=1):\n",
            "STOP: TOTAL NO. of ITERATIONS REACHED LIMIT.\n",
            "\n",
            "Increase the number of iterations (max_iter) or scale the data as shown in:\n",
            "    https://scikit-learn.org/stable/modules/preprocessing.html\n",
            "  self.n_iter_ = _check_optimize_result(\"lbfgs\", opt_res, self.max_iter)\n",
            "/usr/local/lib/python3.7/dist-packages/sklearn/neural_network/_multilayer_perceptron.py:549: ConvergenceWarning: lbfgs failed to converge (status=1):\n",
            "STOP: TOTAL NO. of ITERATIONS REACHED LIMIT.\n",
            "\n",
            "Increase the number of iterations (max_iter) or scale the data as shown in:\n",
            "    https://scikit-learn.org/stable/modules/preprocessing.html\n",
            "  self.n_iter_ = _check_optimize_result(\"lbfgs\", opt_res, self.max_iter)\n",
            "/usr/local/lib/python3.7/dist-packages/sklearn/neural_network/_multilayer_perceptron.py:549: ConvergenceWarning: lbfgs failed to converge (status=1):\n",
            "STOP: TOTAL NO. of ITERATIONS REACHED LIMIT.\n",
            "\n",
            "Increase the number of iterations (max_iter) or scale the data as shown in:\n",
            "    https://scikit-learn.org/stable/modules/preprocessing.html\n",
            "  self.n_iter_ = _check_optimize_result(\"lbfgs\", opt_res, self.max_iter)\n",
            "/usr/local/lib/python3.7/dist-packages/sklearn/neural_network/_multilayer_perceptron.py:549: ConvergenceWarning: lbfgs failed to converge (status=1):\n",
            "STOP: TOTAL NO. of ITERATIONS REACHED LIMIT.\n",
            "\n",
            "Increase the number of iterations (max_iter) or scale the data as shown in:\n",
            "    https://scikit-learn.org/stable/modules/preprocessing.html\n",
            "  self.n_iter_ = _check_optimize_result(\"lbfgs\", opt_res, self.max_iter)\n",
            "/usr/local/lib/python3.7/dist-packages/sklearn/neural_network/_multilayer_perceptron.py:549: ConvergenceWarning: lbfgs failed to converge (status=1):\n",
            "STOP: TOTAL NO. of ITERATIONS REACHED LIMIT.\n",
            "\n",
            "Increase the number of iterations (max_iter) or scale the data as shown in:\n",
            "    https://scikit-learn.org/stable/modules/preprocessing.html\n",
            "  self.n_iter_ = _check_optimize_result(\"lbfgs\", opt_res, self.max_iter)\n",
            "/usr/local/lib/python3.7/dist-packages/sklearn/neural_network/_multilayer_perceptron.py:549: ConvergenceWarning: lbfgs failed to converge (status=1):\n",
            "STOP: TOTAL NO. of ITERATIONS REACHED LIMIT.\n",
            "\n",
            "Increase the number of iterations (max_iter) or scale the data as shown in:\n",
            "    https://scikit-learn.org/stable/modules/preprocessing.html\n",
            "  self.n_iter_ = _check_optimize_result(\"lbfgs\", opt_res, self.max_iter)\n",
            "/usr/local/lib/python3.7/dist-packages/sklearn/neural_network/_multilayer_perceptron.py:549: ConvergenceWarning: lbfgs failed to converge (status=1):\n",
            "STOP: TOTAL NO. of ITERATIONS REACHED LIMIT.\n",
            "\n",
            "Increase the number of iterations (max_iter) or scale the data as shown in:\n",
            "    https://scikit-learn.org/stable/modules/preprocessing.html\n",
            "  self.n_iter_ = _check_optimize_result(\"lbfgs\", opt_res, self.max_iter)\n",
            "/usr/local/lib/python3.7/dist-packages/sklearn/neural_network/_multilayer_perceptron.py:549: ConvergenceWarning: lbfgs failed to converge (status=1):\n",
            "STOP: TOTAL NO. of ITERATIONS REACHED LIMIT.\n",
            "\n",
            "Increase the number of iterations (max_iter) or scale the data as shown in:\n",
            "    https://scikit-learn.org/stable/modules/preprocessing.html\n",
            "  self.n_iter_ = _check_optimize_result(\"lbfgs\", opt_res, self.max_iter)\n",
            "/usr/local/lib/python3.7/dist-packages/sklearn/neural_network/_multilayer_perceptron.py:549: ConvergenceWarning: lbfgs failed to converge (status=1):\n",
            "STOP: TOTAL NO. of ITERATIONS REACHED LIMIT.\n",
            "\n",
            "Increase the number of iterations (max_iter) or scale the data as shown in:\n",
            "    https://scikit-learn.org/stable/modules/preprocessing.html\n",
            "  self.n_iter_ = _check_optimize_result(\"lbfgs\", opt_res, self.max_iter)\n",
            "/usr/local/lib/python3.7/dist-packages/sklearn/neural_network/_multilayer_perceptron.py:549: ConvergenceWarning: lbfgs failed to converge (status=1):\n",
            "STOP: TOTAL NO. of ITERATIONS REACHED LIMIT.\n",
            "\n",
            "Increase the number of iterations (max_iter) or scale the data as shown in:\n",
            "    https://scikit-learn.org/stable/modules/preprocessing.html\n",
            "  self.n_iter_ = _check_optimize_result(\"lbfgs\", opt_res, self.max_iter)\n",
            "/usr/local/lib/python3.7/dist-packages/sklearn/neural_network/_multilayer_perceptron.py:549: ConvergenceWarning: lbfgs failed to converge (status=1):\n",
            "STOP: TOTAL NO. of ITERATIONS REACHED LIMIT.\n",
            "\n",
            "Increase the number of iterations (max_iter) or scale the data as shown in:\n",
            "    https://scikit-learn.org/stable/modules/preprocessing.html\n",
            "  self.n_iter_ = _check_optimize_result(\"lbfgs\", opt_res, self.max_iter)\n",
            "/usr/local/lib/python3.7/dist-packages/sklearn/neural_network/_multilayer_perceptron.py:549: ConvergenceWarning: lbfgs failed to converge (status=1):\n",
            "STOP: TOTAL NO. of ITERATIONS REACHED LIMIT.\n",
            "\n",
            "Increase the number of iterations (max_iter) or scale the data as shown in:\n",
            "    https://scikit-learn.org/stable/modules/preprocessing.html\n",
            "  self.n_iter_ = _check_optimize_result(\"lbfgs\", opt_res, self.max_iter)\n",
            "/usr/local/lib/python3.7/dist-packages/sklearn/neural_network/_multilayer_perceptron.py:549: ConvergenceWarning: lbfgs failed to converge (status=1):\n",
            "STOP: TOTAL NO. of ITERATIONS REACHED LIMIT.\n",
            "\n",
            "Increase the number of iterations (max_iter) or scale the data as shown in:\n",
            "    https://scikit-learn.org/stable/modules/preprocessing.html\n",
            "  self.n_iter_ = _check_optimize_result(\"lbfgs\", opt_res, self.max_iter)\n",
            "/usr/local/lib/python3.7/dist-packages/sklearn/neural_network/_multilayer_perceptron.py:549: ConvergenceWarning: lbfgs failed to converge (status=1):\n",
            "STOP: TOTAL NO. of ITERATIONS REACHED LIMIT.\n",
            "\n",
            "Increase the number of iterations (max_iter) or scale the data as shown in:\n",
            "    https://scikit-learn.org/stable/modules/preprocessing.html\n",
            "  self.n_iter_ = _check_optimize_result(\"lbfgs\", opt_res, self.max_iter)\n",
            "/usr/local/lib/python3.7/dist-packages/sklearn/neural_network/_multilayer_perceptron.py:549: ConvergenceWarning: lbfgs failed to converge (status=1):\n",
            "STOP: TOTAL NO. of ITERATIONS REACHED LIMIT.\n",
            "\n",
            "Increase the number of iterations (max_iter) or scale the data as shown in:\n",
            "    https://scikit-learn.org/stable/modules/preprocessing.html\n",
            "  self.n_iter_ = _check_optimize_result(\"lbfgs\", opt_res, self.max_iter)\n",
            "/usr/local/lib/python3.7/dist-packages/sklearn/neural_network/_multilayer_perceptron.py:549: ConvergenceWarning: lbfgs failed to converge (status=1):\n",
            "STOP: TOTAL NO. of ITERATIONS REACHED LIMIT.\n",
            "\n",
            "Increase the number of iterations (max_iter) or scale the data as shown in:\n",
            "    https://scikit-learn.org/stable/modules/preprocessing.html\n",
            "  self.n_iter_ = _check_optimize_result(\"lbfgs\", opt_res, self.max_iter)\n",
            "/usr/local/lib/python3.7/dist-packages/sklearn/neural_network/_multilayer_perceptron.py:549: ConvergenceWarning: lbfgs failed to converge (status=1):\n",
            "STOP: TOTAL NO. of ITERATIONS REACHED LIMIT.\n",
            "\n",
            "Increase the number of iterations (max_iter) or scale the data as shown in:\n",
            "    https://scikit-learn.org/stable/modules/preprocessing.html\n",
            "  self.n_iter_ = _check_optimize_result(\"lbfgs\", opt_res, self.max_iter)\n",
            "/usr/local/lib/python3.7/dist-packages/sklearn/neural_network/_multilayer_perceptron.py:549: ConvergenceWarning: lbfgs failed to converge (status=1):\n",
            "STOP: TOTAL NO. of ITERATIONS REACHED LIMIT.\n",
            "\n",
            "Increase the number of iterations (max_iter) or scale the data as shown in:\n",
            "    https://scikit-learn.org/stable/modules/preprocessing.html\n",
            "  self.n_iter_ = _check_optimize_result(\"lbfgs\", opt_res, self.max_iter)\n",
            "/usr/local/lib/python3.7/dist-packages/sklearn/neural_network/_multilayer_perceptron.py:549: ConvergenceWarning: lbfgs failed to converge (status=1):\n",
            "STOP: TOTAL NO. of ITERATIONS REACHED LIMIT.\n",
            "\n",
            "Increase the number of iterations (max_iter) or scale the data as shown in:\n",
            "    https://scikit-learn.org/stable/modules/preprocessing.html\n",
            "  self.n_iter_ = _check_optimize_result(\"lbfgs\", opt_res, self.max_iter)\n",
            "/usr/local/lib/python3.7/dist-packages/sklearn/neural_network/_multilayer_perceptron.py:549: ConvergenceWarning: lbfgs failed to converge (status=1):\n",
            "STOP: TOTAL NO. of ITERATIONS REACHED LIMIT.\n",
            "\n",
            "Increase the number of iterations (max_iter) or scale the data as shown in:\n",
            "    https://scikit-learn.org/stable/modules/preprocessing.html\n",
            "  self.n_iter_ = _check_optimize_result(\"lbfgs\", opt_res, self.max_iter)\n",
            "/usr/local/lib/python3.7/dist-packages/sklearn/neural_network/_multilayer_perceptron.py:549: ConvergenceWarning: lbfgs failed to converge (status=1):\n",
            "STOP: TOTAL NO. of ITERATIONS REACHED LIMIT.\n",
            "\n",
            "Increase the number of iterations (max_iter) or scale the data as shown in:\n",
            "    https://scikit-learn.org/stable/modules/preprocessing.html\n",
            "  self.n_iter_ = _check_optimize_result(\"lbfgs\", opt_res, self.max_iter)\n",
            "/usr/local/lib/python3.7/dist-packages/sklearn/neural_network/_multilayer_perceptron.py:549: ConvergenceWarning: lbfgs failed to converge (status=1):\n",
            "STOP: TOTAL NO. of ITERATIONS REACHED LIMIT.\n",
            "\n",
            "Increase the number of iterations (max_iter) or scale the data as shown in:\n",
            "    https://scikit-learn.org/stable/modules/preprocessing.html\n",
            "  self.n_iter_ = _check_optimize_result(\"lbfgs\", opt_res, self.max_iter)\n",
            "/usr/local/lib/python3.7/dist-packages/sklearn/neural_network/_multilayer_perceptron.py:549: ConvergenceWarning: lbfgs failed to converge (status=1):\n",
            "STOP: TOTAL NO. of ITERATIONS REACHED LIMIT.\n",
            "\n",
            "Increase the number of iterations (max_iter) or scale the data as shown in:\n",
            "    https://scikit-learn.org/stable/modules/preprocessing.html\n",
            "  self.n_iter_ = _check_optimize_result(\"lbfgs\", opt_res, self.max_iter)\n",
            "/usr/local/lib/python3.7/dist-packages/sklearn/neural_network/_multilayer_perceptron.py:549: ConvergenceWarning: lbfgs failed to converge (status=1):\n",
            "STOP: TOTAL NO. of ITERATIONS REACHED LIMIT.\n",
            "\n",
            "Increase the number of iterations (max_iter) or scale the data as shown in:\n",
            "    https://scikit-learn.org/stable/modules/preprocessing.html\n",
            "  self.n_iter_ = _check_optimize_result(\"lbfgs\", opt_res, self.max_iter)\n",
            "/usr/local/lib/python3.7/dist-packages/sklearn/neural_network/_multilayer_perceptron.py:549: ConvergenceWarning: lbfgs failed to converge (status=1):\n",
            "STOP: TOTAL NO. of ITERATIONS REACHED LIMIT.\n",
            "\n",
            "Increase the number of iterations (max_iter) or scale the data as shown in:\n",
            "    https://scikit-learn.org/stable/modules/preprocessing.html\n",
            "  self.n_iter_ = _check_optimize_result(\"lbfgs\", opt_res, self.max_iter)\n",
            "/usr/local/lib/python3.7/dist-packages/sklearn/neural_network/_multilayer_perceptron.py:549: ConvergenceWarning: lbfgs failed to converge (status=1):\n",
            "STOP: TOTAL NO. of ITERATIONS REACHED LIMIT.\n",
            "\n",
            "Increase the number of iterations (max_iter) or scale the data as shown in:\n",
            "    https://scikit-learn.org/stable/modules/preprocessing.html\n",
            "  self.n_iter_ = _check_optimize_result(\"lbfgs\", opt_res, self.max_iter)\n",
            "/usr/local/lib/python3.7/dist-packages/sklearn/neural_network/_multilayer_perceptron.py:549: ConvergenceWarning: lbfgs failed to converge (status=1):\n",
            "STOP: TOTAL NO. of ITERATIONS REACHED LIMIT.\n",
            "\n",
            "Increase the number of iterations (max_iter) or scale the data as shown in:\n",
            "    https://scikit-learn.org/stable/modules/preprocessing.html\n",
            "  self.n_iter_ = _check_optimize_result(\"lbfgs\", opt_res, self.max_iter)\n",
            "/usr/local/lib/python3.7/dist-packages/sklearn/neural_network/_multilayer_perceptron.py:549: ConvergenceWarning: lbfgs failed to converge (status=1):\n",
            "STOP: TOTAL NO. of ITERATIONS REACHED LIMIT.\n",
            "\n",
            "Increase the number of iterations (max_iter) or scale the data as shown in:\n",
            "    https://scikit-learn.org/stable/modules/preprocessing.html\n",
            "  self.n_iter_ = _check_optimize_result(\"lbfgs\", opt_res, self.max_iter)\n",
            "/usr/local/lib/python3.7/dist-packages/sklearn/neural_network/_multilayer_perceptron.py:549: ConvergenceWarning: lbfgs failed to converge (status=1):\n",
            "STOP: TOTAL NO. of ITERATIONS REACHED LIMIT.\n",
            "\n",
            "Increase the number of iterations (max_iter) or scale the data as shown in:\n",
            "    https://scikit-learn.org/stable/modules/preprocessing.html\n",
            "  self.n_iter_ = _check_optimize_result(\"lbfgs\", opt_res, self.max_iter)\n",
            "/usr/local/lib/python3.7/dist-packages/sklearn/neural_network/_multilayer_perceptron.py:549: ConvergenceWarning: lbfgs failed to converge (status=1):\n",
            "STOP: TOTAL NO. of ITERATIONS REACHED LIMIT.\n",
            "\n",
            "Increase the number of iterations (max_iter) or scale the data as shown in:\n",
            "    https://scikit-learn.org/stable/modules/preprocessing.html\n",
            "  self.n_iter_ = _check_optimize_result(\"lbfgs\", opt_res, self.max_iter)\n",
            "/usr/local/lib/python3.7/dist-packages/sklearn/neural_network/_multilayer_perceptron.py:549: ConvergenceWarning: lbfgs failed to converge (status=1):\n",
            "STOP: TOTAL NO. of ITERATIONS REACHED LIMIT.\n",
            "\n",
            "Increase the number of iterations (max_iter) or scale the data as shown in:\n",
            "    https://scikit-learn.org/stable/modules/preprocessing.html\n",
            "  self.n_iter_ = _check_optimize_result(\"lbfgs\", opt_res, self.max_iter)\n",
            "/usr/local/lib/python3.7/dist-packages/sklearn/neural_network/_multilayer_perceptron.py:549: ConvergenceWarning: lbfgs failed to converge (status=1):\n",
            "STOP: TOTAL NO. of ITERATIONS REACHED LIMIT.\n",
            "\n",
            "Increase the number of iterations (max_iter) or scale the data as shown in:\n",
            "    https://scikit-learn.org/stable/modules/preprocessing.html\n",
            "  self.n_iter_ = _check_optimize_result(\"lbfgs\", opt_res, self.max_iter)\n",
            "/usr/local/lib/python3.7/dist-packages/sklearn/neural_network/_multilayer_perceptron.py:549: ConvergenceWarning: lbfgs failed to converge (status=1):\n",
            "STOP: TOTAL NO. of ITERATIONS REACHED LIMIT.\n",
            "\n",
            "Increase the number of iterations (max_iter) or scale the data as shown in:\n",
            "    https://scikit-learn.org/stable/modules/preprocessing.html\n",
            "  self.n_iter_ = _check_optimize_result(\"lbfgs\", opt_res, self.max_iter)\n",
            "/usr/local/lib/python3.7/dist-packages/sklearn/neural_network/_multilayer_perceptron.py:549: ConvergenceWarning: lbfgs failed to converge (status=1):\n",
            "STOP: TOTAL NO. of ITERATIONS REACHED LIMIT.\n",
            "\n",
            "Increase the number of iterations (max_iter) or scale the data as shown in:\n",
            "    https://scikit-learn.org/stable/modules/preprocessing.html\n",
            "  self.n_iter_ = _check_optimize_result(\"lbfgs\", opt_res, self.max_iter)\n",
            "/usr/local/lib/python3.7/dist-packages/sklearn/neural_network/_multilayer_perceptron.py:549: ConvergenceWarning: lbfgs failed to converge (status=1):\n",
            "STOP: TOTAL NO. of ITERATIONS REACHED LIMIT.\n",
            "\n",
            "Increase the number of iterations (max_iter) or scale the data as shown in:\n",
            "    https://scikit-learn.org/stable/modules/preprocessing.html\n",
            "  self.n_iter_ = _check_optimize_result(\"lbfgs\", opt_res, self.max_iter)\n",
            "/usr/local/lib/python3.7/dist-packages/sklearn/neural_network/_multilayer_perceptron.py:549: ConvergenceWarning: lbfgs failed to converge (status=1):\n",
            "STOP: TOTAL NO. of ITERATIONS REACHED LIMIT.\n",
            "\n",
            "Increase the number of iterations (max_iter) or scale the data as shown in:\n",
            "    https://scikit-learn.org/stable/modules/preprocessing.html\n",
            "  self.n_iter_ = _check_optimize_result(\"lbfgs\", opt_res, self.max_iter)\n",
            "/usr/local/lib/python3.7/dist-packages/sklearn/neural_network/_multilayer_perceptron.py:549: ConvergenceWarning: lbfgs failed to converge (status=1):\n",
            "STOP: TOTAL NO. of ITERATIONS REACHED LIMIT.\n",
            "\n",
            "Increase the number of iterations (max_iter) or scale the data as shown in:\n",
            "    https://scikit-learn.org/stable/modules/preprocessing.html\n",
            "  self.n_iter_ = _check_optimize_result(\"lbfgs\", opt_res, self.max_iter)\n",
            "/usr/local/lib/python3.7/dist-packages/sklearn/neural_network/_multilayer_perceptron.py:549: ConvergenceWarning: lbfgs failed to converge (status=1):\n",
            "STOP: TOTAL NO. of ITERATIONS REACHED LIMIT.\n",
            "\n",
            "Increase the number of iterations (max_iter) or scale the data as shown in:\n",
            "    https://scikit-learn.org/stable/modules/preprocessing.html\n",
            "  self.n_iter_ = _check_optimize_result(\"lbfgs\", opt_res, self.max_iter)\n"
          ]
        }
      ]
    },
    {
      "cell_type": "code",
      "metadata": {
        "id": "sNUl3h9mfm30",
        "colab": {
          "base_uri": "https://localhost:8080/",
          "height": 283
        },
        "outputId": "885e900c-e279-440a-f811-827390502102"
      },
      "source": [
        "sns.lineplot(x=range(min_hidden_layer_size,max_hidden_layer_size,5), y=cv_scores)"
      ],
      "execution_count": null,
      "outputs": [
        {
          "output_type": "execute_result",
          "data": {
            "text/plain": [
              "<matplotlib.axes._subplots.AxesSubplot at 0x7fed8a893890>"
            ]
          },
          "metadata": {},
          "execution_count": 99
        },
        {
          "output_type": "display_data",
          "data": {
            "text/plain": [
              "<Figure size 432x288 with 1 Axes>"
            ],
            "image/png": "[encoded data removed]"
          },
          "metadata": {
            "needs_background": "light"
          }
        }
      ]
    },
    {
      "cell_type": "markdown",
      "source": [
        "From the chart we can observe that 40 is the best and optimize number of hiddden layers. We proceed to test it. "
      ],
      "metadata": {
        "id": "5ZJ2-QXMesOP"
      }
    },
    {
      "cell_type": "code",
      "source": [
        "optimal_mlp = MLPClassifier(hidden_layer_sizes=40,activation = 'logistic',solver = 'adam')\n",
        "\n",
        "optimal_mlp.fit(X_train, y_train)\n",
        "\n",
        "pred_ = optimal_mlp.predict(X_test)\n",
        "\n",
        "print(confusion_matrix(y_test,pred_))\n",
        "print(classification_report(y_test,pred_))"
      ],
      "metadata": {
        "colab": {
          "base_uri": "https://localhost:8080/"
        },
        "id": "xmip9VD8gDwu",
        "outputId": "830f76e9-f90f-4aff-dd61-9953949dcd67"
      },
      "execution_count": null,
      "outputs": [
        {
          "output_type": "stream",
          "name": "stdout",
          "text": [
            "[[562   0]\n",
            " [ 41   0]]\n",
            "              precision    recall  f1-score   support\n",
            "\n",
            "           0       0.93      1.00      0.96       562\n",
            "           1       0.00      0.00      0.00        41\n",
            "\n",
            "    accuracy                           0.93       603\n",
            "   macro avg       0.47      0.50      0.48       603\n",
            "weighted avg       0.87      0.93      0.90       603\n",
            "\n"
          ]
        },
        {
          "output_type": "stream",
          "name": "stderr",
          "text": [
            "/usr/local/lib/python3.7/dist-packages/sklearn/neural_network/_multilayer_perceptron.py:696: ConvergenceWarning: Stochastic Optimizer: Maximum iterations (200) reached and the optimization hasn't converged yet.\n",
            "  ConvergenceWarning,\n",
            "/usr/local/lib/python3.7/dist-packages/sklearn/metrics/_classification.py:1318: UndefinedMetricWarning: Precision and F-score are ill-defined and being set to 0.0 in labels with no predicted samples. Use `zero_division` parameter to control this behavior.\n",
            "  _warn_prf(average, modifier, msg_start, len(result))\n",
            "/usr/local/lib/python3.7/dist-packages/sklearn/metrics/_classification.py:1318: UndefinedMetricWarning: Precision and F-score are ill-defined and being set to 0.0 in labels with no predicted samples. Use `zero_division` parameter to control this behavior.\n",
            "  _warn_prf(average, modifier, msg_start, len(result))\n",
            "/usr/local/lib/python3.7/dist-packages/sklearn/metrics/_classification.py:1318: UndefinedMetricWarning: Precision and F-score are ill-defined and being set to 0.0 in labels with no predicted samples. Use `zero_division` parameter to control this behavior.\n",
            "  _warn_prf(average, modifier, msg_start, len(result))\n"
          ]
        }
      ]
    },
    {
      "cell_type": "code",
      "metadata": {
        "colab": {
          "base_uri": "https://localhost:8080/",
          "height": 318
        },
        "outputId": "92c513ce-383f-47f7-872a-c40a4e35ab02",
        "id": "wM40z-KXe-Zq"
      },
      "source": [
        "print('ROC AUC: ', roc_auc_score(y_test,MLPC_model.predict_proba(X_test)[:,1]))"
      ],
      "execution_count": null,
      "outputs": [
        {
          "output_type": "error",
          "ename": "NotFittedError",
          "evalue": "ignored",
          "traceback": [
            "\u001b[0;31m---------------------------------------------------------------------------\u001b[0m",
            "\u001b[0;31mNotFittedError\u001b[0m                            Traceback (most recent call last)",
            "\u001b[0;32m<ipython-input-102-4abd5bfde07e>\u001b[0m in \u001b[0;36m<module>\u001b[0;34m\u001b[0m\n\u001b[0;32m----> 1\u001b[0;31m \u001b[0mprint\u001b[0m\u001b[0;34m(\u001b[0m\u001b[0;34m'ROC AUC: '\u001b[0m\u001b[0;34m,\u001b[0m \u001b[0mroc_auc_score\u001b[0m\u001b[0;34m(\u001b[0m\u001b[0my_test\u001b[0m\u001b[0;34m,\u001b[0m\u001b[0mMLPC_model\u001b[0m\u001b[0;34m.\u001b[0m\u001b[0mpredict_proba\u001b[0m\u001b[0;34m(\u001b[0m\u001b[0mX_test\u001b[0m\u001b[0;34m)\u001b[0m\u001b[0;34m[\u001b[0m\u001b[0;34m:\u001b[0m\u001b[0;34m,\u001b[0m\u001b[0;36m1\u001b[0m\u001b[0;34m]\u001b[0m\u001b[0;34m)\u001b[0m\u001b[0;34m)\u001b[0m\u001b[0;34m\u001b[0m\u001b[0;34m\u001b[0m\u001b[0m\n\u001b[0m",
            "\u001b[0;32m/usr/local/lib/python3.7/dist-packages/sklearn/neural_network/_multilayer_perceptron.py\u001b[0m in \u001b[0;36mpredict_proba\u001b[0;34m(self, X)\u001b[0m\n\u001b[1;32m   1240\u001b[0m             \u001b[0mmodel\u001b[0m\u001b[0;34m,\u001b[0m \u001b[0mwhere\u001b[0m \u001b[0mclasses\u001b[0m \u001b[0mare\u001b[0m \u001b[0mordered\u001b[0m \u001b[0;32mas\u001b[0m \u001b[0mthey\u001b[0m \u001b[0mare\u001b[0m \u001b[0;32min\u001b[0m\u001b[0;31m \u001b[0m\u001b[0;31m`\u001b[0m\u001b[0mself\u001b[0m\u001b[0;34m.\u001b[0m\u001b[0mclasses_\u001b[0m\u001b[0;31m`\u001b[0m\u001b[0;34m.\u001b[0m\u001b[0;34m\u001b[0m\u001b[0;34m\u001b[0m\u001b[0m\n\u001b[1;32m   1241\u001b[0m         \"\"\"\n\u001b[0;32m-> 1242\u001b[0;31m         \u001b[0mcheck_is_fitted\u001b[0m\u001b[0;34m(\u001b[0m\u001b[0mself\u001b[0m\u001b[0;34m)\u001b[0m\u001b[0;34m\u001b[0m\u001b[0;34m\u001b[0m\u001b[0m\n\u001b[0m\u001b[1;32m   1243\u001b[0m         \u001b[0my_pred\u001b[0m \u001b[0;34m=\u001b[0m \u001b[0mself\u001b[0m\u001b[0;34m.\u001b[0m\u001b[0m_forward_pass_fast\u001b[0m\u001b[0;34m(\u001b[0m\u001b[0mX\u001b[0m\u001b[0;34m)\u001b[0m\u001b[0;34m\u001b[0m\u001b[0;34m\u001b[0m\u001b[0m\n\u001b[1;32m   1244\u001b[0m \u001b[0;34m\u001b[0m\u001b[0m\n",
            "\u001b[0;32m/usr/local/lib/python3.7/dist-packages/sklearn/utils/validation.py\u001b[0m in \u001b[0;36mcheck_is_fitted\u001b[0;34m(estimator, attributes, msg, all_or_any)\u001b[0m\n\u001b[1;32m   1220\u001b[0m \u001b[0;34m\u001b[0m\u001b[0m\n\u001b[1;32m   1221\u001b[0m     \u001b[0;32mif\u001b[0m \u001b[0;32mnot\u001b[0m \u001b[0mfitted\u001b[0m\u001b[0;34m:\u001b[0m\u001b[0;34m\u001b[0m\u001b[0;34m\u001b[0m\u001b[0m\n\u001b[0;32m-> 1222\u001b[0;31m         \u001b[0;32mraise\u001b[0m \u001b[0mNotFittedError\u001b[0m\u001b[0;34m(\u001b[0m\u001b[0mmsg\u001b[0m \u001b[0;34m%\u001b[0m \u001b[0;34m{\u001b[0m\u001b[0;34m\"name\"\u001b[0m\u001b[0;34m:\u001b[0m \u001b[0mtype\u001b[0m\u001b[0;34m(\u001b[0m\u001b[0mestimator\u001b[0m\u001b[0;34m)\u001b[0m\u001b[0;34m.\u001b[0m\u001b[0m__name__\u001b[0m\u001b[0;34m}\u001b[0m\u001b[0;34m)\u001b[0m\u001b[0;34m\u001b[0m\u001b[0;34m\u001b[0m\u001b[0m\n\u001b[0m\u001b[1;32m   1223\u001b[0m \u001b[0;34m\u001b[0m\u001b[0m\n\u001b[1;32m   1224\u001b[0m \u001b[0;34m\u001b[0m\u001b[0m\n",
            "\u001b[0;31mNotFittedError\u001b[0m: This MLPClassifier instance is not fitted yet. Call 'fit' with appropriate arguments before using this estimator."
          ]
        }
      ]
    },
    {
      "cell_type": "code",
      "source": [
        "fig = plot_confusion_matrix(optimal_mlp, X_test, y_test, display_labels=optimal_mlp.classes_)\n",
        "fig.figure_.suptitle(\"Confusion Matrix of the Optimal Node\")\n",
        "plt.show()"
      ],
      "metadata": {
        "colab": {
          "base_uri": "https://localhost:8080/",
          "height": 364
        },
        "id": "bnqWOrKmftuC",
        "outputId": "1130da16-5527-400e-d26f-6d0462b74764"
      },
      "execution_count": null,
      "outputs": [
        {
          "output_type": "stream",
          "name": "stderr",
          "text": [
            "/usr/local/lib/python3.7/dist-packages/sklearn/utils/deprecation.py:87: FutureWarning: Function plot_confusion_matrix is deprecated; Function `plot_confusion_matrix` is deprecated in 1.0 and will be removed in 1.2. Use one of the class methods: ConfusionMatrixDisplay.from_predictions or ConfusionMatrixDisplay.from_estimator.\n",
            "  warnings.warn(msg, category=FutureWarning)\n"
          ]
        },
        {
          "output_type": "display_data",
          "data": {
            "text/plain": [
              "<Figure size 432x288 with 2 Axes>"
            ],
            "image/png": "[encoded data removed]"
          },
          "metadata": {
            "needs_background": "light"
          }
        }
      ]
    },
    {
      "cell_type": "markdown",
      "source": [
        "# Deep Learning"
      ],
      "metadata": {
        "id": "iet3P-AZghpU"
      }
    },
    {
      "cell_type": "code",
      "source": [
        "# Using the same rescaled data\n",
        "\n",
        "X_rescaled.describe().transpose()\n"
      ],
      "metadata": {
        "colab": {
          "base_uri": "https://localhost:8080/",
          "height": 645
        },
        "outputId": "e1460d81-7720-47ff-c5be-c47ec16a299c",
        "id": "ljml1jSOgvfn"
      },
      "execution_count": null,
      "outputs": [
        {
          "output_type": "execute_result",
          "data": {
            "text/plain": [
              "                                          count      mean       std  min  \\\n",
              "population_density                       1407.0  0.087380  0.124723  0.0   \n",
              "poverty_family_below_poverty_level_rate  1407.0  0.152477  0.165763  0.0   \n",
              "education_less_than_high_school_rate     1407.0  0.181297  0.152121  0.0   \n",
              "county_Bergen County                     1407.0  0.089552  0.285641  0.0   \n",
              "county_Burlington County                 1407.0  0.061834  0.240939  0.0   \n",
              "county_Camden County                     1407.0  0.062544  0.242228  0.0   \n",
              "county_Cumberland County                 1407.0  0.018479  0.134724  0.0   \n",
              "county_Essex County                      1407.0  0.103767  0.305066  0.0   \n",
              "county_Hudson County                     1407.0  0.084577  0.278350  0.0   \n",
              "county_Hunterdon County                  1407.0  0.011372  0.106068  0.0   \n",
              "county_Mercer County                     1407.0  0.042644  0.202125  0.0   \n",
              "county_Monmouth County                   1407.0  0.070362  0.255848  0.0   \n",
              "county_Morris County                     1407.0  0.046908  0.211518  0.0   \n",
              "county_Ocean County                      1407.0  0.059701  0.237017  0.0   \n",
              "county_Passaic County                    1407.0  0.045487  0.208443  0.0   \n",
              "county_Salem County                      1407.0  0.012082  0.109293  0.0   \n",
              "county_Sussex County                     1407.0  0.019190  0.137240  0.0   \n",
              "county_Union County                      1407.0  0.052594  0.223301  0.0   \n",
              "county_Warren County                     1407.0  0.014215  0.118417  0.0   \n",
              "\n",
              "                                              25%       50%       75%  max  \n",
              "population_density                       0.018225  0.040872  0.099262  1.0  \n",
              "poverty_family_below_poverty_level_rate  0.039852  0.090509  0.203311  1.0  \n",
              "education_less_than_high_school_rate     0.074707  0.133733  0.234680  1.0  \n",
              "county_Bergen County                     0.000000  0.000000  0.000000  1.0  \n",
              "county_Burlington County                 0.000000  0.000000  0.000000  1.0  \n",
              "county_Camden County                     0.000000  0.000000  0.000000  1.0  \n",
              "county_Cumberland County                 0.000000  0.000000  0.000000  1.0  \n",
              "county_Essex County                      0.000000  0.000000  0.000000  1.0  \n",
              "county_Hudson County                     0.000000  0.000000  0.000000  1.0  \n",
              "county_Hunterdon County                  0.000000  0.000000  0.000000  1.0  \n",
              "county_Mercer County                     0.000000  0.000000  0.000000  1.0  \n",
              "county_Monmouth County                   0.000000  0.000000  0.000000  1.0  \n",
              "county_Morris County                     0.000000  0.000000  0.000000  1.0  \n",
              "county_Ocean County                      0.000000  0.000000  0.000000  1.0  \n",
              "county_Passaic County                    0.000000  0.000000  0.000000  1.0  \n",
              "county_Salem County                      0.000000  0.000000  0.000000  1.0  \n",
              "county_Sussex County                     0.000000  0.000000  0.000000  1.0  \n",
              "county_Union County                      0.000000  0.000000  0.000000  1.0  \n",
              "county_Warren County                     0.000000  0.000000  0.000000  1.0  "
            ],
            "text/html": [
              "\n",
              "  <div id=\"df-e18e8c3b-eeab-4586-8b1c-326d39e0d519\">\n",
              "    <div class=\"colab-df-container\">\n",
              "      <div>\n",
              "<style scoped>\n",
              "    .dataframe tbody tr th:only-of-type {\n",
              "        vertical-align: middle;\n",
              "    }\n",
              "\n",
              "    .dataframe tbody tr th {\n",
              "        vertical-align: top;\n",
              "    }\n",
              "\n",
              "    .dataframe thead th {\n",
              "        text-align: right;\n",
              "    }\n",
              "</style>\n",
              "<table border=\"1\" class=\"dataframe\">\n",
              "  <thead>\n",
              "    <tr style=\"text-align: right;\">\n",
              "      <th></th>\n",
              "      <th>count</th>\n",
              "      <th>mean</th>\n",
              "      <th>std</th>\n",
              "      <th>min</th>\n",
              "      <th>25%</th>\n",
              "      <th>50%</th>\n",
              "      <th>75%</th>\n",
              "      <th>max</th>\n",
              "    </tr>\n",
              "  </thead>\n",
              "  <tbody>\n",
              "    <tr>\n",
              "      <th>population_density</th>\n",
              "      <td>1407.0</td>\n",
              "      <td>0.087380</td>\n",
              "      <td>0.124723</td>\n",
              "      <td>0.0</td>\n",
              "      <td>0.018225</td>\n",
              "      <td>0.040872</td>\n",
              "      <td>0.099262</td>\n",
              "      <td>1.0</td>\n",
              "    </tr>\n",
              "    <tr>\n",
              "      <th>poverty_family_below_poverty_level_rate</th>\n",
              "      <td>1407.0</td>\n",
              "      <td>0.152477</td>\n",
              "      <td>0.165763</td>\n",
              "      <td>0.0</td>\n",
              "      <td>0.039852</td>\n",
              "      <td>0.090509</td>\n",
              "      <td>0.203311</td>\n",
              "      <td>1.0</td>\n",
              "    </tr>\n",
              "    <tr>\n",
              "      <th>education_less_than_high_school_rate</th>\n",
              "      <td>1407.0</td>\n",
              "      <td>0.181297</td>\n",
              "      <td>0.152121</td>\n",
              "      <td>0.0</td>\n",
              "      <td>0.074707</td>\n",
              "      <td>0.133733</td>\n",
              "      <td>0.234680</td>\n",
              "      <td>1.0</td>\n",
              "    </tr>\n",
              "    <tr>\n",
              "      <th>county_Bergen County</th>\n",
              "      <td>1407.0</td>\n",
              "      <td>0.089552</td>\n",
              "      <td>0.285641</td>\n",
              "      <td>0.0</td>\n",
              "      <td>0.000000</td>\n",
              "      <td>0.000000</td>\n",
              "      <td>0.000000</td>\n",
              "      <td>1.0</td>\n",
              "    </tr>\n",
              "    <tr>\n",
              "      <th>county_Burlington County</th>\n",
              "      <td>1407.0</td>\n",
              "      <td>0.061834</td>\n",
              "      <td>0.240939</td>\n",
              "      <td>0.0</td>\n",
              "      <td>0.000000</td>\n",
              "      <td>0.000000</td>\n",
              "      <td>0.000000</td>\n",
              "      <td>1.0</td>\n",
              "    </tr>\n",
              "    <tr>\n",
              "      <th>county_Camden County</th>\n",
              "      <td>1407.0</td>\n",
              "      <td>0.062544</td>\n",
              "      <td>0.242228</td>\n",
              "      <td>0.0</td>\n",
              "      <td>0.000000</td>\n",
              "      <td>0.000000</td>\n",
              "      <td>0.000000</td>\n",
              "      <td>1.0</td>\n",
              "    </tr>\n",
              "    <tr>\n",
              "      <th>county_Cumberland County</th>\n",
              "      <td>1407.0</td>\n",
              "      <td>0.018479</td>\n",
              "      <td>0.134724</td>\n",
              "      <td>0.0</td>\n",
              "      <td>0.000000</td>\n",
              "      <td>0.000000</td>\n",
              "      <td>0.000000</td>\n",
              "      <td>1.0</td>\n",
              "    </tr>\n",
              "    <tr>\n",
              "      <th>county_Essex County</th>\n",
              "      <td>1407.0</td>\n",
              "      <td>0.103767</td>\n",
              "      <td>0.305066</td>\n",
              "      <td>0.0</td>\n",
              "      <td>0.000000</td>\n",
              "      <td>0.000000</td>\n",
              "      <td>0.000000</td>\n",
              "      <td>1.0</td>\n",
              "    </tr>\n",
              "    <tr>\n",
              "      <th>county_Hudson County</th>\n",
              "      <td>1407.0</td>\n",
              "      <td>0.084577</td>\n",
              "      <td>0.278350</td>\n",
              "      <td>0.0</td>\n",
              "      <td>0.000000</td>\n",
              "      <td>0.000000</td>\n",
              "      <td>0.000000</td>\n",
              "      <td>1.0</td>\n",
              "    </tr>\n",
              "    <tr>\n",
              "      <th>county_Hunterdon County</th>\n",
              "      <td>1407.0</td>\n",
              "      <td>0.011372</td>\n",
              "      <td>0.106068</td>\n",
              "      <td>0.0</td>\n",
              "      <td>0.000000</td>\n",
              "      <td>0.000000</td>\n",
              "      <td>0.000000</td>\n",
              "      <td>1.0</td>\n",
              "    </tr>\n",
              "    <tr>\n",
              "      <th>county_Mercer County</th>\n",
              "      <td>1407.0</td>\n",
              "      <td>0.042644</td>\n",
              "      <td>0.202125</td>\n",
              "      <td>0.0</td>\n",
              "      <td>0.000000</td>\n",
              "      <td>0.000000</td>\n",
              "      <td>0.000000</td>\n",
              "      <td>1.0</td>\n",
              "    </tr>\n",
              "    <tr>\n",
              "      <th>county_Monmouth County</th>\n",
              "      <td>1407.0</td>\n",
              "      <td>0.070362</td>\n",
              "      <td>0.255848</td>\n",
              "      <td>0.0</td>\n",
              "      <td>0.000000</td>\n",
              "      <td>0.000000</td>\n",
              "      <td>0.000000</td>\n",
              "      <td>1.0</td>\n",
              "    </tr>\n",
              "    <tr>\n",
              "      <th>county_Morris County</th>\n",
              "      <td>1407.0</td>\n",
              "      <td>0.046908</td>\n",
              "      <td>0.211518</td>\n",
              "      <td>0.0</td>\n",
              "      <td>0.000000</td>\n",
              "      <td>0.000000</td>\n",
              "      <td>0.000000</td>\n",
              "      <td>1.0</td>\n",
              "    </tr>\n",
              "    <tr>\n",
              "      <th>county_Ocean County</th>\n",
              "      <td>1407.0</td>\n",
              "      <td>0.059701</td>\n",
              "      <td>0.237017</td>\n",
              "      <td>0.0</td>\n",
              "      <td>0.000000</td>\n",
              "      <td>0.000000</td>\n",
              "      <td>0.000000</td>\n",
              "      <td>1.0</td>\n",
              "    </tr>\n",
              "    <tr>\n",
              "      <th>county_Passaic County</th>\n",
              "      <td>1407.0</td>\n",
              "      <td>0.045487</td>\n",
              "      <td>0.208443</td>\n",
              "      <td>0.0</td>\n",
              "      <td>0.000000</td>\n",
              "      <td>0.000000</td>\n",
              "      <td>0.000000</td>\n",
              "      <td>1.0</td>\n",
              "    </tr>\n",
              "    <tr>\n",
              "      <th>county_Salem County</th>\n",
              "      <td>1407.0</td>\n",
              "      <td>0.012082</td>\n",
              "      <td>0.109293</td>\n",
              "      <td>0.0</td>\n",
              "      <td>0.000000</td>\n",
              "      <td>0.000000</td>\n",
              "      <td>0.000000</td>\n",
              "      <td>1.0</td>\n",
              "    </tr>\n",
              "    <tr>\n",
              "      <th>county_Sussex County</th>\n",
              "      <td>1407.0</td>\n",
              "      <td>0.019190</td>\n",
              "      <td>0.137240</td>\n",
              "      <td>0.0</td>\n",
              "      <td>0.000000</td>\n",
              "      <td>0.000000</td>\n",
              "      <td>0.000000</td>\n",
              "      <td>1.0</td>\n",
              "    </tr>\n",
              "    <tr>\n",
              "      <th>county_Union County</th>\n",
              "      <td>1407.0</td>\n",
              "      <td>0.052594</td>\n",
              "      <td>0.223301</td>\n",
              "      <td>0.0</td>\n",
              "      <td>0.000000</td>\n",
              "      <td>0.000000</td>\n",
              "      <td>0.000000</td>\n",
              "      <td>1.0</td>\n",
              "    </tr>\n",
              "    <tr>\n",
              "      <th>county_Warren County</th>\n",
              "      <td>1407.0</td>\n",
              "      <td>0.014215</td>\n",
              "      <td>0.118417</td>\n",
              "      <td>0.0</td>\n",
              "      <td>0.000000</td>\n",
              "      <td>0.000000</td>\n",
              "      <td>0.000000</td>\n",
              "      <td>1.0</td>\n",
              "    </tr>\n",
              "  </tbody>\n",
              "</table>\n",
              "</div>\n",
              "      <button class=\"colab-df-convert\" onclick=\"convertToInteractive('df-e18e8c3b-eeab-4586-8b1c-326d39e0d519')\"\n",
              "              title=\"Convert this dataframe to an interactive table.\"\n",
              "              style=\"display:none;\">\n",
              "        \n",
              "  <svg xmlns=\"http://www.w3.org/2000/svg\" height=\"24px\"viewBox=\"0 0 24 24\"\n",
              "       width=\"24px\">\n",
              "    <path d=\"M0 0h24v24H0V0z\" fill=\"none\"/>\n",
              "    <path d=\"M18.56 5.44l.94 2.06.94-2.06 2.06-.94-2.06-.94-.94-2.06-.94 2.06-2.06.94zm-11 1L8.5 8.5l.94-2.06 2.06-.94-2.06-.94L8.5 2.5l-.94 2.06-2.06.94zm10 10l.94 2.06.94-2.06 2.06-.94-2.06-.94-.94-2.06-.94 2.06-2.06.94z\"/><path d=\"M17.41 7.96l-1.37-1.37c-.4-.4-.92-.59-1.43-.59-.52 0-1.04.2-1.43.59L10.3 9.45l-7.72 7.72c-.78.78-.78 2.05 0 2.83L4 21.41c.39.39.9.59 1.41.59.51 0 1.02-.2 1.41-.59l7.78-7.78 2.81-2.81c.8-.78.8-2.07 0-2.86zM5.41 20L4 18.59l7.72-7.72 1.47 1.35L5.41 20z\"/>\n",
              "  </svg>\n",
              "      </button>\n",
              "      \n",
              "  <style>\n",
              "    .colab-df-container {\n",
              "      display:flex;\n",
              "      flex-wrap:wrap;\n",
              "      gap: 12px;\n",
              "    }\n",
              "\n",
              "    .colab-df-convert {\n",
              "      background-color: #E8F0FE;\n",
              "      border: none;\n",
              "      border-radius: 50%;\n",
              "      cursor: pointer;\n",
              "      display: none;\n",
              "      fill: #1967D2;\n",
              "      height: 32px;\n",
              "      padding: 0 0 0 0;\n",
              "      width: 32px;\n",
              "    }\n",
              "\n",
              "    .colab-df-convert:hover {\n",
              "      background-color: #E2EBFA;\n",
              "      box-shadow: 0px 1px 2px rgba(60, 64, 67, 0.3), 0px 1px 3px 1px rgba(60, 64, 67, 0.15);\n",
              "      fill: #174EA6;\n",
              "    }\n",
              "\n",
              "    [theme=dark] .colab-df-convert {\n",
              "      background-color: #3B4455;\n",
              "      fill: #D2E3FC;\n",
              "    }\n",
              "\n",
              "    [theme=dark] .colab-df-convert:hover {\n",
              "      background-color: #434B5C;\n",
              "      box-shadow: 0px 1px 3px 1px rgba(0, 0, 0, 0.15);\n",
              "      filter: drop-shadow(0px 1px 2px rgba(0, 0, 0, 0.3));\n",
              "      fill: #FFFFFF;\n",
              "    }\n",
              "  </style>\n",
              "\n",
              "      <script>\n",
              "        const buttonEl =\n",
              "          document.querySelector('#df-e18e8c3b-eeab-4586-8b1c-326d39e0d519 button.colab-df-convert');\n",
              "        buttonEl.style.display =\n",
              "          google.colab.kernel.accessAllowed ? 'block' : 'none';\n",
              "\n",
              "        async function convertToInteractive(key) {\n",
              "          const element = document.querySelector('#df-e18e8c3b-eeab-4586-8b1c-326d39e0d519');\n",
              "          const dataTable =\n",
              "            await google.colab.kernel.invokeFunction('convertToInteractive',\n",
              "                                                     [key], {});\n",
              "          if (!dataTable) return;\n",
              "\n",
              "          const docLinkHtml = 'Like what you see? Visit the ' +\n",
              "            '<a target=\"_blank\" href=https://colab.research.google.com/notebooks/data_table.ipynb>data table notebook</a>'\n",
              "            + ' to learn more about interactive tables.';\n",
              "          element.innerHTML = '';\n",
              "          dataTable['output_type'] = 'display_data';\n",
              "          await google.colab.output.renderOutput(dataTable, element);\n",
              "          const docLink = document.createElement('div');\n",
              "          docLink.innerHTML = docLinkHtml;\n",
              "          element.appendChild(docLink);\n",
              "        }\n",
              "      </script>\n",
              "    </div>\n",
              "  </div>\n",
              "  "
            ]
          },
          "metadata": {},
          "execution_count": 104
        }
      ]
    },
    {
      "cell_type": "code",
      "metadata": {
        "id": "27zSutHzblxt"
      },
      "source": [
        "# Building the model \n",
        "\n",
        "model = Sequential()\n",
        "model.add(Dense(units=100,activation='relu'))\n",
        "model.add(Dropout(0.5))\n",
        "\n",
        "model.add(Dense(units=50,activation='relu'))\n",
        "model.add(Dropout(0.5))\n",
        "\n",
        "model.add(Dense(units=25,activation='relu'))\n",
        "model.add(Dropout(0.5))\n",
        "\n",
        "model.add(Dense(units=1,activation='sigmoid'))\n",
        "model.compile(loss='binary_crossentropy', optimizer='adam')"
      ],
      "execution_count": null,
      "outputs": []
    },
    {
      "cell_type": "code",
      "metadata": {
        "id": "xqGlQsL7blx0",
        "colab": {
          "base_uri": "https://localhost:8080/"
        },
        "outputId": "cf46055e-03f4-4a13-c630-a4c3e4d66102"
      },
      "source": [
        "from tensorflow.keras.callbacks import EarlyStopping\n",
        "\n",
        "early_stop = EarlyStopping(monitor='val_loss', mode='min', verbose=1, patience=5)\n",
        "\n",
        "model.fit(x=X_train, \n",
        "          y=y_train, \n",
        "          batch_size=30,\n",
        "          epochs=100,\n",
        "          validation_data=(X_test, y_test), verbose=1,\n",
        "          callbacks=[early_stop]\n",
        "          )"
      ],
      "execution_count": null,
      "outputs": [
        {
          "output_type": "stream",
          "name": "stdout",
          "text": [
            "Epoch 1/100\n",
            "47/47 [==============================] - 1s 9ms/step - loss: 0.4940 - val_loss: 0.2959\n",
            "Epoch 2/100\n",
            "47/47 [==============================] - 0s 5ms/step - loss: 0.2748 - val_loss: 0.2499\n",
            "Epoch 3/100\n",
            "47/47 [==============================] - 0s 4ms/step - loss: 0.2703 - val_loss: 0.2344\n",
            "Epoch 4/100\n",
            "47/47 [==============================] - 0s 4ms/step - loss: 0.2439 - val_loss: 0.2281\n",
            "Epoch 5/100\n",
            "47/47 [==============================] - 0s 4ms/step - loss: 0.2227 - val_loss: 0.2255\n",
            "Epoch 6/100\n",
            "47/47 [==============================] - 0s 4ms/step - loss: 0.2188 - val_loss: 0.2206\n",
            "Epoch 7/100\n",
            "47/47 [==============================] - 0s 4ms/step - loss: 0.2132 - val_loss: 0.2190\n",
            "Epoch 8/100\n",
            "47/47 [==============================] - 0s 4ms/step - loss: 0.2103 - val_loss: 0.2161\n",
            "Epoch 9/100\n",
            "47/47 [==============================] - 0s 5ms/step - loss: 0.2018 - val_loss: 0.2174\n",
            "Epoch 10/100\n",
            "47/47 [==============================] - 0s 5ms/step - loss: 0.2120 - val_loss: 0.2165\n",
            "Epoch 11/100\n",
            "47/47 [==============================] - 0s 5ms/step - loss: 0.1966 - val_loss: 0.2169\n",
            "Epoch 12/100\n",
            "47/47 [==============================] - 0s 4ms/step - loss: 0.1960 - val_loss: 0.2174\n",
            "Epoch 13/100\n",
            "47/47 [==============================] - 0s 4ms/step - loss: 0.1993 - val_loss: 0.2122\n",
            "Epoch 14/100\n",
            "47/47 [==============================] - 0s 4ms/step - loss: 0.2017 - val_loss: 0.2105\n",
            "Epoch 15/100\n",
            "47/47 [==============================] - 0s 5ms/step - loss: 0.1877 - val_loss: 0.2115\n",
            "Epoch 16/100\n",
            "47/47 [==============================] - 0s 4ms/step - loss: 0.1946 - val_loss: 0.2132\n",
            "Epoch 17/100\n",
            "47/47 [==============================] - 0s 4ms/step - loss: 0.1874 - val_loss: 0.2108\n",
            "Epoch 18/100\n",
            "47/47 [==============================] - 0s 5ms/step - loss: 0.1939 - val_loss: 0.2104\n",
            "Epoch 19/100\n",
            "47/47 [==============================] - 0s 4ms/step - loss: 0.1831 - val_loss: 0.2107\n",
            "Epoch 20/100\n",
            "47/47 [==============================] - 0s 4ms/step - loss: 0.1827 - val_loss: 0.2131\n",
            "Epoch 21/100\n",
            "47/47 [==============================] - 0s 4ms/step - loss: 0.1796 - val_loss: 0.2136\n",
            "Epoch 22/100\n",
            "47/47 [==============================] - 0s 4ms/step - loss: 0.1814 - val_loss: 0.2157\n",
            "Epoch 23/100\n",
            "47/47 [==============================] - 0s 4ms/step - loss: 0.1826 - val_loss: 0.2119\n",
            "Epoch 23: early stopping\n"
          ]
        },
        {
          "output_type": "execute_result",
          "data": {
            "text/plain": [
              "<keras.callbacks.History at 0x7fed86c5ee90>"
            ]
          },
          "metadata": {},
          "execution_count": 106
        }
      ]
    },
    {
      "cell_type": "code",
      "execution_count": null,
      "metadata": {
        "id": "h4LpvXmoZkfj",
        "colab": {
          "base_uri": "https://localhost:8080/",
          "height": 283
        },
        "outputId": "2bfd5168-1b92-475e-b0e6-22549e238fd3"
      },
      "outputs": [
        {
          "output_type": "execute_result",
          "data": {
            "text/plain": [
              "<matplotlib.axes._subplots.AxesSubplot at 0x7fed8a7525d0>"
            ]
          },
          "metadata": {},
          "execution_count": 107
        },
        {
          "output_type": "display_data",
          "data": {
            "text/plain": [
              "<Figure size 432x288 with 1 Axes>"
            ],
            "image/png": "[encoded data removed]"
          },
          "metadata": {
            "needs_background": "light"
          }
        }
      ],
      "source": [
        "#Visualiztion loss vs val_loss \n",
        "\n",
        "model_loss = pd.DataFrame(model.history.history)\n",
        "model_loss.plot()"
      ]
    },
    {
      "cell_type": "code",
      "execution_count": null,
      "metadata": {
        "id": "53Izj_9tZpIt",
        "colab": {
          "base_uri": "https://localhost:8080/"
        },
        "outputId": "e804c207-3f4f-4591-ccf4-3ccf34d26136"
      },
      "outputs": [
        {
          "output_type": "stream",
          "name": "stdout",
          "text": [
            "19/19 [==============================] - 0s 2ms/step\n"
          ]
        }
      ],
      "source": [
        "y_pred =(model.predict(X_test) > 0.5).astype(\"int32\")"
      ]
    },
    {
      "cell_type": "code",
      "execution_count": null,
      "metadata": {
        "id": "7AOyxY1sZ2LU",
        "colab": {
          "base_uri": "https://localhost:8080/"
        },
        "outputId": "27134a2c-8542-417e-ce3e-5de113bb1e8c"
      },
      "outputs": [
        {
          "output_type": "stream",
          "name": "stdout",
          "text": [
            "              precision    recall  f1-score   support\n",
            "\n",
            "           0       0.93      1.00      0.96       562\n",
            "           1       0.00      0.00      0.00        41\n",
            "\n",
            "    accuracy                           0.93       603\n",
            "   macro avg       0.47      0.50      0.48       603\n",
            "weighted avg       0.87      0.93      0.90       603\n",
            "\n"
          ]
        },
        {
          "output_type": "stream",
          "name": "stderr",
          "text": [
            "/usr/local/lib/python3.7/dist-packages/sklearn/metrics/_classification.py:1318: UndefinedMetricWarning: Precision and F-score are ill-defined and being set to 0.0 in labels with no predicted samples. Use `zero_division` parameter to control this behavior.\n",
            "  _warn_prf(average, modifier, msg_start, len(result))\n",
            "/usr/local/lib/python3.7/dist-packages/sklearn/metrics/_classification.py:1318: UndefinedMetricWarning: Precision and F-score are ill-defined and being set to 0.0 in labels with no predicted samples. Use `zero_division` parameter to control this behavior.\n",
            "  _warn_prf(average, modifier, msg_start, len(result))\n",
            "/usr/local/lib/python3.7/dist-packages/sklearn/metrics/_classification.py:1318: UndefinedMetricWarning: Precision and F-score are ill-defined and being set to 0.0 in labels with no predicted samples. Use `zero_division` parameter to control this behavior.\n",
            "  _warn_prf(average, modifier, msg_start, len(result))\n"
          ]
        }
      ],
      "source": [
        "print(classification_report(y_test,y_pred))"
      ]
    },
    {
      "cell_type": "code",
      "execution_count": null,
      "metadata": {
        "id": "epN90IHQZul7",
        "colab": {
          "base_uri": "https://localhost:8080/"
        },
        "outputId": "3629dafe-3e69-4002-d0f1-4a1d57187cd1"
      },
      "outputs": [
        {
          "output_type": "stream",
          "name": "stdout",
          "text": [
            "[[562   0]\n",
            " [ 41   0]]\n",
            "19/19 [==============================] - 0s 2ms/step\n",
            "ROC AUC:  0.8118652894714\n"
          ]
        }
      ],
      "source": [
        "print(confusion_matrix(y_test,y_pred))\n",
        "print('ROC AUC: ', roc_auc_score(y_test,model.predict(X_test)))"
      ]
    }
  ]
}